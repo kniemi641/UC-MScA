{
  "nbformat": 4,
  "nbformat_minor": 0,
  "metadata": {
    "colab": {
      "name": "Homework 6.ipynb",
      "version": "0.3.2",
      "provenance": [],
      "toc_visible": true,
      "include_colab_link": true
    },
    "kernelspec": {
      "name": "python3",
      "display_name": "Python 3"
    }
  },
  "cells": [
    {
      "cell_type": "markdown",
      "metadata": {
        "id": "view-in-github",
        "colab_type": "text"
      },
      "source": [
        "<a href=\"https://colab.research.google.com/github/kniemi641/UC-MScA/blob/master/ML%20Homework%206%20-%20Boosting.ipynb\" target=\"_parent\"><img src=\"https://colab.research.google.com/assets/colab-badge.svg\" alt=\"Open In Colab\"/></a>"
      ]
    },
    {
      "metadata": {
        "id": "-xz5rL6li2B6",
        "colab_type": "text"
      },
      "cell_type": "markdown",
      "source": [
        "# Homework 6 - Boosting\n",
        "The purpose of this exercise is to examine the effects of various boosting methods on tree classification problems. Specifically random forest models generated using ADA boosting and Gradient boosting will be compared with a standard random forest."
      ]
    },
    {
      "metadata": {
        "id": "hYubukgRPbC1",
        "colab_type": "text"
      },
      "cell_type": "markdown",
      "source": [
        " ## Packages & Variables"
      ]
    },
    {
      "metadata": {
        "id": "DxoLmTNPLZr2",
        "colab_type": "code",
        "outputId": "337fc327-d7fe-49cc-bbe8-7fda6e80dadc",
        "colab": {
          "base_uri": "https://localhost:8080/",
          "height": 51
        }
      },
      "cell_type": "code",
      "source": [
        "import pandas as pd\n",
        "import numpy as np\n",
        "import math\n",
        "import os\n",
        "from scipy import stats\n",
        "\n",
        "from sklearn.model_selection import train_test_split, GridSearchCV\n",
        "from sklearn.metrics import confusion_matrix, classification_report, roc_auc_score, roc_curve, auc\n",
        "from sklearn.preprocessing import StandardScaler\n",
        "from sklearn.ensemble import RandomForestClassifier\n",
        "\n",
        "#Plotting Packages\n",
        "%matplotlib inline\n",
        "import matplotlib\n",
        "import matplotlib.pyplot as plt\n",
        "plt.rcParams['axes.labelsize'] = 14\n",
        "plt.rcParams['xtick.labelsize'] = 12\n",
        "plt.rcParams['ytick.labelsize'] = 12\n",
        "import seaborn as sns\n",
        "\n",
        "#Utilitie warnings\n",
        "import pickle\n",
        "import warnings\n",
        "warnings.filterwarnings('ignore')\n",
        "np.random.seed(235)\n",
        "from google.colab import drive, files\n",
        "drive.mount('/content/gdrive')\n",
        "#uploaded = files.upload()\n",
        ";"
      ],
      "execution_count": 1,
      "outputs": [
        {
          "output_type": "stream",
          "text": [
            "Drive already mounted at /content/gdrive; to attempt to forcibly remount, call drive.mount(\"/content/gdrive\", force_remount=True).\n"
          ],
          "name": "stdout"
        },
        {
          "output_type": "execute_result",
          "data": {
            "text/plain": [
              "''"
            ]
          },
          "metadata": {
            "tags": []
          },
          "execution_count": 1
        }
      ]
    },
    {
      "metadata": {
        "colab_type": "code",
        "id": "TJx53gJI3EJH",
        "colab": {}
      },
      "cell_type": "code",
      "source": [
        "#GLOBAL & CONSTANTS\n",
        "NUM = 4\n",
        "INPUT_DATA_URL = 'https://archive.ics.uci.edu/ml/machine-learning-databases/adult/adult.data'\n",
        "INPUT_DATA_FILE = ''\n",
        "\n",
        "GD_CODE_DIR = '/content/gdrive/My Drive/Code/uchicago/'\n",
        "SUBJECT_DIR = 'Machine Learning & Predictive Analytics/'\n",
        "DATA_DIR = 'data/'\n",
        "MODEL_DIR = 'models/'\n",
        "LOGS_DIR = 'logs/'\n",
        "HOMEWORK_DIR = 'Homework {}/'.format(NUM)\n",
        "NOTEBOOK_NAME = 'Homework {}.ipynb'.format(NUM)\n",
        "\n",
        "MAIN_PATH = os.path.join(GD_CODE_DIR\n",
        "                        ,SUBJECT_DIR\n",
        "                        ,HOMEWORK_DIR)\n",
        "\n",
        "INPUT_FILE = os.path.join(MAIN_PATH\n",
        "                          ,DATA_DIR\n",
        "                          ,INPUT_DATA_FILE)\n",
        "\n",
        "NOTEBOOK_FILE = os.path.join(MAIN_PATH\n",
        "                            ,NOTEBOOK_NAME)\n",
        "\n",
        "MODEL_EXPORT_PATH = os.path.join(MAIN_PATH\n",
        "                                ,MODEL_DIR)\n",
        "\n",
        "LOG_PATH = os.path.join(MAIN_PATH\n",
        "                       ,LOGS_DIR)\n"
      ],
      "execution_count": 0,
      "outputs": []
    },
    {
      "metadata": {
        "id": "My2tz9Zhj6lg",
        "colab_type": "text"
      },
      "cell_type": "markdown",
      "source": [
        "## Data Exploration and Preprocessing\n",
        "\n",
        "The data is imported from the UCI machine learning repository and the column headers are manually added. The first 5 records are shown below."
      ]
    },
    {
      "metadata": {
        "id": "K0JS21RzL9pI",
        "colab_type": "code",
        "outputId": "c57f2c51-1a3b-4608-bc5a-4e7a0a530095",
        "colab": {
          "base_uri": "https://localhost:8080/",
          "height": 204
        }
      },
      "cell_type": "code",
      "source": [
        "adult_data = pd.read_csv(INPUT_DATA_URL, header = None, skipinitialspace=True)\n",
        "list_of_columns = [\"age\",\"workclass\",\"fnlwgt\",\"education\",\"education-num\",\"marital-status\",\"occupation\",\"relationship\",\"race\",\"sex\",\"capital-gain\",\"capital-loss\",\"hours-per-week\" ,\"native-country\", \"salary\"]\n",
        "adult_data.columns = list_of_columns\n",
        "adult_data.head(5)"
      ],
      "execution_count": 12,
      "outputs": [
        {
          "output_type": "execute_result",
          "data": {
            "text/html": [
              "<div>\n",
              "<style scoped>\n",
              "    .dataframe tbody tr th:only-of-type {\n",
              "        vertical-align: middle;\n",
              "    }\n",
              "\n",
              "    .dataframe tbody tr th {\n",
              "        vertical-align: top;\n",
              "    }\n",
              "\n",
              "    .dataframe thead th {\n",
              "        text-align: right;\n",
              "    }\n",
              "</style>\n",
              "<table border=\"1\" class=\"dataframe\">\n",
              "  <thead>\n",
              "    <tr style=\"text-align: right;\">\n",
              "      <th></th>\n",
              "      <th>age</th>\n",
              "      <th>workclass</th>\n",
              "      <th>fnlwgt</th>\n",
              "      <th>education</th>\n",
              "      <th>education-num</th>\n",
              "      <th>marital-status</th>\n",
              "      <th>occupation</th>\n",
              "      <th>relationship</th>\n",
              "      <th>race</th>\n",
              "      <th>sex</th>\n",
              "      <th>capital-gain</th>\n",
              "      <th>capital-loss</th>\n",
              "      <th>hours-per-week</th>\n",
              "      <th>native-country</th>\n",
              "      <th>salary</th>\n",
              "    </tr>\n",
              "  </thead>\n",
              "  <tbody>\n",
              "    <tr>\n",
              "      <th>0</th>\n",
              "      <td>39</td>\n",
              "      <td>State-gov</td>\n",
              "      <td>77516</td>\n",
              "      <td>Bachelors</td>\n",
              "      <td>13</td>\n",
              "      <td>Never-married</td>\n",
              "      <td>Adm-clerical</td>\n",
              "      <td>Not-in-family</td>\n",
              "      <td>White</td>\n",
              "      <td>Male</td>\n",
              "      <td>2174</td>\n",
              "      <td>0</td>\n",
              "      <td>40</td>\n",
              "      <td>United-States</td>\n",
              "      <td>&lt;=50K</td>\n",
              "    </tr>\n",
              "    <tr>\n",
              "      <th>1</th>\n",
              "      <td>50</td>\n",
              "      <td>Self-emp-not-inc</td>\n",
              "      <td>83311</td>\n",
              "      <td>Bachelors</td>\n",
              "      <td>13</td>\n",
              "      <td>Married-civ-spouse</td>\n",
              "      <td>Exec-managerial</td>\n",
              "      <td>Husband</td>\n",
              "      <td>White</td>\n",
              "      <td>Male</td>\n",
              "      <td>0</td>\n",
              "      <td>0</td>\n",
              "      <td>13</td>\n",
              "      <td>United-States</td>\n",
              "      <td>&lt;=50K</td>\n",
              "    </tr>\n",
              "    <tr>\n",
              "      <th>2</th>\n",
              "      <td>38</td>\n",
              "      <td>Private</td>\n",
              "      <td>215646</td>\n",
              "      <td>HS-grad</td>\n",
              "      <td>9</td>\n",
              "      <td>Divorced</td>\n",
              "      <td>Handlers-cleaners</td>\n",
              "      <td>Not-in-family</td>\n",
              "      <td>White</td>\n",
              "      <td>Male</td>\n",
              "      <td>0</td>\n",
              "      <td>0</td>\n",
              "      <td>40</td>\n",
              "      <td>United-States</td>\n",
              "      <td>&lt;=50K</td>\n",
              "    </tr>\n",
              "    <tr>\n",
              "      <th>3</th>\n",
              "      <td>53</td>\n",
              "      <td>Private</td>\n",
              "      <td>234721</td>\n",
              "      <td>11th</td>\n",
              "      <td>7</td>\n",
              "      <td>Married-civ-spouse</td>\n",
              "      <td>Handlers-cleaners</td>\n",
              "      <td>Husband</td>\n",
              "      <td>Black</td>\n",
              "      <td>Male</td>\n",
              "      <td>0</td>\n",
              "      <td>0</td>\n",
              "      <td>40</td>\n",
              "      <td>United-States</td>\n",
              "      <td>&lt;=50K</td>\n",
              "    </tr>\n",
              "    <tr>\n",
              "      <th>4</th>\n",
              "      <td>28</td>\n",
              "      <td>Private</td>\n",
              "      <td>338409</td>\n",
              "      <td>Bachelors</td>\n",
              "      <td>13</td>\n",
              "      <td>Married-civ-spouse</td>\n",
              "      <td>Prof-specialty</td>\n",
              "      <td>Wife</td>\n",
              "      <td>Black</td>\n",
              "      <td>Female</td>\n",
              "      <td>0</td>\n",
              "      <td>0</td>\n",
              "      <td>40</td>\n",
              "      <td>Cuba</td>\n",
              "      <td>&lt;=50K</td>\n",
              "    </tr>\n",
              "  </tbody>\n",
              "</table>\n",
              "</div>"
            ],
            "text/plain": [
              "   age         workclass  fnlwgt  education  education-num  \\\n",
              "0   39         State-gov   77516  Bachelors             13   \n",
              "1   50  Self-emp-not-inc   83311  Bachelors             13   \n",
              "2   38           Private  215646    HS-grad              9   \n",
              "3   53           Private  234721       11th              7   \n",
              "4   28           Private  338409  Bachelors             13   \n",
              "\n",
              "       marital-status         occupation   relationship   race     sex  \\\n",
              "0       Never-married       Adm-clerical  Not-in-family  White    Male   \n",
              "1  Married-civ-spouse    Exec-managerial        Husband  White    Male   \n",
              "2            Divorced  Handlers-cleaners  Not-in-family  White    Male   \n",
              "3  Married-civ-spouse  Handlers-cleaners        Husband  Black    Male   \n",
              "4  Married-civ-spouse     Prof-specialty           Wife  Black  Female   \n",
              "\n",
              "   capital-gain  capital-loss  hours-per-week native-country salary  \n",
              "0          2174             0              40  United-States  <=50K  \n",
              "1             0             0              13  United-States  <=50K  \n",
              "2             0             0              40  United-States  <=50K  \n",
              "3             0             0              40  United-States  <=50K  \n",
              "4             0             0              40           Cuba  <=50K  "
            ]
          },
          "metadata": {
            "tags": []
          },
          "execution_count": 12
        }
      ]
    },
    {
      "metadata": {
        "id": "M6VyOlAAjqcV",
        "colab_type": "text"
      },
      "cell_type": "markdown",
      "source": [
        "The predictors are various demographic and employment attributes of a person, and the response variable is an binary classification of whether the person makes 50k and less than or greater than $50K USD per year.\n",
        "\n",
        "The identification column 'fnlwgt' will not be used and is dropped. The response variable 'salary' is encoded to [0,1] for salary classification of 50k or less and greater than 50k. The data is split into the response, `y`, the salary variable and the rest are used as predictors in the `X` matrix. The X matrix has been dummy encoded for all categorical variables. "
      ]
    },
    {
      "metadata": {
        "id": "8m6BlUIJMI3K",
        "colab_type": "code",
        "colab": {
          "base_uri": "https://localhost:8080/",
          "height": 68
        },
        "outputId": "49f2aab5-edaf-4213-af7f-a33e7d2467f7"
      },
      "cell_type": "code",
      "source": [
        "adult_data.drop('fnlwgt', 1, inplace=True)\n",
        "adult_data['salary'].replace(to_replace=['<=50K', '>50K'], value=[0, 1], inplace=True)\n",
        "\n",
        "adult_df = pd.DataFrame(adult_data)\n",
        "\n",
        "X = adult_df.loc[:, adult_df.columns != 'salary']\n",
        "X_encoded = pd.get_dummies(X)\n",
        "\n",
        "y = np.array(adult_df.loc[:, adult_df.columns == 'salary'].values.ravel())\n",
        "\n",
        "print('Shape of X: {}'.format(X.shape))\n",
        "print('Shape of encoded X: {}'.format(X_encoded.shape))\n",
        "print('Shape of y: {}'.format(y.shape))"
      ],
      "execution_count": 13,
      "outputs": [
        {
          "output_type": "stream",
          "text": [
            "Shape of X: (32561, 13)\n",
            "Shape of encoded X: (32561, 107)\n",
            "Shape of y: (32561,)\n"
          ],
          "name": "stdout"
        }
      ]
    },
    {
      "metadata": {
        "id": "IFMytXWyNn7T",
        "colab_type": "text"
      },
      "cell_type": "markdown",
      "source": [
        "The data is split into train and test with a test ratio of 0.3."
      ]
    },
    {
      "metadata": {
        "id": "9qGO20hzU4Yk",
        "colab_type": "code",
        "outputId": "e60cd714-8f50-49b9-8b5f-363000c8b764",
        "colab": {
          "base_uri": "https://localhost:8080/",
          "height": 51
        }
      },
      "cell_type": "code",
      "source": [
        "X_train, X_test, y_train, y_test = train_test_split(X_encoded, y, test_size = .3, random_state = 235)\n",
        "print('Shape of X train: {}'.format(X_train.shape))\n",
        "print('Shape of X test: {}'.format(X_test.shape))"
      ],
      "execution_count": 14,
      "outputs": [
        {
          "output_type": "stream",
          "text": [
            "Shape of X train: (22792, 107)\n",
            "Shape of X test: (9769, 107)\n"
          ],
          "name": "stdout"
        }
      ]
    },
    {
      "metadata": {
        "id": "1cUeNodAkiAV",
        "colab_type": "text"
      },
      "cell_type": "markdown",
      "source": [
        "## Random Forest\n",
        "\n",
        "Next a random forest model is generated as a baseline using the default scikit-learn parameters. The model score, confusion matrix, and classification report are shown below."
      ]
    },
    {
      "metadata": {
        "id": "04ohRwt8Hptz",
        "colab_type": "code",
        "outputId": "dfc6848a-476c-4ad7-9e31-c2b199e735cc",
        "colab": {
          "base_uri": "https://localhost:8080/",
          "height": 306
        }
      },
      "cell_type": "code",
      "source": [
        "rnd_clf = RandomForestClassifier()\n",
        "rnd_clf.fit(X_train, y_train)\n",
        "\n",
        "base_rf_y_pred_train = rnd_clf.predict(X_train)\n",
        "base_rf_y_pred_prob_train = rnd_clf.predict_proba(X_train)\n",
        "\n",
        "base_rf_y_pred_test = rnd_clf.predict(X_test)\n",
        "base_rf_y_pred_prob_test = rnd_clf.predict_proba(X_test)\n",
        "\n",
        "base_rf_score_train = rnd_clf.score(X_train, y_train)\n",
        "base_rf_grid_score = rnd_clf.score(X_test, y_test)\n",
        "base_rf_conf_mx = confusion_matrix(y_test, base_rf_y_pred_test)\n",
        "base_rf_class_report = classification_report(y_test, base_rf_y_pred_test)\n",
        "\n",
        "print('Model Score (train): {}'.format(round(base_rf_score_train,4)))\n",
        "print('Model Score (test): {}'.format(round(base_rf_grid_score, 4)))\n",
        "print('\\nConfusion Matrix\\n',base_rf_conf_mx)\n",
        "print('\\nClassification Report\\n',base_rf_class_report)"
      ],
      "execution_count": 16,
      "outputs": [
        {
          "output_type": "stream",
          "text": [
            "Model Score (train): 0.9679\n",
            "Model Score (test): 0.8432\n",
            "\n",
            "Confusion Matrix\n",
            " [[6835  600]\n",
            " [ 932 1402]]\n",
            "\n",
            "Classification Report\n",
            "               precision    recall  f1-score   support\n",
            "\n",
            "           0       0.88      0.92      0.90      7435\n",
            "           1       0.70      0.60      0.65      2334\n",
            "\n",
            "   micro avg       0.84      0.84      0.84      9769\n",
            "   macro avg       0.79      0.76      0.77      9769\n",
            "weighted avg       0.84      0.84      0.84      9769\n",
            "\n"
          ],
          "name": "stdout"
        }
      ]
    },
    {
      "metadata": {
        "id": "C3gm-PfAOgxL",
        "colab_type": "text"
      },
      "cell_type": "markdown",
      "source": [
        "The model performs very well on the training data, with a significant drop on test data. Also the classification report shows a large difference in the f1-score, with the TRUE value performing much worse. This could be because the data is skewed towards FALSE responses.  The heat map below shows the large difference between the predictions and actuals for the response. "
      ]
    },
    {
      "metadata": {
        "id": "CgEEqwy0e5iv",
        "colab_type": "code",
        "outputId": "9d8976ee-2b41-4fc6-f788-9121c6616de6",
        "colab": {
          "base_uri": "https://localhost:8080/",
          "height": 284
        }
      },
      "cell_type": "code",
      "source": [
        "def make_heat_map(mx, size=(10,10)):\n",
        "  sns.heatmap(mx\n",
        "              , annot=True\n",
        "              , annot_kws={\"Size\" : 10}\n",
        "              , cmap=\"YlGnBu\")\n",
        "  plt.figure(figsize=size)\n",
        "  plt.show()\n",
        "\n",
        "make_heat_map(base_rf_conf_mx)"
      ],
      "execution_count": 18,
      "outputs": [
        {
          "output_type": "display_data",
          "data": {
            "image/png": "[encoded data removed]",
            "text/plain": [
              "<matplotlib.figure.Figure at 0x7fc632c5b908>"
            ]
          },
          "metadata": {
            "tags": []
          }
        },
        {
          "output_type": "display_data",
          "data": {
            "text/plain": [
              "<matplotlib.figure.Figure at 0x7fc632c5b8d0>"
            ]
          },
          "metadata": {
            "tags": []
          }
        }
      ]
    },
    {
      "metadata": {
        "id": "vI-lTdz7dHe8",
        "colab_type": "text"
      },
      "cell_type": "markdown",
      "source": [
        "The top 5 feature importances are shown below. Age is the strongest predictor but the top 5 predictors only account for just over 0.5 predictive importance."
      ]
    },
    {
      "metadata": {
        "id": "vG-YD2Tbez8d",
        "colab_type": "code",
        "outputId": "3bc5fd56-36b5-497f-d0bd-f800b93abd78",
        "colab": {
          "base_uri": "https://localhost:8080/",
          "height": 384
        }
      },
      "cell_type": "code",
      "source": [
        "def get_top_importances(model, columns, n=5):\n",
        "  importances = model.feature_importances_[:10]\n",
        "  indices = np.argsort(importances)[::-1]\n",
        "\n",
        "  # Print the feature ranking\n",
        "  print(\"Feature ranking:\")\n",
        "\n",
        "  for f in range(n):\n",
        "      print(\"%d. feature %s (%f)\" % (f + 1, columns[indices[f]], importances[indices[f]]))\n",
        "\n",
        "  # Plot the feature importances of the forest\n",
        "  plt.figure()\n",
        "  plt.title(\"Feature importances\")\n",
        "  plt.bar(range(n), importances[indices[:n]],\n",
        "         color=\"r\", align=\"center\")\n",
        "  plt.xticks(range(10), indices)\n",
        "  plt.xlim([-1, n])\n",
        "  plt.show()\n",
        "  \n",
        "get_top_importances(rnd_clf, X_train.columns, 5)"
      ],
      "execution_count": 19,
      "outputs": [
        {
          "output_type": "stream",
          "text": [
            "Feature ranking:\n",
            "1. feature age (0.216711)\n",
            "2. feature capital-gain (0.112471)\n",
            "3. feature hours-per-week (0.104324)\n",
            "4. feature education-num (0.060663)\n",
            "5. feature capital-loss (0.032615)\n"
          ],
          "name": "stdout"
        },
        {
          "output_type": "display_data",
          "data": {
            "image/png": "[encoded data removed]",
            "text/plain": [
              "<matplotlib.figure.Figure at 0x7fc632bf26a0>"
            ]
          },
          "metadata": {
            "tags": []
          }
        }
      ]
    },
    {
      "metadata": {
        "id": "O6lcaSnnO56u",
        "colab_type": "text"
      },
      "cell_type": "markdown",
      "source": [
        "The AUROC score is pretty high. It looks like a well performing model."
      ]
    },
    {
      "metadata": {
        "id": "NiuBdImNOXnQ",
        "colab_type": "code",
        "outputId": "a3a90aa4-6327-45c0-9577-feb2d8032e80",
        "colab": {
          "base_uri": "https://localhost:8080/",
          "height": 34
        }
      },
      "cell_type": "code",
      "source": [
        "base_rf_auc = roc_auc_score(y_test, base_rf_y_pred_prob_test[:,1])\n",
        "print('Area Under the ROC: {}'.format(round(base_rf_auc, 4)))"
      ],
      "execution_count": 23,
      "outputs": [
        {
          "output_type": "stream",
          "text": [
            "Area Under the ROC: 0.8681\n"
          ],
          "name": "stdout"
        }
      ]
    },
    {
      "metadata": {
        "id": "WNpKIIavmbgn",
        "colab_type": "text"
      },
      "cell_type": "markdown",
      "source": [
        "## ADA Boosting\n",
        "\n",
        "Next a model is developed using the ADA boost method. This creates a series sequential simple models using 1 or some small number of predictors, updating the weights of observations based on their misclassification and training a new model on these new weighted observations. These are very simple models however they are aggregated together which form a much more complex voting algorithm. "
      ]
    },
    {
      "metadata": {
        "id": "8ljTXEz9ZuAS",
        "colab_type": "code",
        "outputId": "771af479-67b2-4227-c1ad-9f7ce391bc9c",
        "colab": {
          "base_uri": "https://localhost:8080/",
          "height": 204
        }
      },
      "cell_type": "code",
      "source": [
        "from sklearn.ensemble import AdaBoostClassifier, GradientBoostingClassifier\n",
        "\n",
        "#create a dictionary of parameters \n",
        "lr = np.arange(0.2, 1.2, 0.2)\n",
        "n_est = np.arange(100, 500, 100)\n",
        "\n",
        "ada_param_grid = {'n_estimators':n_est\n",
        "                 , 'learning_rate':lr\n",
        "                 , 'random_state':[0]}\n",
        "\n",
        "ada_clf = AdaBoostClassifier()\n",
        "\n",
        "ada_clf_grid = GridSearchCV(ada_clf\n",
        "                            , ada_param_grid\n",
        "                            , cv = 5\n",
        "                            , refit = True\n",
        "                            , n_jobs=-1\n",
        "                            , verbose = 1)\n",
        "\n",
        "ada_clf_grid.fit(X_train, y_train)"
      ],
      "execution_count": 22,
      "outputs": [
        {
          "output_type": "stream",
          "text": [
            "Fitting 5 folds for each of 20 candidates, totalling 100 fits\n"
          ],
          "name": "stdout"
        },
        {
          "output_type": "stream",
          "text": [
            "[Parallel(n_jobs=-1)]: Using backend LokyBackend with 2 concurrent workers.\n",
            "[Parallel(n_jobs=-1)]: Done  46 tasks      | elapsed:  3.3min\n",
            "[Parallel(n_jobs=-1)]: Done 100 out of 100 | elapsed:  7.7min finished\n"
          ],
          "name": "stderr"
        },
        {
          "output_type": "execute_result",
          "data": {
            "text/plain": [
              "GridSearchCV(cv=5, error_score='raise-deprecating',\n",
              "       estimator=AdaBoostClassifier(algorithm='SAMME.R', base_estimator=None,\n",
              "          learning_rate=1.0, n_estimators=50, random_state=None),\n",
              "       fit_params=None, iid='warn', n_jobs=-1,\n",
              "       param_grid={'n_estimators': array([100, 200, 300, 400]), 'learning_rate': array([0.2, 0.4, 0.6, 0.8, 1. ]), 'random_state': [0]},\n",
              "       pre_dispatch='2*n_jobs', refit=True, return_train_score='warn',\n",
              "       scoring=None, verbose=1)"
            ]
          },
          "metadata": {
            "tags": []
          },
          "execution_count": 22
        }
      ]
    },
    {
      "metadata": {
        "id": "LNX5SZcmwsee",
        "colab_type": "text"
      },
      "cell_type": "markdown",
      "source": [
        "The output from the best estimator object is the ADA-boost classifier with the best parameters (rated by cross validation) obtained from the grid search. These model is then used to make predictions on the train and test data, calculate the model score, confusion matrix, and classification report. "
      ]
    },
    {
      "metadata": {
        "id": "9uZg7VLQaLtL",
        "colab_type": "code",
        "colab": {
          "base_uri": "https://localhost:8080/",
          "height": 34
        },
        "outputId": "1df925dc-07d9-4c32-d57d-0076e60b2d8e"
      },
      "cell_type": "code",
      "source": [
        "ada_clf_best_estimator = ada_clf_grid.best_estimator_\n",
        "ada_clf_best_params = ada_clf_grid.best_params_\n",
        "print(\"Best ADA Model Parameters: {}\".format(ada_clf_best_params))"
      ],
      "execution_count": 24,
      "outputs": [
        {
          "output_type": "stream",
          "text": [
            "Best ADA Model Parameters: {'learning_rate': 1.0, 'n_estimators': 400, 'random_state': 0}\n"
          ],
          "name": "stdout"
        }
      ]
    },
    {
      "metadata": {
        "id": "Qkbyaxgxg6TT",
        "colab_type": "code",
        "outputId": "66e0b56c-9d75-4efa-fbed-06101959eddf",
        "colab": {
          "base_uri": "https://localhost:8080/",
          "height": 306
        }
      },
      "cell_type": "code",
      "source": [
        "ada_rf_y_pred_train = ada_clf_best_estimator.predict(X_train)\n",
        "ada_rf_y_pred_prob_train = ada_clf_best_estimator.predict_proba(X_train)\n",
        "\n",
        "ada_rf_y_pred_test = ada_clf_best_estimator.predict(X_test)\n",
        "ada_rf_y_pred_prob_test = ada_clf_best_estimator.predict_proba(X_test)\n",
        "\n",
        "ada_rf_score_train = ada_clf_best_estimator.score(X_train, y_train)\n",
        "ada_rf_score = ada_clf_best_estimator.score(X_test, y_test)\n",
        "ada_rf_conf_mx = confusion_matrix(y_test, base_rf_y_pred_test)\n",
        "ada_rf_class_report = classification_report(y_test, base_rf_y_pred_test)\n",
        "\n",
        "print('Model Score (train): {}'.format(round(ada_rf_score_train,4)))\n",
        "print('Model Score (test): {}'.format(round(ada_rf_score, 4)))\n",
        "print('\\nConfusion Matrix\\n',ada_rf_conf_mx)\n",
        "print('\\nClassification Report\\n',ada_rf_class_report)"
      ],
      "execution_count": 26,
      "outputs": [
        {
          "output_type": "stream",
          "text": [
            "Model Score (train): 0.8727\n",
            "Model Score (test): 0.8661\n",
            "\n",
            "Confusion Matrix\n",
            " [[6835  600]\n",
            " [ 932 1402]]\n",
            "\n",
            "Classification Report\n",
            "               precision    recall  f1-score   support\n",
            "\n",
            "           0       0.88      0.92      0.90      7435\n",
            "           1       0.70      0.60      0.65      2334\n",
            "\n",
            "   micro avg       0.84      0.84      0.84      9769\n",
            "   macro avg       0.79      0.76      0.77      9769\n",
            "weighted avg       0.84      0.84      0.84      9769\n",
            "\n"
          ],
          "name": "stdout"
        }
      ]
    },
    {
      "metadata": {
        "id": "JnCylyatQ7Ch",
        "colab_type": "text"
      },
      "cell_type": "markdown",
      "source": [
        "The model performance has somewhat improved. Not drastically but the weak learning method has definitley improved the model performance and robustness. "
      ]
    },
    {
      "metadata": {
        "id": "DR2BmxtWfeXw",
        "colab_type": "code",
        "outputId": "85da0a84-e291-4939-cbb4-74e24f8e9b5d",
        "colab": {
          "base_uri": "https://localhost:8080/",
          "height": 284
        }
      },
      "cell_type": "code",
      "source": [
        "make_heat_map(ada_rf_conf_mx)"
      ],
      "execution_count": 30,
      "outputs": [
        {
          "output_type": "display_data",
          "data": {
            "image/png": "[encoded data removed]",
            "text/plain": [
              "<matplotlib.figure.Figure at 0x7fc632ca1be0>"
            ]
          },
          "metadata": {
            "tags": []
          }
        },
        {
          "output_type": "display_data",
          "data": {
            "text/plain": [
              "<matplotlib.figure.Figure at 0x7fc62f0f9a58>"
            ]
          },
          "metadata": {
            "tags": []
          }
        }
      ]
    },
    {
      "metadata": {
        "id": "Os3p2MVuRUuE",
        "colab_type": "code",
        "outputId": "76f71388-339f-4248-a45b-e671fa846398",
        "colab": {
          "base_uri": "https://localhost:8080/",
          "height": 384
        }
      },
      "cell_type": "code",
      "source": [
        "get_top_importances(ada_clf_best_estimator, X_train.columns, 5)"
      ],
      "execution_count": 31,
      "outputs": [
        {
          "output_type": "stream",
          "text": [
            "Feature ranking:\n",
            "1. feature capital-gain (0.350000)\n",
            "2. feature capital-loss (0.332500)\n",
            "3. feature age (0.085000)\n",
            "4. feature hours-per-week (0.022500)\n",
            "5. feature education-num (0.012500)\n"
          ],
          "name": "stdout"
        },
        {
          "output_type": "display_data",
          "data": {
            "image/png": "[encoded data removed]",
            "text/plain": [
              "<matplotlib.figure.Figure at 0x7fc62dfe09e8>"
            ]
          },
          "metadata": {
            "tags": []
          }
        }
      ]
    },
    {
      "metadata": {
        "id": "eTEk8OesRytj",
        "colab_type": "text"
      },
      "cell_type": "markdown",
      "source": [
        "From the feature importance plot above, the feature importances of the top 5 have a sum of over 0.8. These are the stumps which have honed on these weighted observations, particularly the capital-gain and capital-loss predictors.\n",
        "\n",
        "The AUCROC has improved as well."
      ]
    },
    {
      "metadata": {
        "id": "AfMLCfRGQPzw",
        "colab_type": "code",
        "outputId": "fbaeffe3-27bb-47b6-fcdd-fab37092fd22",
        "colab": {
          "base_uri": "https://localhost:8080/",
          "height": 34
        }
      },
      "cell_type": "code",
      "source": [
        "ada_rf_auc = roc_auc_score(y_test, ada_rf_y_pred_prob_test[:,1])\n",
        "print('Area Under the ROC: {}'.format(round(ada_rf_auc, 4)))"
      ],
      "execution_count": 32,
      "outputs": [
        {
          "output_type": "stream",
          "text": [
            "Area Under the ROC: 0.9242\n"
          ],
          "name": "stdout"
        }
      ]
    },
    {
      "metadata": {
        "id": "fJT53OWbxGMN",
        "colab_type": "text"
      },
      "cell_type": "markdown",
      "source": [
        "The model is also much less overfit if at all. "
      ]
    },
    {
      "metadata": {
        "id": "JrMroQWWmemO",
        "colab_type": "text"
      },
      "cell_type": "markdown",
      "source": [
        "## Gradient Boosting\n",
        "\n",
        "Next a model is generated using the gradient boosted method which uses the residuals of a model as input to the next model to be trained."
      ]
    },
    {
      "metadata": {
        "id": "NrOfvi6ViSlu",
        "colab_type": "code",
        "outputId": "abf6fe96-45b4-4f19-93fe-be4f6b947728",
        "colab": {
          "base_uri": "https://localhost:8080/",
          "height": 289
        }
      },
      "cell_type": "code",
      "source": [
        "#create a dictionary of parameters \n",
        "lr = np.arange(0.2, 1.2, 0.2)\n",
        "n_est = np.arange(100, 500, 100)\n",
        "max_dep = np.array([1,2])\n",
        "\n",
        "gb_param_grid = {'n_estimators':n_est\n",
        "                , 'learning_rate':lr\n",
        "                , 'max_depth':max_dep\n",
        "                , 'random_state':[99]}\n",
        "\n",
        "gb_clf = GradientBoostingClassifier()\n",
        "\n",
        "gb_clf_grid = GridSearchCV(gb_clf\n",
        "                           , gb_param_grid\n",
        "                           , cv = 5\n",
        "                           , refit = True\n",
        "                           , n_jobs=-1\n",
        "                           , verbose = 1)\n",
        "\n",
        "gb_clf_grid.fit(X_train, y_train)"
      ],
      "execution_count": 33,
      "outputs": [
        {
          "output_type": "stream",
          "text": [
            "Fitting 5 folds for each of 40 candidates, totalling 200 fits\n"
          ],
          "name": "stdout"
        },
        {
          "output_type": "stream",
          "text": [
            "[Parallel(n_jobs=-1)]: Using backend LokyBackend with 2 concurrent workers.\n",
            "[Parallel(n_jobs=-1)]: Done  46 tasks      | elapsed:  2.4min\n",
            "[Parallel(n_jobs=-1)]: Done 196 tasks      | elapsed: 10.5min\n",
            "[Parallel(n_jobs=-1)]: Done 200 out of 200 | elapsed: 10.9min finished\n"
          ],
          "name": "stderr"
        },
        {
          "output_type": "execute_result",
          "data": {
            "text/plain": [
              "GridSearchCV(cv=5, error_score='raise-deprecating',\n",
              "       estimator=GradientBoostingClassifier(criterion='friedman_mse', init=None,\n",
              "              learning_rate=0.1, loss='deviance', max_depth=3,\n",
              "              max_features=None, max_leaf_nodes=None,\n",
              "              min_impurity_decrease=0.0, min_impurity_split=None,\n",
              "              min_samples_leaf=1, min_sampl...      subsample=1.0, tol=0.0001, validation_fraction=0.1,\n",
              "              verbose=0, warm_start=False),\n",
              "       fit_params=None, iid='warn', n_jobs=-1,\n",
              "       param_grid={'n_estimators': array([100, 200, 300, 400]), 'learning_rate': array([0.2, 0.4, 0.6, 0.8, 1. ]), 'max_depth': array([1, 2]), 'random_state': [99]},\n",
              "       pre_dispatch='2*n_jobs', refit=True, return_train_score='warn',\n",
              "       scoring=None, verbose=1)"
            ]
          },
          "metadata": {
            "tags": []
          },
          "execution_count": 33
        }
      ]
    },
    {
      "metadata": {
        "id": "vXgb17p0SePL",
        "colab_type": "text"
      },
      "cell_type": "markdown",
      "source": [
        "The output from the best estimator object is the Gradent Boost classifier with the best parameters (rated by cross validation) obtained from the grid search. These model is then used to make predictions on the train and test data, calculate the model score, confusion matrix, and classification report. "
      ]
    },
    {
      "metadata": {
        "id": "4LM46_wJbAQG",
        "colab_type": "code",
        "colab": {
          "base_uri": "https://localhost:8080/",
          "height": 34
        },
        "outputId": "5a1d9b80-9075-4dfa-b76a-4e507e4bcf74"
      },
      "cell_type": "code",
      "source": [
        "gb_clf_best_estimator = gb_clf_grid.best_estimator_\n",
        "gb_clf_best_params = gb_clf_grid.best_params_\n",
        "print(\"Best GB Model Parameters: {}\".format(gb_clf_best_params))"
      ],
      "execution_count": 34,
      "outputs": [
        {
          "output_type": "stream",
          "text": [
            "Best GB Model Parameters: {'learning_rate': 0.4, 'max_depth': 2, 'n_estimators': 400, 'random_state': 99}\n"
          ],
          "name": "stdout"
        }
      ]
    },
    {
      "metadata": {
        "id": "8JWgCKGbl-KN",
        "colab_type": "code",
        "colab": {
          "base_uri": "https://localhost:8080/",
          "height": 306
        },
        "outputId": "91ae6972-c9a6-4198-eaf2-f8ac4fa87a34"
      },
      "cell_type": "code",
      "source": [
        "gb_rf_y_pred_train = gb_clf_best_estimator.predict(X_train)\n",
        "gb_rf_y_pred_prob_train = gb_clf_best_estimator.predict_proba(X_train)\n",
        "\n",
        "gb_rf_y_pred_test = gb_clf_best_estimator.predict(X_test)\n",
        "gb_rf_y_pred_prob_test = gb_clf_best_estimator.predict_proba(X_test)\n",
        "\n",
        "gb_rf_score_train = gb_clf_best_estimator.score(X_train, y_train)\n",
        "gb_rf_score = gb_clf_best_estimator.score(X_test, y_test)\n",
        "gb_rf_conf_mx = confusion_matrix(y_test, gb_rf_y_pred_test)\n",
        "gb_rf_class_report = classification_report(y_test, gb_rf_y_pred_test)\n",
        "\n",
        "print('Model Score (train): {}'.format(round(gb_rf_score_train,4)))\n",
        "print('Model Score (test): {}'.format(round(gb_rf_score, 4)))\n",
        "print('\\nConfusion Matrix\\n',gb_rf_conf_mx)\n",
        "print('\\nClassification Report\\n',gb_rf_class_report)"
      ],
      "execution_count": 39,
      "outputs": [
        {
          "output_type": "stream",
          "text": [
            "Model Score (train): 0.8874\n",
            "Model Score (test): 0.8715\n",
            "\n",
            "Confusion Matrix\n",
            " [[6999  436]\n",
            " [ 819 1515]]\n",
            "\n",
            "Classification Report\n",
            "               precision    recall  f1-score   support\n",
            "\n",
            "           0       0.90      0.94      0.92      7435\n",
            "           1       0.78      0.65      0.71      2334\n",
            "\n",
            "   micro avg       0.87      0.87      0.87      9769\n",
            "   macro avg       0.84      0.80      0.81      9769\n",
            "weighted avg       0.87      0.87      0.87      9769\n",
            "\n"
          ],
          "name": "stdout"
        }
      ]
    },
    {
      "metadata": {
        "id": "gszE_q7wSrxZ",
        "colab_type": "text"
      },
      "cell_type": "markdown",
      "source": [
        "The model performs just slightly better than the ADA-boost model. However the feature importances look much similar to the standard model. The top 5 features only account for 0.6 of the predictive power."
      ]
    },
    {
      "metadata": {
        "id": "dInCog1kf1cy",
        "colab_type": "code",
        "colab": {
          "base_uri": "https://localhost:8080/",
          "height": 284
        },
        "outputId": "446ef202-2304-43e7-fd72-a3197953966e"
      },
      "cell_type": "code",
      "source": [
        "make_heat_map(gb_rf_conf_mx)"
      ],
      "execution_count": 40,
      "outputs": [
        {
          "output_type": "display_data",
          "data": {
            "image/png": "[encoded data removed]",
            "text/plain": [
              "<matplotlib.figure.Figure at 0x7fc62e010828>"
            ]
          },
          "metadata": {
            "tags": []
          }
        },
        {
          "output_type": "display_data",
          "data": {
            "text/plain": [
              "<matplotlib.figure.Figure at 0x7fc62dfafa90>"
            ]
          },
          "metadata": {
            "tags": []
          }
        }
      ]
    },
    {
      "metadata": {
        "id": "6QDfYMFMRc8w",
        "colab_type": "code",
        "colab": {
          "base_uri": "https://localhost:8080/",
          "height": 384
        },
        "outputId": "d5ae23ba-9496-4e01-d36b-74e76049fc38"
      },
      "cell_type": "code",
      "source": [
        "get_top_importances(gb_clf_best_estimator, X_train.columns, 5)"
      ],
      "execution_count": 41,
      "outputs": [
        {
          "output_type": "stream",
          "text": [
            "Feature ranking:\n",
            "1. feature capital-gain (0.228600)\n",
            "2. feature education-num (0.175090)\n",
            "3. feature capital-loss (0.071660)\n",
            "4. feature age (0.061781)\n",
            "5. feature hours-per-week (0.042111)\n"
          ],
          "name": "stdout"
        },
        {
          "output_type": "display_data",
          "data": {
            "image/png": "[encoded data removed]",
            "text/plain": [
              "<matplotlib.figure.Figure at 0x7fc62df132b0>"
            ]
          },
          "metadata": {
            "tags": []
          }
        }
      ]
    },
    {
      "metadata": {
        "id": "ynYoStuDTAbc",
        "colab_type": "text"
      },
      "cell_type": "markdown",
      "source": [
        "Similar AUROC score to the ADA-boost model and no over fitting what so ever."
      ]
    },
    {
      "metadata": {
        "id": "MWhaqSDpQVj7",
        "colab_type": "code",
        "colab": {
          "base_uri": "https://localhost:8080/",
          "height": 34
        },
        "outputId": "30c471a2-0f77-4272-fafc-16e0cbbc8c32"
      },
      "cell_type": "code",
      "source": [
        "gb_rf_auc = roc_auc_score(y_test, gb_rf_y_pred_prob_test[:,1])\n",
        "print('Area Under the ROC: {}'.format(round(gb_rf_auc, 4)))"
      ],
      "execution_count": 42,
      "outputs": [
        {
          "output_type": "stream",
          "text": [
            "Area Under the ROC: 0.9286\n"
          ],
          "name": "stdout"
        }
      ]
    },
    {
      "metadata": {
        "id": "ZCQUtfMAmhTJ",
        "colab_type": "text"
      },
      "cell_type": "markdown",
      "source": [
        "## Analysis\n",
        "\n",
        "\n",
        "\n",
        "5.   The alpha value represents how accurate a given predictor is. It is calculated as the logit of the error rate. If the predictor is performing similarly to random chance, then the alpha value will be close to 0.\n",
        "6.   Ada boost makes the final prediction by computing the predictions of all the models, weights them by their alpha value and the prediction with the hightest value wins.\n",
        "7.   The max_depth parameter represents the maximum number of nodes in a tree. This hyper parameter can help tune overfitting by allowing us to reduce the depth a tree can grow to. This can help stop the model from memorizing the training data.\n",
        "8.   The top 5 features from the models are some ranking of the continuous predictors Age, Education, Hours per Week, Capital-Gain and Capital-Loss. These features confirm what we already know. An older, more educated person who works more hours and has some type of investments versus some who doesn't have those qualities, will be likely make more than $50K USD, approximately the average household income.\n",
        "9.   Based on the classification reports, the gradient boosted random forest performs the best. The difference between the classification report metrics between train and test are negligible, indicating no overfitting. The optimal hyper-parameters are shown below.\n",
        "10.  See the below for the ROC plot for the ADA-boost model.\n",
        "\n",
        "\n",
        "\n"
      ]
    },
    {
      "metadata": {
        "id": "eUOUhB8YDefz",
        "colab_type": "code",
        "colab": {}
      },
      "cell_type": "code",
      "source": [
        "print(\"Optimal GB Model parameters from grid search:\\n {}\".format(gb_clf_best_params))"
      ],
      "execution_count": 0,
      "outputs": []
    },
    {
      "metadata": {
        "id": "I7iP8DbMo8Ay",
        "colab_type": "code",
        "colab": {}
      },
      "cell_type": "code",
      "source": [
        "def create_roc_plot(y_test, y_hat_test_prob):\n",
        "  # limit to probability for class = 1 \n",
        "  fpr = dict()\n",
        "  tpr = dict()\n",
        "  roc_auc = dict()\n",
        "  for i in range(20):\n",
        "      fpr[i], tpr[i], _ = roc_curve(y_test, y_hat_test_prob)\n",
        "      roc_auc[i] = auc(fpr[i], tpr[i])\n",
        "\n",
        "  plt.figure()\n",
        "  plt.plot(fpr[1], tpr[1])\n",
        "  plt.xlim([0.0, 1.0])\n",
        "  plt.ylim([0.0, 1.05])\n",
        "  plt.xlabel('False Positive Rate')\n",
        "  plt.ylabel('True Positive Rate')\n",
        "  plt.title('Receiver operating characteristic')\n",
        "  plt.show()\n",
        "  \n",
        "  \n",
        "create_roc_plot(y_test ,ada_rf_y_pred_prob_test[:,1])\n"
      ],
      "execution_count": 0,
      "outputs": []
    },
    {
      "metadata": {
        "id": "Gzlft8GplYLa",
        "colab_type": "code",
        "colab": {}
      },
      "cell_type": "code",
      "source": [
        "!jupyter nbconvert --to html '/content/gdrive/My Drive/Code/Machine Learning & Predictive Analytics/Homework 6/Homework 6.ipynb'"
      ],
      "execution_count": 0,
      "outputs": []
    }
  ]
}