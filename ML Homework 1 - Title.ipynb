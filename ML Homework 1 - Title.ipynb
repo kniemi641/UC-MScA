{
  "nbformat": 4,
  "nbformat_minor": 0,
  "metadata": {
    "colab": {
      "name": "Copy of Homework 1.ipynb",
      "version": "0.3.2",
      "provenance": [],
      "collapsed_sections": [],
      "toc_visible": true,
      "include_colab_link": true
    },
    "kernelspec": {
      "display_name": "Python 3",
      "language": "python",
      "name": "python3"
    }
  },
  "cells": [
    {
      "cell_type": "markdown",
      "metadata": {
        "id": "view-in-github",
        "colab_type": "text"
      },
      "source": [
        "<a href=\"https://colab.research.google.com/github/kniemi641/UC-MScA/blob/master/ML%20Homework%201%20-%20Title.ipynb\" target=\"_parent\"><img src=\"https://colab.research.google.com/assets/colab-badge.svg\" alt=\"Open In Colab\"/></a>"
      ]
    },
    {
      "metadata": {
        "id": "oGfwMjPO4wPj",
        "colab_type": "code",
        "colab": {}
      },
      "cell_type": "code",
      "source": [
        "%%capture\n",
        "# Generic Packages\n",
        "import pandas as pd\n",
        "import numpy as np\n",
        "import math\n",
        "import os\n",
        "from scipy import stats\n",
        "\n",
        "# Model Packages\n",
        "from sklearn.linear_model import LinearRegression\n",
        "#from sklearn.model_selection import train_test_split\n",
        "from sklearn.metrics import mean_squared_error, explained_variance_score\n",
        "#from sklearn.preprocessing import StandardScaler\n",
        "\n",
        "#Plotting Packages\n",
        "%matplotlib inline\n",
        "import matplotlib\n",
        "import pylab \n",
        "import matplotlib.pyplot as plt\n",
        "plt.rcParams['axes.labelsize'] = 14\n",
        "plt.rcParams['xtick.labelsize'] = 12\n",
        "plt.rcParams['ytick.labelsize'] = 12\n",
        "import seaborn as sns\n",
        "\n",
        "#Utility stuff\n",
        "import warnings\n",
        "warnings.filterwarnings('ignore')\n",
        "from google.colab import drive, files\n",
        "drive.mount('/content/gdrive')\n",
        "\n",
        "np.random.seed(235)"
      ],
      "execution_count": 0,
      "outputs": []
    },
    {
      "metadata": {
        "id": "gVvzWZYRkd1X",
        "colab_type": "code",
        "colab": {}
      },
      "cell_type": "code",
      "source": [
        "#INPUT PARAMETERS\n",
        "NUM=1\n",
        "INPUT_DATA_FILE='bottle.csv'\n",
        "NOTEBOOK_NAME='Ambassador {}.ipynb'.format(NUM)"
      ],
      "execution_count": 0,
      "outputs": []
    },
    {
      "metadata": {
        "id": "Q_FC8k0D43tb",
        "colab_type": "code",
        "colab": {}
      },
      "cell_type": "code",
      "source": [
        "#GLOBAL PARAMETERS\n",
        "GD_CODE_DIR='/content/gdrive/My Drive/Code/uchicago/'\n",
        "SUBJECT_DIR='Machine Learning & Predictive Analytics/'\n",
        "HOMEWORK_DIR='Homework {}'.format(HW_NUM)\n",
        "\n",
        "#GENERIC PARAMETERS\n",
        "DATA_DIR='data/'\n",
        "MODEL_DIR='models/'\n",
        "LOGS_DIR = 'logs/'\n",
        "\n",
        "MAIN_PATH=os.path.join(GD_CODE_DIR\n",
        "                      ,SUBJECT_DIR\n",
        "                      ,HOMEWORK_DIR)\n",
        "\n",
        "INPUT_FILE=os.path.join(MAIN_PATH\n",
        "                       ,DATA_DIR\n",
        "                       ,INPUT_DATA_FILE)\n",
        "\n",
        "NOTEBOOK_FILE=os.path.join(MAIN_PATH\n",
        "                          ,NOTEBOOK_NAME)\n",
        "\n",
        "MODEL_EXPORT_PATH=os.path.join(MAIN_PATH\n",
        "                              ,MODEL_DIR)\n",
        "\n",
        "LOG_PATH=os.path.join(MAIN_PATH\n",
        "                     ,LOGS_DIR)"
      ],
      "execution_count": 0,
      "outputs": []
    },
    {
      "metadata": {
        "id": "uaEwguL24wPn",
        "colab_type": "text"
      },
      "cell_type": "markdown",
      "source": [
        "# Multivariate Linear Regression\n",
        "\n",
        "The purpose of this exercise is to create a multivariate linear regression model from the data provided in the \"bottle.csv\" file. The variables, Salnty & STheta, are used as predictors in the model, and 'T_DegC' will be the response. \n",
        "\n",
        "*Sooooooo* what does that exactly mean? 😳\n",
        "\n",
        "I'm sure some of you are familiar with this concept of a regression and creating a best fit line and getting an equation in the format below:\n",
        "\n",
        "$y = mx + b$\n",
        "\n",
        "Often done on scatter plots in excel, used to predict observations based on new data, or measure how well your predictions are doing. But have you ever wondered how exactly excel calculates figures out this equation?\n",
        "\n",
        "> No??  \n",
        "\n",
        "Well too bad!! Thats what were gonna do today!\n",
        "#### Huhzah!\n",
        "Well thats *almost*  what we'll be doing but more like....\n",
        "\n",
        "$ y_i =  \\beta_1x_1i + \\beta_2x_1i + \\beta_0x_0i + \\epsilon$\n",
        "\n",
        "\n",
        "where \n",
        "* $y_{i}$ is the prediction of the response from our Linear Regression model model for an observation $i$\n",
        "* $x_{1i}$ and $x_{2i}$ are the values of our predictor variables $x_1$ and $x_2$ at observation  $i$\n",
        "* $x_{0}$ is a little funky, it represents a 0 value for our predictors \n",
        "* $\\epsilon$ is our error term and theres plenty more you'll learn about that in the future\n",
        "\n",
        "In fact $x_{0}$ is exactly the same as our intercept $b$ from the first equation . The value $m$  is represented by the combination of the product of  $X_i$ (all of our predictors in one variable) with  $\\beta_i$ (all the coefficients from the model, one per predictor plus intercept):\n",
        "\n",
        "So once we get this equation we've done our Linear Regression model!\n",
        "\n",
        "**y** =  $\\beta$**$X$** $+\\epsilon$\n",
        "\n",
        "🤯\n",
        "\n",
        "So **thats** what were going to be doing today! \n",
        "\n",
        "Along the way we'll calculate Root Mean Squared Error R-squared using the **sklearn package** and using the **normal equation** to show that the normal equation is indeed equivalent to the sklearn LinearRegression API in sklearn."
      ]
    },
    {
      "metadata": {
        "id": "6Ylddtu3ALUE",
        "colab_type": "text"
      },
      "cell_type": "markdown",
      "source": [
        "## Exploratory Analysis\n",
        "\n",
        "**It's always a good idea to explore the data you're working with before starting to build any model or even start preprocessing** This seems obvious now but its so important in **literally any model you build**, because ultimitaley you can glean *some business context* which may be present data as its given to you. Lets get some basics out of the way:\n",
        "\n",
        "*   Use the function **read_csv** from **pd** module to read the data referenced in the variable *INPUT_FILE* (FYI which contains the file input path + name)\n",
        "*   Turn it into a **dataframe**  often using *df* to denote the data is helpful. A data frame is a **pandas** specific data type in **Python** that makes life very easy for us. You will become more familiar with these in the future. **Dataframes are also used in R, those we''ll be coming at you Stats!**\n",
        "*   Print a *df*.**describe()**. This describe **method** can help us get a good high level feeling for whats in our data.\n",
        "*   Print the columns - Lets see what were working whats variables we got!  \n",
        "\n",
        "Worth going through some time, but not now!\n",
        "[Documentation - 10 Minutes to pandas](https://pandas.pydata.org/pandas-docs/stable/10min.html)\n",
        "\n",
        "\n"
      ]
    },
    {
      "metadata": {
        "id": "hKXvNJRhttk9",
        "colab_type": "code",
        "outputId": "b88877b1-1e54-44c9-9530-1b1a009221f1",
        "colab": {
          "base_uri": "https://localhost:8080/",
          "height": 1122
        }
      },
      "cell_type": "code",
      "source": [
        "import pandas as pd\n",
        "\n",
        "#Load Data and take a look\n",
        "water_data = pd.read_csv(INPUT_FILE)\n",
        "water_df = pd.DataFrame(water_data)\n",
        "print(water_df.describe())\n",
        "#pass variables into strings using {} & . format \\()\n",
        "print('\\n Columns from input file: \\n {}'.format(water_df.columns))"
      ],
      "execution_count": 0,
      "outputs": [
        {
          "output_type": "stream",
          "text": [
            "             Cst_Cnt        Btl_Cnt         Depthm         T_degC  \\\n",
            "count  864863.000000  864863.000000  864863.000000  853900.000000   \n",
            "mean    17138.790958  432432.000000     226.831951      10.799677   \n",
            "std     10240.949817  249664.587269     316.050259       4.243825   \n",
            "min         1.000000       1.000000       0.000000       1.440000   \n",
            "25%      8269.000000  216216.500000      46.000000       7.680000   \n",
            "50%     16848.000000  432432.000000     125.000000      10.060000   \n",
            "75%     26557.000000  648647.500000     300.000000      13.880000   \n",
            "max     34404.000000  864863.000000    5351.000000      31.140000   \n",
            "\n",
            "              Salnty         O2ml_L         STheta          O2Sat  \\\n",
            "count  817509.000000  696201.000000  812174.000000  661274.000000   \n",
            "mean       33.840350       3.392468      25.819394      57.103779   \n",
            "std         0.461843       2.073256       1.167787      37.094137   \n",
            "min        28.431000      -0.010000      20.934000      -0.100000   \n",
            "25%        33.488000       1.360000      24.965000      21.100000   \n",
            "50%        33.863000       3.440000      25.996000      54.400000   \n",
            "75%        34.196900       5.500000      26.646000      97.600000   \n",
            "max        37.034000      11.130000     250.784000     214.100000   \n",
            "\n",
            "         Oxy_µmol/Kg         BtlNum    ...             R_CHLA        R_PHAEO  \\\n",
            "count  661268.000000  118667.000000    ...      225276.000000  225275.000000   \n",
            "mean      148.808694      10.497426    ...           0.450225       0.198599   \n",
            "std        90.187533       6.189688    ...           1.208566       0.376539   \n",
            "min        -0.434900       0.000000    ...          -0.010000      -3.890000   \n",
            "25%        60.915470       5.000000    ...           0.050000       0.050000   \n",
            "50%       151.064150      10.000000    ...           0.160000       0.110000   \n",
            "75%       240.379600      16.000000    ...           0.390000       0.230000   \n",
            "max       485.701800      25.000000    ...          66.110000      65.300000   \n",
            "\n",
            "              R_PRES         R_SAMP         DIC1         DIC2          TA1  \\\n",
            "count  864863.000000  122006.000000  1999.000000   224.000000  2084.000000   \n",
            "mean      228.395694     162.071521  2153.239714  2168.148330  2256.055845   \n",
            "std       319.456731      85.722796   112.995202   154.852332    34.844435   \n",
            "min         0.000000       0.000000  1948.850000  1969.440000  2181.570000   \n",
            "25%        46.000000     200.000000  2028.330000  2008.977500  2230.322500   \n",
            "50%       126.000000     206.000000  2170.640000  2265.885000  2244.325000   \n",
            "75%       302.000000     214.000000  2253.810000  2315.525000  2278.505000   \n",
            "max      5458.000000     424.000000  2367.800000  2364.420000  2434.900000   \n",
            "\n",
            "               TA2        pH2        pH1  \n",
            "count   234.000000  10.000000  84.000000  \n",
            "mean   2278.858803   7.948570   7.910983  \n",
            "std      58.496495   0.021216   0.077666  \n",
            "min    2198.150000   7.923100   7.618300  \n",
            "25%    2229.062500   7.931475   7.898675  \n",
            "50%    2247.505000   7.946650   7.928850  \n",
            "75%    2316.452500   7.963300   7.955100  \n",
            "max    2437.000000   7.988300   8.047700  \n",
            "\n",
            "[8 rows x 70 columns]\n",
            "\n",
            " Columns from input file: \n",
            " Index(['Cst_Cnt', 'Btl_Cnt', 'Sta_ID', 'Depth_ID', 'Depthm', 'T_degC',\n",
            "       'Salnty', 'O2ml_L', 'STheta', 'O2Sat', 'Oxy_µmol/Kg', 'BtlNum',\n",
            "       'RecInd', 'T_prec', 'T_qual', 'S_prec', 'S_qual', 'P_qual', 'O_qual',\n",
            "       'SThtaq', 'O2Satq', 'ChlorA', 'Chlqua', 'Phaeop', 'Phaqua', 'PO4uM',\n",
            "       'PO4q', 'SiO3uM', 'SiO3qu', 'NO2uM', 'NO2q', 'NO3uM', 'NO3q', 'NH3uM',\n",
            "       'NH3q', 'C14As1', 'C14A1p', 'C14A1q', 'C14As2', 'C14A2p', 'C14A2q',\n",
            "       'DarkAs', 'DarkAp', 'DarkAq', 'MeanAs', 'MeanAp', 'MeanAq', 'IncTim',\n",
            "       'LightP', 'R_Depth', 'R_TEMP', 'R_POTEMP', 'R_SALINITY', 'R_SIGMA',\n",
            "       'R_SVA', 'R_DYNHT', 'R_O2', 'R_O2Sat', 'R_SIO3', 'R_PO4', 'R_NO3',\n",
            "       'R_NO2', 'R_NH4', 'R_CHLA', 'R_PHAEO', 'R_PRES', 'R_SAMP', 'DIC1',\n",
            "       'DIC2', 'TA1', 'TA2', 'pH2', 'pH1', 'DIC Quality Comment'],\n",
            "      dtype='object')\n"
          ],
          "name": "stdout"
        }
      ]
    },
    {
      "metadata": {
        "id": "RbRm_QqZAmXG",
        "colab_type": "text"
      },
      "cell_type": "markdown",
      "source": [
        "The *.describe()* method on the *water_df* printed some high level statistics about each column in the dataframe: Mean, Quantiles, Standard Deviation, etc... These can be useful to know in any dataset! \n",
        "\n",
        "But for this exercise we only care about using the predictors 'Salnty' and 'STheta' on the response variable 'T_degC'. The model we will be making is a linear regression. If you don't know exactly what that it is its ok! By the end of Statistical Analysis you'll have a deep understanding of the assumptions and workings of these models and others!\n",
        "\n",
        "Next lets do a bit of cleaning and inspecting. **This is an often underemphasized step in many classes, but a majority of time spent on a project can spent just doing cleaning! So get comfortable with it!** \n",
        "\n",
        "* First we use the only grab the data from our df with the notnull values in the columns we care about\n",
        "* Define Predictors & Response\n",
        "* Create our X and y dataframes from our predictors and response\n",
        "* Create histograms of the distributions of our x and y variables\n"
      ]
    },
    {
      "metadata": {
        "id": "AxQhwK2R5z2x",
        "colab_type": "code",
        "outputId": "237ae606-5d87-445f-b3a9-d2311d5f158d",
        "colab": {
          "base_uri": "https://localhost:8080/",
          "height": 547
        }
      },
      "cell_type": "code",
      "source": [
        "# Remove observations with nulls\n",
        "water_df_clean = water_df[water_df.Salnty.notnull() \n",
        "                          & water_df.STheta.notnull() \n",
        "                          & water_df.T_degC.notnull()]\n",
        "\n",
        "#could use this!\n",
        "#water_df_clean = water_df.dropna()\n",
        "\n",
        "# Variable name definition\n",
        "predictors = ['Salnty', 'STheta']\n",
        "response = ['T_degC']\n",
        "\n",
        "# Create our X variable from the predictors\n",
        "X_df = water_df_clean[predictors]\n",
        "y_df = water_df_clean[response]\n",
        "\n",
        "# Lets see the distribution\n",
        "X_df.hist(bins=100)\n",
        "y_df.hist(bins=100)\n",
        "\n",
        "# Don't worry about the intercept for now\n",
        "X_df['Intercept'] = 1"
      ],
      "execution_count": 0,
      "outputs": [
        {
          "output_type": "display_data",
          "data": {
            "image/png": "[encoded data removed]",
            "text/plain": [
              "<matplotlib.figure.Figure at 0x7f09c0929d68>"
            ]
          },
          "metadata": {
            "tags": []
          }
        },
        {
          "output_type": "display_data",
          "data": {
            "image/png": "[encoded data removed]",
            "text/plain": [
              "<matplotlib.figure.Figure at 0x7f09bbab1748>"
            ]
          },
          "metadata": {
            "tags": []
          }
        }
      ]
    },
    {
      "metadata": {
        "id": "HvUV8fZx2_uz",
        "colab_type": "text"
      },
      "cell_type": "markdown",
      "source": [
        "Hmmmm, something doesn't look right with 'STheta'  🤔\n",
        "\n",
        "Maybe there are some outliers? A relatively common problem in any data set. These could be abnormal in your context or even errors in the recording of the data. Its all dependent on the *context of your problem*. \n",
        "\n",
        "Everything seems to be concentrated closer to 0 on the scale. So lets make a cut off of 100, and we will drop every observation with an STheta greater than the cutoff.\n",
        "\n",
        "**THIS IS AN ASSUMPTION I AM MAKING ABOUT THE DATA, THESE ARE OK TO DO BUT YOU SHOULD BE ABLE TO JUSTIFY IT IN THE CONTEXT OF THE PROBLEM**\n",
        "\n",
        "* Print the shapes of the Dataframes X & y, a good habit\n",
        "* Create X & y variables by using and index filled  with True or False based on boolean logic applied to the Stheta values. Only grab TRUE values (by definition)\n",
        "* Print the shape shape of X and y variables"
      ]
    },
    {
      "metadata": {
        "id": "OrDHiBSD9vz9",
        "colab_type": "code",
        "outputId": "caf32d0f-60a2-4c20-b958-30aaffd6635a",
        "colab": {
          "base_uri": "https://localhost:8080/",
          "height": 471
        }
      },
      "cell_type": "code",
      "source": [
        "stheta_cut_off = 100\n",
        "# Checking shapes is a good habit to get into\n",
        "print('\\n Shape of Response DF:   {}'.format(y_df.shape))\n",
        "print('\\n Shape of Predictors DF: {}'.format(X_df.shape))\n",
        "\n",
        "# Note : Order matters here, we are using an index from one dataframe\n",
        "# to alter another, so be careful about the dependent index!\n",
        "\n",
        "y = y_df[X_df['STheta'].values < stheta_cut_off].values.ravel()\n",
        "X = X_df[X_df['STheta'].values < stheta_cut_off].values\n",
        "\n",
        "# Checking shapes is a good habit to get into\n",
        "print('\\n Shape of X:   {}'.format(y.shape))\n",
        "print('\\n Shape of y:   {}'.format(X.shape))\n",
        "\n",
        "#Histogram of Stheta using our logic, don't worry too much about this piece\n",
        "hist = X_df[X_df['STheta'].values < stheta_cut_off]['STheta'].hist(bins=100)\n",
        "print('\\n Distribution of STheta w/ outliers removed:\\n\\n{}'.format(hist))"
      ],
      "execution_count": 0,
      "outputs": [
        {
          "output_type": "stream",
          "text": [
            "\n",
            " Shape of Response DF:   (812174, 1)\n",
            "\n",
            " Shape of Predictors DF: (812174, 3)\n",
            "\n",
            " Shape of X:   (812168,)\n",
            "\n",
            " Shape of y:   (812168, 3)\n",
            "\n",
            " Distribution of STheta w/ outliers removed:\n",
            "\n",
            "AxesSubplot(0.125,0.125;0.775x0.755)\n"
          ],
          "name": "stdout"
        },
        {
          "output_type": "display_data",
          "data": {
            "image/png": "[encoded data removed]",
            "text/plain": [
              "<matplotlib.figure.Figure at 0x7f09b8e45160>"
            ]
          },
          "metadata": {
            "tags": []
          }
        }
      ]
    },
    {
      "metadata": {
        "id": "yuB-tM8yixiz",
        "colab_type": "text"
      },
      "cell_type": "markdown",
      "source": [
        "\n",
        "Ah much better! The \"STheta\" predictor has a distribution similar to what we may expect (*context of the problem I am assuming about*)\n",
        "\n",
        "We can see from our print statements we removed 6 observations from our data, the first value in the shape (the rows) has decreased. \n",
        "\n",
        " The shape y is 1-dimensional, think of it as a number line where the observations are tick marks on the line. When there was a second dimension, this was representitive of a 2-d box with $n$ rows and 1 column. That is what our .**ravel()** method did, it unrolled the box into a line. \n",
        " \n",
        " Doing this step is not required per-se, but will make our life easier in the long run. So if you have a 2D response with $n$ rows and 1 column, consider making it into a 1 dimensional vector using ``.ravel().`` on the end of your values.\n",
        "\n",
        "---\n",
        "\n",
        "Scatter plots are also useful for to give you some broad characteristics of the data. For instance below we can see there seems to be a positive relationship between the $x_1$ predictor and the response, and a negative relationship for the predictor $x_2$. \n",
        "\n",
        "Here I am using a library called **py_plot** which is a sub module of **matplotlib**. I won't go into the specifics now.\n",
        "\n",
        "See more here [matplotlib](https://matplotlib.org/) and : [py_plot documentation](https://matplotlib.org/api/_as_gen/matplotlib.pyplot.html)"
      ]
    },
    {
      "metadata": {
        "id": "D2Z9X6m4mF7A",
        "colab_type": "code",
        "outputId": "c50aefc0-a509-4936-9ef7-e7e2ae4d3e26",
        "colab": {
          "base_uri": "https://localhost:8080/",
          "height": 285
        }
      },
      "cell_type": "code",
      "source": [
        "import matplotlib.pyplot as plt\n",
        "\n",
        "plt.scatter(X[:,0],y,label='STheta')  #specify label for the corresponding curve\n",
        "plt.scatter(X[:,1],y,label='Salnty')  #-don't worry about it for now.\n",
        "plt.grid(True)\n",
        "plt.legend()\n",
        "plt.xlabel('X values')\n",
        "plt.ylabel('y values')\n",
        "plt.show()\n"
      ],
      "execution_count": 0,
      "outputs": [
        {
          "output_type": "display_data",
          "data": {
            "image/png": "[encoded data removed]",
            "text/plain": [
              "<matplotlib.figure.Figure at 0x7f09bb8d6f28>"
            ]
          },
          "metadata": {
            "tags": []
          }
        }
      ]
    },
    {
      "metadata": {
        "id": "6nZYpgkkqp-Y",
        "colab_type": "text"
      },
      "cell_type": "markdown",
      "source": [
        "Making plots like these are good habits to get into. In more complicated models you may transform the data you won't know which way up is! And doing some visualizing before making more complicated data structures is a great place to give some sense of direction.\n",
        "\n",
        "We won't be doing this today, BUT if you'd like to learn about what you might see in classes like \"Machine Learning & Predictive Analytics\" take a look at something like TF-IDF, a way to represent text data in numeric feature vector space.\n",
        "[sklearn tf-idf vectorizer](https://scikit-learn.org/stable/modules/generated/sklearn.feature_extraction.text.TfidfVectorizer.html)"
      ]
    },
    {
      "metadata": {
        "id": "3WHikqjrlsIh",
        "colab_type": "text"
      },
      "cell_type": "markdown",
      "source": [
        "## Sklearn : Linear Regression Model\n",
        "\n",
        "The Linear Regression function from the **very useful sci-kit learn library** helps use create our Linear Regression model. We are using Python today, but the same concepts should apply in R, another statiscial lanuage you are going to see first. \n",
        "\n",
        "Learn more about sci-kit learn []()\n",
        "\n",
        "Learn more about R: []()\n",
        "\n",
        "---\n",
        "First the Linear Regression model $lr$ is iniated using the function call. We then use the ``.fit`` method on our predictors ``X`` and response ``y``. We just performed a linear regression! 🤓\n",
        "\n",
        "We then extract the coefficients by accessing the $lr$ models' attributes. These are the $\\beta$ vector we need we need for our equation! These predictors can then be used in the equation below to give a **prediction** about our response, y hat\n",
        "\n",
        "$ \\hat{y}=  \\beta_1*x_{1i} + \\beta_2*x_{2i} + \\beta_0$\n",
        "\n",
        "\n",
        "If terms like modules, API calls, methods, attributes got you worried don't worry! Theres a **Python for Analytics Course** to get you ready!"
      ]
    },
    {
      "metadata": {
        "id": "yf6Chzw1MJpZ",
        "colab_type": "code",
        "outputId": "8e86fb66-8e0e-4398-8a03-3f975d058e8e",
        "colab": {
          "base_uri": "https://localhost:8080/",
          "height": 85
        }
      },
      "cell_type": "code",
      "source": [
        "from sklearn.linear_model import LinearRegression\n",
        "\n",
        "# Create Linear model and fit it with our data!\n",
        "lr = LinearRegression()\n",
        "lr.fit(X, y)\n",
        "\n",
        "# Get Coefficients from model\n",
        "lr_intercept = np.array( [lr.intercept_] )\n",
        "lr_coeffs = np.array([lr.coef_[:2]])\n",
        "\n",
        "#Dataframe of coefficients\n",
        "lr_parameters = pd.DataFrame(np.concatenate((lr_coeffs.T, lr_intercept.reshape(1,1))))\n",
        "lr_parameters.columns = ['Betas']\n",
        "lr_parameters.rename(index={0:'Salnty (Beta_1)',1:'STheta (Beta_2)', 2:'Intercept'}, inplace=True)\n",
        "print(round(lr_parameters, 4))"
      ],
      "execution_count": 0,
      "outputs": [
        {
          "output_type": "stream",
          "text": [
            "                   Betas\n",
            "Salnty (Beta_1)   3.1084\n",
            "STheta (Beta_2)  -5.0376\n",
            "Intercept        35.7088\n"
          ],
          "name": "stdout"
        }
      ]
    },
    {
      "metadata": {
        "id": "BYWQKsWu4wQP",
        "colab_type": "text"
      },
      "cell_type": "markdown",
      "source": [
        "Our Linear Regression model determines *best fit* by using a ``score`` which is stored for the best model (in this case). All sklearn models will have a 'score' attribute of some kind. They just may be different scoring methods! \n",
        "\n",
        "\n",
        "---\n",
        "\n",
        "See more [here](https://scikit-learn.org/stable/modules/model_evaluation.html)! If this looks overwhelming, have no fear! **Data Mining Principles** is Here!\n",
        "\n",
        "---\n",
        "\n",
        "For Linear Regression the scoring method is R-squared and can be obtained from the model object **after it has been fit**, this is true for all models. Think about it, you need to fit something to your data to evaluate it. \n",
        "\n",
        "R-Squared represents the ratio of *variance explained* by the model to *total variance* of the data it used to create the model. Much more to come on this in **Statistical Analysis** \n",
        "\n",
        "The Root Mean Squared Error is another common metric you will see used in statistical models. RMSE is calculated by\n",
        "\n",
        "* Taking the difference between the true $y_i$ value from the data (for each observation $i$) and the predicted $\\hat{y_i}$ value generated by the model parameters. **Fundamentally this is what a model is: a data generating process given a set of parameters**\n",
        "* Squaring this value for each observation, so our negatives errors don't offset our positive errors\n",
        "* Summing theses values for all observations in the data (this is why we square!)\n",
        "* Taking the square root\n",
        "\n",
        "Ta dah! RMSE represents on average the deviance of a model predicted value to an observation. "
      ]
    },
    {
      "metadata": {
        "id": "u6rzyQRY4wQR",
        "colab_type": "code",
        "outputId": "aad3741e-0d92-420f-c460-fa6d923ab4a0",
        "colab": {
          "base_uri": "https://localhost:8080/",
          "height": 51
        }
      },
      "cell_type": "code",
      "source": [
        "# R Squared\n",
        "lr_score = lr.score(X, y)\n",
        "\n",
        "# Predictionlr_s\n",
        "lr_y_hat = lr.predict(X)\n",
        "lr_residuals = y - lr_y_hat\n",
        "\n",
        "#RMSE and VAF\n",
        "\n",
        "lr_RMSE = math.sqrt(mean_squared_error(y, lr_y_hat))\n",
        "lr_VAF_score = explained_variance_score(y, lr_y_hat)\n",
        "\n",
        "print('Linear Regression R-Squared: {}'.format(round(lr_score, 4)))\n",
        "print('Linear Regression RMSE: {}'.format(round(lr_RMSE,4)))\n",
        "# skip this for now\n",
        "#print('Linear Regression Variance Explained: {}'.format(round(lr_VAF_score, 4)))"
      ],
      "execution_count": 0,
      "outputs": [
        {
          "output_type": "stream",
          "text": [
            "Linear Regression R-Squared: 0.9869\n",
            "Linear Regression RMSE: 0.4829\n"
          ],
          "name": "stdout"
        }
      ]
    },
    {
      "metadata": {
        "id": "HaIBAz59xIrs",
        "colab_type": "text"
      },
      "cell_type": "markdown",
      "source": [
        "Wow our R-Squared is very high! The range on this scoring metric is 0 to 1. If we have a value very close to 1, it means our model is explaining a lot of the variance in the data. Our model has done a good job at picking the best parameters which represent the data! \n",
        "\n",
        "**NOTE: if R-Squared is ever exactly 1.0 you have overfit your model! This is one of the most import concepts to grasp in the Machine Learning: underfitting and overfitting and how you can tune your model to get the best results by balancing these concepts. You will talk about this in every single one of your classes I guarantee it!**"
      ]
    },
    {
      "metadata": {
        "id": "7p4oLj24xov7",
        "colab_type": "text"
      },
      "cell_type": "markdown",
      "source": [
        "For just a peek at some ideas you'll take a look at later in Statisical Analysis. See the plot of our residuals below. Remember, the residuals are differences between the true $y$ values and the predicted $\\hat{y}$ values from our model. They are the 'error' associated with the predictions from our model. "
      ]
    },
    {
      "metadata": {
        "id": "_jbuCQ3dJpIV",
        "colab_type": "code",
        "outputId": "f65c9665-f2d0-4388-b9ff-36d0da7405c2",
        "colab": {
          "base_uri": "https://localhost:8080/",
          "height": 267
        }
      },
      "cell_type": "code",
      "source": [
        "def plot_model_resids(array):\n",
        "    sns.set_style('whitegrid')\n",
        "    sns.distplot(array\n",
        "                 , hist=True\n",
        "                 , kde=True\n",
        "                 , bins=int(len(array) / 100)\n",
        "                 , color = 'darkblue'\n",
        "                )\n",
        "                 \n",
        "    \n",
        "plot_model_resids(lr_residuals)\n"
      ],
      "execution_count": 0,
      "outputs": [
        {
          "output_type": "display_data",
          "data": {
            "image/png": "[encoded data removed]",
            "text/plain": [
              "<matplotlib.figure.Figure at 0x7fc3ad7c8080>"
            ]
          },
          "metadata": {
            "tags": []
          }
        }
      ]
    },
    {
      "metadata": {
        "id": "rPtyj2IjVCJl",
        "colab_type": "text"
      },
      "cell_type": "markdown",
      "source": [
        "Here we are checking the assumptions about our model. We assumed some things implicitly when we made a Linear Regression. Statistical Analysis will explore this very deeply.\n",
        "\n",
        "**Challenge**\n",
        "\n",
        "Notice how the graph is centered close to 0, and has an awfuly familar shape some of you may recognize as: the bell curve or normal distribution or guassian, blah blah. You're gonna see alot of ' now'.\n",
        "\n",
        "Is there something this is telling us (good or bad!) about our assumptions in our Linear Regression Model? 🤔 What was that $\\epsilon$ term all about from before?\n",
        "\n",
        "---\n",
        "\n"
      ]
    },
    {
      "metadata": {
        "id": "EC-Ojbudlx3m",
        "colab_type": "text"
      },
      "cell_type": "markdown",
      "source": [
        "##Normal Equation Calculation Model\n",
        "\n",
        "Wow sklearn seems to be a powerful library!  💪\n",
        "\n",
        "I cannot emphasize enough the value of reading the documentation before, during, or after using a specific function or package. Its a worthwhile exercise to go through some trouble shooting a specific function using exclusively the documenation before reaching out for help. Learning how to navigate and use documentation might be your most important skill set for success here. [Heres the very extensive sklearn library](https://scikit-learn.org/stable/index.html)\n",
        "\n",
        "---\n",
        "\n",
        "But how exactly are the parameters for the 'best fit' model calculated? We fed in a  matrix $X$ and vector $y$ and then . . .  👏 Got our model! How??\n",
        "\n",
        "Underneath the hood,  most sklearn models are 'fit' by running algorithms computing different linear algebra equations. If some of you haven't done that before thats ok. We have a **Linear Algebra Class** aimed at getting you some solid understanding of how Linear Algebra is really the toolkit of most machine learnings. You don't need to be an expert, but to really get a comprehnsive understanding of how the packages work, when and why to use them, understanding concepts like dot products and transposing is important.\n",
        "\n",
        "\n",
        "---\n",
        "\n",
        "One of the most useful equations is the *normal* equation which gives the best fit model for a *normal* distribution, which is what we assuming we have! Remember that $\\epsilon$ from before? we are assuming something about how the errors are distributed when we create the standard linear regression. More on that later\n",
        "\n",
        "The Beta coefficients for a linear regression can solved for using the linear algebra package & all around workhorse **numpy**. This is up there in importance with sklearn for Python.\n",
        "\n",
        "The solution to this equation gives the best coefficients for a model based on the X and y provided."
      ]
    },
    {
      "metadata": {
        "id": "6W26inv64wQa",
        "colab_type": "code",
        "outputId": "ea8528dc-22cc-4d12-9064-4ecca0d3d963",
        "colab": {
          "base_uri": "https://localhost:8080/",
          "height": 85
        }
      },
      "cell_type": "code",
      "source": [
        "#(X.T . X)^-1 . (X.T * y)\n",
        "NE_params = np.dot(\n",
        "              #INV:\n",
        "              np.linalg.inv(\n",
        "                # X.T * X \n",
        "                np.dot(np.transpose(X),X))\n",
        "            , # X.T * Y\n",
        "              np.dot(np.transpose(X), y)\n",
        "                  )\n",
        "\n",
        "NE_params = pd.DataFrame(NE_params)\n",
        "NE_params.columns = ['Coefficients']\n",
        "NE_params.rename(index={0:'Salnty',1:'STheta', 2:'Intercept'}, inplace=True)\n",
        "print(round(NE_params, 4))"
      ],
      "execution_count": 0,
      "outputs": [
        {
          "output_type": "stream",
          "text": [
            "           Coefficients\n",
            "Salnty           3.1084\n",
            "STheta          -5.0376\n",
            "Intercept       35.7088\n"
          ],
          "name": "stdout"
        }
      ]
    },
    {
      "metadata": {
        "id": "Qk4LXGuzd08w",
        "colab_type": "text"
      },
      "cell_type": "markdown",
      "source": [
        "🤯🤯🤯🤯🤯🤯🤯🤯🤯🤯🤯🤯🤯🤯🤯🤯🤯🤯🤯🤯🤯🤯🤯🤯\n",
        "\n",
        "\n",
        "---\n",
        "\n",
        "Next I calculate the yhat predictions from the parameters just solved for. Then the residuals, then $SSE$ the sum of squares This concept should seem familiar to what we did for RMSE, but not exactlyl! Notice we calculate the $SST$ or Sum of squares total, which is the same as $SSE$ except the 'difference' part is between the y value and $\\bar{y}$, which is the average for all $y_i$. So the total some of square is the difference between each observation and the predictors average. We then calculate $R^2 = 1 - \\frac{SSE}{SST}$\n"
      ]
    },
    {
      "metadata": {
        "id": "uQsmzP56yDEz",
        "colab_type": "code",
        "outputId": "d1b177cc-a386-4155-c70a-329070d1b55f",
        "colab": {
          "base_uri": "https://localhost:8080/",
          "height": 68
        }
      },
      "cell_type": "code",
      "source": [
        "#Predictions , residuals, and SSE\n",
        "NE_yhat = np.array((np.dot(X, NE_params))).T\n",
        "NE_residuals = np.array(NE_yhat - y)\n",
        "NE_SSE = np.sum(np.square(NE_residuals)) \n",
        "\n",
        "#Ybar and SST\n",
        "y_bar = np.repeat(np.average(y), y.size)\n",
        "NE_SST = np.sum(np.square(np.subtract(y_bar, y)))\n",
        "\n",
        "#Rsquared from SSE & SST\n",
        "NE_Rsquared = 1-(NE_SSE/NE_SST)\n",
        "\n",
        "#RMSE & VAF\n",
        "NE_RMSE = np.sqrt(np.sum(np.square(NE_yhat-y))/NE_yhat.size)\n",
        "NE_VAF = 1-np.cov(np.array(np.array(y) - np.array(NE_yhat)).flatten())/np.cov(y)\n",
        "\n",
        "print('Normal Equation R Squared:{}'.format(round(NE_Rsquared, 4)))\n",
        "print(\"Normal Equation RMSE: {}\".format(round(NE_RMSE,4)))\n",
        "print('Normal Equation Variance Explained:{}'.format(round(NE_VAF, 4)))"
      ],
      "execution_count": 0,
      "outputs": [
        {
          "output_type": "stream",
          "text": [
            "Normal Equation R Squared:0.9869\n",
            "Normal Equation RMSE: 0.4829\n",
            "Normal Equation Variance Explained:0.9869\n"
          ],
          "name": "stdout"
        }
      ]
    },
    {
      "metadata": {
        "id": "IJdZl0qo4wQs",
        "colab_type": "text"
      },
      "cell_type": "markdown",
      "source": [
        "We get the same values!!!!! Hopefully you can kind of get a scope of things you're going to see. Statistics, Linear Algebra, Machine Learning Librarys.\n",
        "\n",
        "There's so much more!"
      ]
    },
    {
      "metadata": {
        "id": "dPxkxAnv_sf1",
        "colab_type": "code",
        "outputId": "4b4fd879-379a-43e5-8070-e8c47311ef81",
        "colab": {
          "base_uri": "https://localhost:8080/",
          "height": 71
        }
      },
      "cell_type": "code",
      "source": [
        "!jupyter nbconvert --to html '$NOTEBOOK_FILE'"
      ],
      "execution_count": 0,
      "outputs": [
        {
          "output_type": "stream",
          "text": [
            "[NbConvertApp] Converting notebook /content/gdrive/My Drive/Code/uchicago/Machine Learning & Predictive Analytics/Homework 1/Homework 1.ipynb to html\n",
            "[NbConvertApp] Writing 400570 bytes to /content/gdrive/My Drive/Code/uchicago/Machine Learning & Predictive Analytics/Homework 1/Homework 1.html\n"
          ],
          "name": "stdout"
        }
      ]
    }
  ]
}