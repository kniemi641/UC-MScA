{
  "nbformat": 4,
  "nbformat_minor": 0,
  "metadata": {
    "colab": {
      "name": "Copy of Homework 1.ipynb",
      "version": "0.3.2",
      "provenance": [],
      "collapsed_sections": [],
      "toc_visible": true,
      "include_colab_link": true
    },
    "kernelspec": {
      "display_name": "Python 3",
      "language": "python",
      "name": "python3"
    }
  },
  "cells": [
    {
      "cell_type": "markdown",
      "metadata": {
        "id": "view-in-github",
        "colab_type": "text"
      },
      "source": [
        "<a href=\"https://colab.research.google.com/github/kniemi641/UC-MScA/blob/master/Homework%201%20-%20Multivariate%20Linear%20Regression.ipynb\" target=\"_parent\"><img src=\"https://colab.research.google.com/assets/colab-badge.svg\" alt=\"Open In Colab\"/></a>"
      ]
    },
    {
      "metadata": {
        "id": "uaEwguL24wPn",
        "colab_type": "text"
      },
      "cell_type": "markdown",
      "source": [
        "# Homework 1 : Multivariate Linear Regression\n",
        "\n",
        "The purpose of this exercise is to create a multivariate linear regression model from the data provided in the \"bottle.csv\" file. The variables, 'Salnty' & 'STheta', are used as predictors in the model, and 'T_DegC' will be the response variable. \n",
        "\n"
      ]
    },
    {
      "metadata": {
        "id": "_xCBS7qEpvWv",
        "colab_type": "text"
      },
      "cell_type": "markdown",
      "source": [
        "## Global Variables & Packages"
      ]
    },
    {
      "metadata": {
        "id": "oGfwMjPO4wPj",
        "colab_type": "code",
        "colab": {}
      },
      "cell_type": "code",
      "source": [
        "# Generic Packages\n",
        "import pandas as pd\n",
        "import numpy as np\n",
        "import math\n",
        "import os\n",
        "from scipy import stats\n",
        "\n",
        "# Model Packages\n",
        "from sklearn.linear_model import LinearRegression\n",
        "#from sklearn.model_selection import train_test_split\n",
        "from sklearn.metrics import mean_squared_error, explained_variance_score\n",
        "#from sklearn.preprocessing import StandardScaler\n",
        "\n",
        "#Plotting Packages\n",
        "%matplotlib inline\n",
        "import matplotlib\n",
        "import pylab \n",
        "import matplotlib.pyplot as plt\n",
        "plt.rcParams['axes.labelsize'] = 14\n",
        "plt.rcParams['xtick.labelsize'] = 12\n",
        "plt.rcParams['ytick.labelsize'] = 12\n",
        "import seaborn as sns\n",
        "\n",
        "#Utility stuff\n",
        "import warnings\n",
        "warnings.filterwarnings('ignore')\n",
        "from google.colab import drive, files\n",
        "drive.mount('/content/gdrive')\n",
        "\n",
        "np.random.seed(235)"
      ],
      "execution_count": 0,
      "outputs": []
    },
    {
      "metadata": {
        "id": "gVvzWZYRkd1X",
        "colab_type": "code",
        "colab": {}
      },
      "cell_type": "code",
      "source": [
        "#INPUT PARAMETERS\n",
        "HW_NUM=1\n",
        "INPUT_DATA_FILE='bottle.csv'\n",
        "NOTEBOOK_NAME='Ambassador {}.ipynb'.format(HW_NUM)"
      ],
      "execution_count": 0,
      "outputs": []
    },
    {
      "metadata": {
        "id": "Q_FC8k0D43tb",
        "colab_type": "code",
        "colab": {}
      },
      "cell_type": "code",
      "source": [
        "#GLOBAL PARAMETERS\n",
        "GD_CODE_DIR='/content/gdrive/My Drive/Code/uchicago/'\n",
        "SUBJECT_DIR='Machine Learning & Predictive Analytics/'\n",
        "HOMEWORK_DIR='Homework {}'.format(HW_NUM)\n",
        "\n",
        "#GENERIC PARAMETERS\n",
        "DATA_DIR='data/'\n",
        "MODEL_DIR='models/'\n",
        "LOGS_DIR = 'logs/'\n",
        "\n",
        "MAIN_PATH=os.path.join(GD_CODE_DIR\n",
        "                      ,SUBJECT_DIR\n",
        "                      ,HOMEWORK_DIR)\n",
        "\n",
        "INPUT_FILE=os.path.join(MAIN_PATH\n",
        "                       ,DATA_DIR\n",
        "                       ,INPUT_DATA_FILE)\n",
        "\n",
        "NOTEBOOK_FILE=os.path.join(MAIN_PATH\n",
        "                          ,NOTEBOOK_NAME)\n",
        "\n",
        "MODEL_EXPORT_PATH=os.path.join(MAIN_PATH\n",
        "                              ,MODEL_DIR)\n",
        "\n",
        "LOG_PATH=os.path.join(MAIN_PATH\n",
        "                     ,LOGS_DIR)"
      ],
      "execution_count": 0,
      "outputs": []
    },
    {
      "metadata": {
        "id": "6Ylddtu3ALUE",
        "colab_type": "text"
      },
      "cell_type": "markdown",
      "source": [
        "## Exploratory Analysis\n",
        "\n",
        "The data is loaded from the .csv file provided.\n"
      ]
    },
    {
      "metadata": {
        "id": "hKXvNJRhttk9",
        "colab_type": "code",
        "outputId": "0203bd4b-a4cf-49ce-da8a-27290ae947a4",
        "colab": {
          "base_uri": "https://localhost:8080/",
          "height": 748
        }
      },
      "cell_type": "code",
      "source": [
        "#Load Data and take a look\n",
        "water_data = pd.read_csv(INPUT_FILE)\n",
        "water_df = pd.DataFrame(water_data)\n",
        "print(water_df.head())\n",
        "print('\\n Columns from input file: \\n {}'.format(water_df.columns))"
      ],
      "execution_count": 4,
      "outputs": [
        {
          "output_type": "stream",
          "text": [
            "   Cst_Cnt  Btl_Cnt       Sta_ID                                Depth_ID  \\\n",
            "0        1        1  054.0 056.0  19-4903CR-HY-060-0930-05400560-0000A-3   \n",
            "1        1        2  054.0 056.0  19-4903CR-HY-060-0930-05400560-0008A-3   \n",
            "2        1        3  054.0 056.0  19-4903CR-HY-060-0930-05400560-0010A-7   \n",
            "3        1        4  054.0 056.0  19-4903CR-HY-060-0930-05400560-0019A-3   \n",
            "4        1        5  054.0 056.0  19-4903CR-HY-060-0930-05400560-0020A-7   \n",
            "\n",
            "   Depthm  T_degC  Salnty  O2ml_L  STheta  O2Sat         ...           \\\n",
            "0       0   10.50  33.440     NaN  25.649    NaN         ...            \n",
            "1       8   10.46  33.440     NaN  25.656    NaN         ...            \n",
            "2      10   10.46  33.437     NaN  25.654    NaN         ...            \n",
            "3      19   10.45  33.420     NaN  25.643    NaN         ...            \n",
            "4      20   10.45  33.421     NaN  25.643    NaN         ...            \n",
            "\n",
            "   R_PHAEO  R_PRES  R_SAMP  DIC1  DIC2  TA1  TA2  pH2  pH1  \\\n",
            "0      NaN       0     NaN   NaN   NaN  NaN  NaN  NaN  NaN   \n",
            "1      NaN       8     NaN   NaN   NaN  NaN  NaN  NaN  NaN   \n",
            "2      NaN      10     NaN   NaN   NaN  NaN  NaN  NaN  NaN   \n",
            "3      NaN      19     NaN   NaN   NaN  NaN  NaN  NaN  NaN   \n",
            "4      NaN      20     NaN   NaN   NaN  NaN  NaN  NaN  NaN   \n",
            "\n",
            "   DIC Quality Comment  \n",
            "0                  NaN  \n",
            "1                  NaN  \n",
            "2                  NaN  \n",
            "3                  NaN  \n",
            "4                  NaN  \n",
            "\n",
            "[5 rows x 74 columns]\n",
            "\n",
            " Columns from input file: \n",
            " Index(['Cst_Cnt', 'Btl_Cnt', 'Sta_ID', 'Depth_ID', 'Depthm', 'T_degC',\n",
            "       'Salnty', 'O2ml_L', 'STheta', 'O2Sat', 'Oxy_µmol/Kg', 'BtlNum',\n",
            "       'RecInd', 'T_prec', 'T_qual', 'S_prec', 'S_qual', 'P_qual', 'O_qual',\n",
            "       'SThtaq', 'O2Satq', 'ChlorA', 'Chlqua', 'Phaeop', 'Phaqua', 'PO4uM',\n",
            "       'PO4q', 'SiO3uM', 'SiO3qu', 'NO2uM', 'NO2q', 'NO3uM', 'NO3q', 'NH3uM',\n",
            "       'NH3q', 'C14As1', 'C14A1p', 'C14A1q', 'C14As2', 'C14A2p', 'C14A2q',\n",
            "       'DarkAs', 'DarkAp', 'DarkAq', 'MeanAs', 'MeanAp', 'MeanAq', 'IncTim',\n",
            "       'LightP', 'R_Depth', 'R_TEMP', 'R_POTEMP', 'R_SALINITY', 'R_SIGMA',\n",
            "       'R_SVA', 'R_DYNHT', 'R_O2', 'R_O2Sat', 'R_SIO3', 'R_PO4', 'R_NO3',\n",
            "       'R_NO2', 'R_NH4', 'R_CHLA', 'R_PHAEO', 'R_PRES', 'R_SAMP', 'DIC1',\n",
            "       'DIC2', 'TA1', 'TA2', 'pH2', 'pH1', 'DIC Quality Comment'],\n",
            "      dtype='object')\n"
          ],
          "name": "stdout"
        }
      ]
    },
    {
      "metadata": {
        "id": "RbRm_QqZAmXG",
        "colab_type": "text"
      },
      "cell_type": "markdown",
      "source": [
        "The regression will perform better if observations with values of Null or 'NaN' in the variables of interest are removed. Some high level statistics are generated for the data (shown below). \n",
        "\n",
        "An intercept column is added to the predictor set. This represents the reponse when no predictors are used in the model."
      ]
    },
    {
      "metadata": {
        "id": "AxQhwK2R5z2x",
        "colab_type": "code",
        "outputId": "3d0e113d-6c78-4584-b072-d96cdea6cb24",
        "colab": {
          "base_uri": "https://localhost:8080/",
          "height": 921
        }
      },
      "cell_type": "code",
      "source": [
        "# Remove observations with nulls\n",
        "water_df_clean = water_df[water_df.Salnty.notnull() \n",
        "                          & water_df.STheta.notnull() \n",
        "                          & water_df.T_degC.notnull()]\n",
        "\n",
        "# Variable definitions\n",
        "predictors = ['Salnty', 'STheta']\n",
        "response = ['T_degC']\n",
        "\n",
        "X_df = water_df_clean[predictors]\n",
        "print('High Level Statistics of the predictors: \\n{}'.format(X_df.describe()))\n",
        "X_df.hist(bins=100)\n",
        "\n",
        "X_df['Intercept'] = 1\n",
        "\n",
        "y_df = water_df_clean[response]\n",
        "print('High Level Statistics of the response: \\n{}'.format(y_df.describe()))\n",
        "y_df.hist(bins=100)\n",
        "\n"
      ],
      "execution_count": 5,
      "outputs": [
        {
          "output_type": "stream",
          "text": [
            "High Level Statistics of the predictors: \n",
            "              Salnty         STheta\n",
            "count  812174.000000  812174.000000\n",
            "mean       33.842424      25.819394\n",
            "std         0.461567       1.167787\n",
            "min        28.431000      20.934000\n",
            "25%        33.490000      24.965000\n",
            "50%        33.869200      25.996000\n",
            "75%        34.198000      26.646000\n",
            "max        37.034000     250.784000\n",
            "High Level Statistics of the response: \n",
            "              T_degC\n",
            "count  812174.000000\n",
            "mean       10.847904\n",
            "std         4.221005\n",
            "min         1.440000\n",
            "25%         7.750000\n",
            "50%        10.100000\n",
            "75%        13.910000\n",
            "max        31.140000\n"
          ],
          "name": "stdout"
        },
        {
          "output_type": "execute_result",
          "data": {
            "text/plain": [
              "array([[<matplotlib.axes._subplots.AxesSubplot object at 0x7f408ef989b0>]],\n",
              "      dtype=object)"
            ]
          },
          "metadata": {
            "tags": []
          },
          "execution_count": 5
        },
        {
          "output_type": "display_data",
          "data": {
            "image/png": "[encoded data removed]",
            "text/plain": [
              "<matplotlib.figure.Figure at 0x7f408bc55c50>"
            ]
          },
          "metadata": {
            "tags": []
          }
        },
        {
          "output_type": "display_data",
          "data": {
            "image/png": "[encoded data removed]",
            "text/plain": [
              "<matplotlib.figure.Figure at 0x7f4087d926d8>"
            ]
          },
          "metadata": {
            "tags": []
          }
        }
      ]
    },
    {
      "metadata": {
        "id": "HvUV8fZx2_uz",
        "colab_type": "text"
      },
      "cell_type": "markdown",
      "source": [
        "The 'STheta' histogram shows an extreme concentration near 0, but the x scale goes to 200. This could indicate outliers. A cut off will be created at 200 to remove observations with an Shetha value greater than 200."
      ]
    },
    {
      "metadata": {
        "id": "OrDHiBSD9vz9",
        "colab_type": "code",
        "outputId": "142a0639-fe21-4e14-de87-211833e21e8c",
        "colab": {
          "base_uri": "https://localhost:8080/",
          "height": 471
        }
      },
      "cell_type": "code",
      "source": [
        "stheta_cut_off = 200\n",
        "\n",
        "print('\\n Shape of Response DF:   {}'.format(y_df.shape))\n",
        "print('\\n Shape of Predictors DF: {}'.format(X_df.shape))\n",
        "\n",
        "y = y_df[X_df['STheta'].values < stheta_cut_off].values.ravel()\n",
        "X = X_df[X_df['STheta'].values < stheta_cut_off].values\n",
        "\n",
        "# Checking shapes is a good habit to get into\n",
        "print('\\n Shape of X:   {}'.format(y.shape))\n",
        "print('\\n Shape of y:   {}'.format(X.shape))\n",
        "\n",
        "#Histogram of Stheta using logic from above\n",
        "hist = X_df[X_df['STheta'].values < stheta_cut_off]['STheta'].hist(bins=100)\n",
        "print('\\n Distribution of STheta w/ outliers removed:\\n\\n{}'.format(hist))"
      ],
      "execution_count": 6,
      "outputs": [
        {
          "output_type": "stream",
          "text": [
            "\n",
            " Shape of Response DF:   (812174, 1)\n",
            "\n",
            " Shape of Predictors DF: (812174, 3)\n",
            "\n",
            " Shape of X:   (812168,)\n",
            "\n",
            " Shape of y:   (812168, 3)\n",
            "\n",
            " Distribution of STheta w/ outliers removed:\n",
            "\n",
            "AxesSubplot(0.125,0.125;0.775x0.755)\n"
          ],
          "name": "stdout"
        },
        {
          "output_type": "display_data",
          "data": {
            "image/png": "[encoded data removed]",
            "text/plain": [
              "<matplotlib.figure.Figure at 0x7f4087cb6eb8>"
            ]
          },
          "metadata": {
            "tags": []
          }
        }
      ]
    },
    {
      "metadata": {
        "id": "yuB-tM8yixiz",
        "colab_type": "text"
      },
      "cell_type": "markdown",
      "source": [
        "6 observations from the data have been removed using the 'STheta' cut off of 200. The historgram for the STheta variable looks much more representitive of a continuous distribution one can expect from the measurements taken to generate this data. \n",
        "\n",
        "I have a sneaky suspicion there was a data input error, as 'STheta' values over 200 correspond to an obervation with an extra 0 added to a more standard value."
      ]
    },
    {
      "metadata": {
        "id": "D2Z9X6m4mF7A",
        "colab_type": "code",
        "outputId": "540f9a44-0b27-4e8e-adb8-584d3d55acde",
        "colab": {
          "base_uri": "https://localhost:8080/",
          "height": 300
        }
      },
      "cell_type": "code",
      "source": [
        "plt.scatter(X[:,0],y,label='STheta')  #specify label for the corresponding curve\n",
        "plt.scatter(X[:,1],y,label='Salnty')  #-don't worry about it for now.\n",
        "plt.grid(True)\n",
        "plt.legend()\n",
        "plt.title('Response vs Predictor Scatter Plot')\n",
        "plt.xlabel('X values')\n",
        "plt.ylabel('y values')\n",
        "plt.show()\n"
      ],
      "execution_count": 7,
      "outputs": [
        {
          "output_type": "display_data",
          "data": {
            "image/png": "[encoded data removed]",
            "text/plain": [
              "<matplotlib.figure.Figure at 0x7f408ca88320>"
            ]
          },
          "metadata": {
            "tags": []
          }
        }
      ]
    },
    {
      "metadata": {
        "id": "6nZYpgkkqp-Y",
        "colab_type": "text"
      },
      "cell_type": "markdown",
      "source": [
        "From the plots above, 'Salnty' appears to have a negative relationship and 'STheta' a postive. "
      ]
    },
    {
      "metadata": {
        "id": "3WHikqjrlsIh",
        "colab_type": "text"
      },
      "cell_type": "markdown",
      "source": [
        "## Sklearn : Linear Regression Model\n",
        "\n",
        "A linear regression model from the sklearn library is initiated and fit to the **X** and **y** data. The intercept and coefficients are extracted and printed below."
      ]
    },
    {
      "metadata": {
        "id": "yf6Chzw1MJpZ",
        "colab_type": "code",
        "outputId": "0ae3b784-1fc3-4c07-bd34-7f558fd8e79d",
        "colab": {
          "base_uri": "https://localhost:8080/",
          "height": 85
        }
      },
      "cell_type": "code",
      "source": [
        "lr = LinearRegression()\n",
        "lr.fit(X, y)\n",
        "\n",
        "# Get Coefficients from model\n",
        "lr_intercept = np.array( [lr.intercept_] )\n",
        "lr_coeffs = np.array([lr.coef_[:2]])\n",
        "\n",
        "#Dataframe of coefficients\n",
        "lr_parameters = pd.DataFrame(np.concatenate((lr_coeffs.T, lr_intercept.reshape(1,1))))\n",
        "lr_parameters.columns = ['Betas']\n",
        "lr_parameters.rename(index={0:'Salnty (Beta_1)',1:'STheta (Beta_2)', 2:'Intercept (Beta_0)'}, inplace=True)\n",
        "print(round(lr_parameters, 4))"
      ],
      "execution_count": 12,
      "outputs": [
        {
          "output_type": "stream",
          "text": [
            "                      Betas\n",
            "Salnty (Beta_1)      3.1084\n",
            "STheta (Beta_2)     -5.0376\n",
            "Intercept (Beta_0)  35.7088\n"
          ],
          "name": "stdout"
        }
      ]
    },
    {
      "metadata": {
        "id": "BYWQKsWu4wQP",
        "colab_type": "text"
      },
      "cell_type": "markdown",
      "source": [
        "The parameters from the regression confirm the relations seen in the scatter plots of the data.\n",
        "\n",
        "The scoring method for this model is R-Squared  which represents the ratio of *variance explained* by the model to *total variance* of the data to which the model is fit. \n",
        "\n",
        "The predict method is used to extract the predicted response using the true **X** values. The difference between this prediction and the actual response is the residual. This is used to calculate the Root Mean Squared Error, which represents the average deviance of the model prediction from the model observation.\n",
        "\n",
        "VAF is **FINISH**\n"
      ]
    },
    {
      "metadata": {
        "id": "u6rzyQRY4wQR",
        "colab_type": "code",
        "outputId": "382cef09-82b7-4024-9ef3-0837c1d61564",
        "colab": {
          "base_uri": "https://localhost:8080/",
          "height": 68
        }
      },
      "cell_type": "code",
      "source": [
        "# R Squared\n",
        "lr_score = lr.score(X, y)\n",
        "\n",
        "# Predictions & errors\n",
        "lr_y_hat = lr.predict(X)\n",
        "lr_residuals = y - lr_y_hat\n",
        "\n",
        "#RMSE and VAF\n",
        "lr_RMSE = math.sqrt(mean_squared_error(y, lr_y_hat))\n",
        "lr_VAF_score = explained_variance_score(y, lr_y_hat)\n",
        "\n",
        "print('Linear Regression R-Squared: {}'.format(round(lr_score, 4)))\n",
        "print('Linear Regression RMSE: {}'.format(round(lr_RMSE,4)))\n",
        "print('Linear Regression Variance Explained: {}'.format(round(lr_VAF_score, 4)))"
      ],
      "execution_count": 13,
      "outputs": [
        {
          "output_type": "stream",
          "text": [
            "Linear Regression R-Squared: 0.9869\n",
            "Linear Regression RMSE: 0.4829\n",
            "Linear Regression Variance Explained: 0.9869\n"
          ],
          "name": "stdout"
        }
      ]
    },
    {
      "metadata": {
        "id": "HaIBAz59xIrs",
        "colab_type": "text"
      },
      "cell_type": "markdown",
      "source": [
        "The range on this scoring metric is 0 to 1 so the model performed **extremely** well, explaining almost 99% of the variance using only 2 variables. "
      ]
    },
    {
      "metadata": {
        "id": "EC-Ojbudlx3m",
        "colab_type": "text"
      },
      "cell_type": "markdown",
      "source": [
        "##Normal Equation Calculation Model\n",
        "\n",
        "Next the Beta parameters for the linear regression model will be solved for analytically using the Normal equation show below: \n",
        "\n",
        "The solution to the normal equation are the best parameters of a Linear Regression on a **Normal distribution**. The normal distribution is what is being assumed about the data's errors $\\epsilon$, with a mean of 0 and a standard deviation of 1.\n",
        "\n",
        "\n",
        "The solution to this equation gives the best coefficients for a model based on the X and y provided."
      ]
    },
    {
      "metadata": {
        "id": "6W26inv64wQa",
        "colab_type": "code",
        "outputId": "9b46a753-9b52-4f80-9011-01544c5c3092",
        "colab": {
          "base_uri": "https://localhost:8080/",
          "height": 85
        }
      },
      "cell_type": "code",
      "source": [
        "#(X.T . X)^-1 . (X.T * y)\n",
        "NE_params = np.dot(\n",
        "              #INV:\n",
        "              np.linalg.inv(\n",
        "                # X.T * X \n",
        "                np.dot(np.transpose(X),X))\n",
        "            , # X.T * Y\n",
        "              np.dot(np.transpose(X), y)\n",
        "                  )\n",
        "\n",
        "NE_params = pd.DataFrame(NE_params)\n",
        "NE_params.columns = ['Coefficients']\n",
        "NE_params.rename(index={0:'Salnty',1:'STheta', 2:'Intercept'}, inplace=True)\n",
        "print(round(NE_params, 4))"
      ],
      "execution_count": 14,
      "outputs": [
        {
          "output_type": "stream",
          "text": [
            "           Coefficients\n",
            "Salnty           3.1084\n",
            "STheta          -5.0376\n",
            "Intercept       35.7088\n"
          ],
          "name": "stdout"
        }
      ]
    },
    {
      "metadata": {
        "id": "Qk4LXGuzd08w",
        "colab_type": "text"
      },
      "cell_type": "markdown",
      "source": [
        "The model parameters are exactly the same as the parameters from the sklearn model.\n",
        "\n",
        "The model predictions' are calculated from solutions parameters. The models total residuals or, $SSE$  (Sum of Squares Error) is calculated, along with $SST$ (Sum of Squares Total). SST is the total sum squared difference between the $y_i$ and $\\bar{y}$, which is the average for all $y_i$. \n",
        "\n",
        "The  $R^2$ value is calculated using the equation :  $R^2 = 1 - \\frac{SSE}{SST}$\n"
      ]
    },
    {
      "metadata": {
        "id": "jRz2I3n75iiF",
        "colab_type": "code",
        "colab": {
          "base_uri": "https://localhost:8080/",
          "height": 136
        },
        "outputId": "a90f1683-619d-43b0-b3b2-afacfea9f951"
      },
      "cell_type": "code",
      "source": [
        "test = np.array(NE_params)\n",
        "print(test)\n",
        "print( NE_params)"
      ],
      "execution_count": 24,
      "outputs": [
        {
          "output_type": "stream",
          "text": [
            "[[ 3.10844916]\n",
            " [-5.0375517 ]\n",
            " [35.70884285]]\n",
            "           Coefficients\n",
            "Salnty         3.108449\n",
            "STheta        -5.037552\n",
            "Intercept     35.708843\n"
          ],
          "name": "stdout"
        }
      ]
    },
    {
      "metadata": {
        "id": "uQsmzP56yDEz",
        "colab_type": "code",
        "outputId": "a78bdf00-7368-405b-89eb-0f97fcce09d6",
        "colab": {
          "base_uri": "https://localhost:8080/",
          "height": 68
        }
      },
      "cell_type": "code",
      "source": [
        "#Predictions , residuals, and SSE\n",
        "NE_yhat = np.dot(X, np.array(NE_params)).T\n",
        "#NE_yhat = np.array((np.dot(X, np.array(NE_params)))).T\n",
        "NE_residuals = np.array(NE_yhat - y).ravel()\n",
        "NE_SSE = np.sum(np.square(NE_residuals)) \n",
        "\n",
        "#Ybar and SST\n",
        "y_bar = np.repeat(np.average(y), y.size)\n",
        "NE_SST = np.sum(np.square(np.subtract(y_bar, y)))\n",
        "\n",
        "#Rsquared from SSE & SST\n",
        "NE_Rsquared = 1-(NE_SSE/NE_SST)\n",
        "\n",
        "#RMSE & VAF\n",
        "NE_RMSE = np.sqrt(np.sum(np.square(NE_yhat-y))/NE_yhat.size)\n",
        "NE_VAF = 1-np.cov(np.array(np.array(y) - np.array(NE_yhat)).flatten())/np.cov(y)\n",
        "\n",
        "print('Normal Equation R Squared: {}'.format(round(NE_Rsquared, 4)))\n",
        "print(\"Normal Equation RMSE: {}\".format(round(NE_RMSE,4)))\n",
        "print('Normal Equation Variance Explained: {}'.format(round(NE_VAF, 4)))"
      ],
      "execution_count": 32,
      "outputs": [
        {
          "output_type": "stream",
          "text": [
            "Normal Equation R Squared: 0.9869\n",
            "Normal Equation RMSE: 0.4829\n",
            "Normal Equation Variance Explained: 0.9869\n"
          ],
          "name": "stdout"
        }
      ]
    },
    {
      "metadata": {
        "id": "IJdZl0qo4wQs",
        "colab_type": "text"
      },
      "cell_type": "markdown",
      "source": [
        "The model using the normal equation solution yields the same solution to the sklearn's linear regression model.\n",
        "\n",
        "The models residuals are shown below, which do conform the the normality assumption implied by definition of a simple linear regression."
      ]
    },
    {
      "metadata": {
        "id": "_jbuCQ3dJpIV",
        "colab_type": "code",
        "outputId": "aac99e4d-0522-4f54-dc05-1b455324e5c3",
        "colab": {
          "base_uri": "https://localhost:8080/",
          "height": 547
        }
      },
      "cell_type": "code",
      "source": [
        "def plot_model_resids(array, header):\n",
        "    sns.set_style('whitegrid')\n",
        "    plt.title(header)\n",
        "    sns.distplot(array\n",
        "                 , hist=True\n",
        "                 , kde=True\n",
        "                 , bins=int(len(array) / 100)\n",
        "                 , color = 'darkblue'\n",
        "                )\n",
        "    plt.show()\n",
        "    \n",
        "                 \n",
        "    \n",
        "plot_model_resids(lr_residuals, 'Linear Regression Residuals')\n",
        "plot_model_resids(NE_residuals, 'Normal Equation Residuals')"
      ],
      "execution_count": 36,
      "outputs": [
        {
          "output_type": "display_data",
          "data": {
            "image/png": "[encoded data removed]",
            "text/plain": [
              "<matplotlib.figure.Figure at 0x7f4079fc33c8>"
            ]
          },
          "metadata": {
            "tags": []
          }
        },
        {
          "output_type": "display_data",
          "data": {
            "image/png": "[encoded data removed]",
            "text/plain": [
              "<matplotlib.figure.Figure at 0x7f407b02d9e8>"
            ]
          },
          "metadata": {
            "tags": []
          }
        }
      ]
    },
    {
      "metadata": {
        "id": "dPxkxAnv_sf1",
        "colab_type": "code",
        "outputId": "4b4fd879-379a-43e5-8070-e8c47311ef81",
        "colab": {
          "base_uri": "https://localhost:8080/",
          "height": 71
        }
      },
      "cell_type": "code",
      "source": [
        "!jupyter nbconvert --to html '$NOTEBOOK_FILE'"
      ],
      "execution_count": 0,
      "outputs": [
        {
          "output_type": "stream",
          "text": [
            "[NbConvertApp] Converting notebook /content/gdrive/My Drive/Code/uchicago/Machine Learning & Predictive Analytics/Homework 1/Homework 1.ipynb to html\n",
            "[NbConvertApp] Writing 400570 bytes to /content/gdrive/My Drive/Code/uchicago/Machine Learning & Predictive Analytics/Homework 1/Homework 1.html\n"
          ],
          "name": "stdout"
        }
      ]
    }
  ]
}
