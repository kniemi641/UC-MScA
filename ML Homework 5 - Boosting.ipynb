{
  "nbformat": 4,
  "nbformat_minor": 0,
  "metadata": {
    "colab": {
      "name": "Homework 5.ipynb",
      "version": "0.3.2",
      "provenance": [],
      "collapsed_sections": [],
      "toc_visible": true,
      "include_colab_link": true
    },
    "kernelspec": {
      "name": "python3",
      "display_name": "Python 3"
    }
  },
  "cells": [
    {
      "cell_type": "markdown",
      "metadata": {
        "id": "view-in-github",
        "colab_type": "text"
      },
      "source": [
        "<a href=\"https://colab.research.google.com/github/kniemi641/UC-MScA/blob/master/ML%20Homework%205%20-%20Boosting.ipynb\" target=\"_parent\"><img src=\"https://colab.research.google.com/assets/colab-badge.svg\" alt=\"Open In Colab\"/></a>"
      ]
    },
    {
      "metadata": {
        "id": "r4Pul1o8ZxkB",
        "colab_type": "text"
      },
      "cell_type": "markdown",
      "source": [
        "# Homework 5 - Support Vector Machines\n",
        "The purpose of this exercise is to compare the performance of support-vector machine models (svms) generated using the default sklearn hyper-parameters, and hyper-parameters tuned using the sklearn GridSearchCV method. "
      ]
    },
    {
      "metadata": {
        "id": "JYVHSLQA-R82",
        "colab_type": "text"
      },
      "cell_type": "markdown",
      "source": [
        "## Packages & Variables"
      ]
    },
    {
      "metadata": {
        "id": "znSwAJifGV25",
        "colab_type": "code",
        "colab": {}
      },
      "cell_type": "code",
      "source": [
        "import pandas as pd\n",
        "import numpy as np\n",
        "import math\n",
        "import os\n",
        "from scipy import stats\n",
        "\n",
        "from sklearn.preprocessing import StandardScaler\n",
        "from sklearn.svm import SVC, LinearSVC\n",
        "from sklearn.model_selection import train_test_split, GridSearchCV\n",
        "from sklearn.metrics import confusion_matrix, classification_report, roc_auc_score, roc_curve, auc\n",
        "from sklearn.ensemble import RandomForestClassifier\n",
        "\n",
        "#Plotting Packages\n",
        "%matplotlib inline\n",
        "import matplotlib\n",
        "import matplotlib.pyplot as plt\n",
        "plt.rcParams['axes.labelsize'] = 14\n",
        "plt.rcParams['xtick.labelsize'] = 12\n",
        "plt.rcParams['ytick.labelsize'] = 12\n",
        "import seaborn as sns\n",
        "\n",
        "#Utility stuff\n",
        "import warnings\n",
        "warnings.filterwarnings('ignore')\n",
        "from google.colab import drive, files\n",
        "drive.mount('/content/gdrive')\n",
        "\n",
        "#Go Isoto\n",
        "np.random.seed(235)"
      ],
      "execution_count": 0,
      "outputs": []
    },
    {
      "metadata": {
        "id": "hiKx8PJwT6Xw",
        "colab_type": "code",
        "colab": {}
      },
      "cell_type": "code",
      "source": [
        "#GLOBAL & CONSTANTS\n",
        "HW_NUM = 5\n",
        "INPUT_DATA_FILE_TRAIN = 'train_data.csv'\n",
        "INPUT_DATA_FILE_TEST = 'test_data.csv'\n",
        "\n",
        "# static\n",
        "GD_CODE_DIR = '/content/gdrive/My Drive/Code/uchicago/'\n",
        "SUBJECT_DIR = 'Machine Learning & Predictive Analytics/'\n",
        "DATA_DIR = 'data/'\n",
        "MODEL_DIR = 'models/'\n",
        "LOGS_DIR = 'logs/'\n",
        "HOMEWORK_DIR = 'Homework {}/'.format(HW_NUM)\n",
        "NOTEBOOK_NAME = 'Homework {}.ipynb'.format(HW_NUM)\n",
        "\n",
        "\n",
        "MAIN_PATH = os.path.join(GD_CODE_DIR\n",
        "                        ,SUBJECT_DIR\n",
        "                        ,HOMEWORK_DIR)\n",
        "\n",
        "TEST_INPUT_FILE = os.path.join(MAIN_PATH\n",
        "                          ,DATA_DIR\n",
        "                          ,INPUT_DATA_FILE_TEST)\n",
        "\n",
        "TRAIN_INPUT_FILE = os.path.join(MAIN_PATH\n",
        "                          ,DATA_DIR\n",
        "                          ,INPUT_DATA_FILE_TRAIN)\n",
        "\n",
        "\n",
        "NOTEBOOK_FILE = os.path.join(MAIN_PATH\n",
        "                            ,NOTEBOOK_NAME)\n",
        "\n",
        "MODEL_EXPORT_PATH = os.path.join(MAIN_PATH\n",
        "                                ,MODEL_DIR)\n",
        "\n",
        "LOG_PATH = os.path.join(MAIN_PATH\n",
        "                       ,LOGS_DIR)"
      ],
      "execution_count": 0,
      "outputs": []
    },
    {
      "metadata": {
        "id": "6yDsS8CqeZbY",
        "colab_type": "text"
      },
      "cell_type": "markdown",
      "source": [
        "## Data Exploration & Preperation\n",
        "\n",
        "First the train and test data is loaded from the .csv files provided. The categorical variable 'class' is the response and the rest of the variables are used as predictors.  Observations with NaN values are dropped. The data has been provided in 2 files corresponding to the train and test set to be used for this exercise. "
      ]
    },
    {
      "metadata": {
        "id": "rXTwnt1AKkcJ",
        "colab_type": "code",
        "outputId": "51b4e675-9b64-4425-b9bf-a32f3b3271d9",
        "colab": {
          "base_uri": "https://localhost:8080/",
          "height": 578
        }
      },
      "cell_type": "code",
      "source": [
        "train_df = pd.DataFrame(pd.read_csv(TRAIN_INPUT_FILE))\n",
        "test_df = pd.DataFrame(pd.read_csv(TEST_INPUT_FILE))\n",
        "\n",
        "train_df.replace([\"NaN\", 'NaT'], np.nan, inplace = True)\n",
        "train_df.dropna(how='any', axis = 0, inplace=True)\n",
        "\n",
        "test_df.replace([\"NaN\", 'NaT'], np.nan, inplace = True)\n",
        "test_df.dropna(how='any', axis = 0, inplace = True)\n",
        "\n",
        "X_train = train_df.loc[:, train_df.columns != 'class']\n",
        "y_train = train_df.loc[:, train_df.columns == 'class'].values.ravel()\n",
        "\n",
        "X_test = test_df.loc[:, test_df.columns != 'class']\n",
        "y_test = test_df.loc[:, test_df.columns == 'class'].values.ravel()\n",
        "\n",
        "predictors = train_df.columns\n",
        "print(predictors.values)\n",
        "\n",
        "print('\\nShape of X Train: {}'.format(X_train.shape))\n",
        "print('\\nShape of X Test: {}'.format(X_test.shape))\n",
        "print('\\nShape of y Train: {}'.format(y_train.shape))\n",
        "print('\\nShape of y Test: {}'.format(y_test.shape))"
      ],
      "execution_count": 3,
      "outputs": [
        {
          "output_type": "stream",
          "text": [
            "['class' 'BrdIndx' 'Area' 'Round' 'Bright' 'Compact' 'ShpIndx' 'Mean_G'\n",
            " 'Mean_R' 'Mean_NIR' 'SD_G' 'SD_R' 'SD_NIR' 'LW' 'GLCM1' 'Rect' 'GLCM2'\n",
            " 'Dens' 'Assym' 'NDVI' 'BordLngth' 'GLCM3' 'BrdIndx_40' 'Area_40'\n",
            " 'Round_40' 'Bright_40' 'Compact_40' 'ShpIndx_40' 'Mean_G_40' 'Mean_R_40'\n",
            " 'Mean_NIR_40' 'SD_G_40' 'SD_R_40' 'SD_NIR_40' 'LW_40' 'GLCM1_40'\n",
            " 'Rect_40' 'GLCM2_40' 'Dens_40' 'Assym_40' 'NDVI_40' 'BordLngth_40'\n",
            " 'GLCM3_40' 'BrdIndx_60' 'Area_60' 'Round_60' 'Bright_60' 'Compact_60'\n",
            " 'ShpIndx_60' 'Mean_G_60' 'Mean_R_60' 'Mean_NIR_60' 'SD_G_60' 'SD_R_60'\n",
            " 'SD_NIR_60' 'LW_60' 'GLCM1_60' 'Rect_60' 'GLCM2_60' 'Dens_60' 'Assym_60'\n",
            " 'NDVI_60' 'BordLngth_60' 'GLCM3_60' 'BrdIndx_80' 'Area_80' 'Round_80'\n",
            " 'Bright_80' 'Compact_80' 'ShpIndx_80' 'Mean_G_80' 'Mean_R_80'\n",
            " 'Mean_NIR_80' 'SD_G_80' 'SD_R_80' 'SD_NIR_80' 'LW_80' 'GLCM1_80'\n",
            " 'Rect_80' 'GLCM2_80' 'Dens_80' 'Assym_80' 'NDVI_80' 'BordLngth_80'\n",
            " 'GLCM3_80' 'BrdIndx_100' 'Area_100' 'Round_100' 'Bright_100'\n",
            " 'Compact_100' 'ShpIndx_100' 'Mean_G_100' 'Mean_R_100' 'Mean_NIR_100'\n",
            " 'SD_G_100' 'SD_R_100' 'SD_NIR_100' 'LW_100' 'GLCM1_100' 'Rect_100'\n",
            " 'GLCM2_100' 'Dens_100' 'Assym_100' 'NDVI_100' 'BordLngth_100' 'GLCM3_100'\n",
            " 'BrdIndx_120' 'Area_120' 'Round_120' 'Bright_120' 'Compact_120'\n",
            " 'ShpIndx_120' 'Mean_G_120' 'Mean_R_120' 'Mean_NIR_120' 'SD_G_120'\n",
            " 'SD_R_120' 'SD_NIR_120' 'LW_120' 'GLCM1_120' 'Rect_120' 'GLCM2_120'\n",
            " 'Dens_120' 'Assym_120' 'NDVI_120' 'BordLngth_120' 'GLCM3_120'\n",
            " 'BrdIndx_140' 'Area_140' 'Round_140' 'Bright_140' 'Compact_140'\n",
            " 'ShpIndx_140' 'Mean_G_140' 'Mean_R_140' 'Mean_NIR_140' 'SD_G_140'\n",
            " 'SD_R_140' 'SD_NIR_140' 'LW_140' 'GLCM1_140' 'Rect_140' 'GLCM2_140'\n",
            " 'Dens_140' 'Assym_140' 'NDVI_140' 'BordLngth_140' 'GLCM3_140']\n",
            "\n",
            "Shape of X Train: (507, 147)\n",
            "\n",
            "Shape of X Test: (168, 147)\n",
            "\n",
            "Shape of y Train: (507,)\n",
            "\n",
            "Shape of y Test: (168,)\n"
          ],
          "name": "stdout"
        }
      ]
    },
    {
      "metadata": {
        "id": "UJt2WlsE-hUd",
        "colab_type": "text"
      },
      "cell_type": "markdown",
      "source": [
        "Next the train and test predictors are scaled using the training data scale parameters."
      ]
    },
    {
      "metadata": {
        "id": "g8ChBfIzMU1m",
        "colab_type": "code",
        "colab": {}
      },
      "cell_type": "code",
      "source": [
        "scaler = StandardScaler()\n",
        "X_train_scaled = scaler.fit_transform(X_train)\n",
        "X_test_scaled = scaler.transform(X_test)"
      ],
      "execution_count": 0,
      "outputs": []
    },
    {
      "metadata": {
        "id": "Y46BX_IW-sQi",
        "colab_type": "text"
      },
      "cell_type": "markdown",
      "source": [
        "## Random Forest\n",
        "\n",
        "Next a random forest classifier is trained using the default parameters from sklearn and used to predict the test data. This model will be a baseline to benchmark the svm models."
      ]
    },
    {
      "metadata": {
        "id": "04ohRwt8Hptz",
        "colab_type": "code",
        "colab": {}
      },
      "cell_type": "code",
      "source": [
        "rnd_clf = RandomForestClassifier()\n",
        "rnd_clf.fit(X_train_scaled, y_train)\n",
        "\n",
        "yhat_rf_train = rnd_clf.predict(X_train_scaled)\n",
        "yhat_rf_train_prob = rnd_clf.predict_proba(X_train)\n",
        "\n",
        "yhat_rf_test = rnd_clf.predict(X_test_scaled)\n",
        "yhat_rf_test_prob = rnd_clf.predict_proba(X_test)"
      ],
      "execution_count": 0,
      "outputs": []
    },
    {
      "metadata": {
        "id": "aFAW68f1-6Mg",
        "colab_type": "text"
      },
      "cell_type": "markdown",
      "source": [
        "The model score, confusion matrix and classification report are shown below."
      ]
    },
    {
      "metadata": {
        "id": "jlEQnYIuQGDm",
        "colab_type": "code",
        "outputId": "37f8b91b-3f97-4f4d-bb59-991d0fcfbf32",
        "colab": {
          "base_uri": "https://localhost:8080/",
          "height": 561
        }
      },
      "cell_type": "code",
      "source": [
        "rnd_clf_score_train = rnd_clf.score(X_train_scaled, y_train)\n",
        "\n",
        "rnd_clf_score = rnd_clf.score(X_test_scaled, y_test)\n",
        "rnd_clf_conf_mx = (confusion_matrix(y_test, yhat_rf_test))\n",
        "rnd_clf_class_report = (classification_report(y_test, yhat_rf_test))\n",
        "\n",
        "print('Model Score (train): {}'.format(round(rnd_clf_score_train, 4)))\n",
        "print('Model Score (test): {}'.format(round(rnd_clf_score, 4)))\n",
        "print('\\nConfusion Matrix\\n{}\\n'.format(rnd_clf_conf_mx))\n",
        "print('\\nClassification Report\\n{}'.format(rnd_clf_class_report))"
      ],
      "execution_count": 6,
      "outputs": [
        {
          "output_type": "stream",
          "text": [
            "Model Score (train): 0.9901\n",
            "Model Score (test): 0.7857\n",
            "\n",
            "Confusion Matrix\n",
            "[[14  0  0  0  0  0  0  0  0]\n",
            " [ 2 21  0  2  0  0  0  0  0]\n",
            " [ 1  1 13  0  0  0  0  0  0]\n",
            " [ 0  4  0 19  0  0  0  0  0]\n",
            " [ 0  0  0  0 23  0  0  0  6]\n",
            " [ 1  2  0  0  0 12  0  0  0]\n",
            " [ 3  0  0  0  0  0 13  0  0]\n",
            " [ 0  1  0  7  3  0  0  3  0]\n",
            " [ 0  0  0  1  2  0  0  0 14]]\n",
            "\n",
            "\n",
            "Classification Report\n",
            "              precision    recall  f1-score   support\n",
            "\n",
            "    asphalt        0.67      1.00      0.80        14\n",
            "   building        0.72      0.84      0.78        25\n",
            "        car        1.00      0.87      0.93        15\n",
            "   concrete        0.66      0.83      0.73        23\n",
            "      grass        0.82      0.79      0.81        29\n",
            "       pool        1.00      0.80      0.89        15\n",
            "     shadow        1.00      0.81      0.90        16\n",
            "       soil        1.00      0.21      0.35        14\n",
            "       tree        0.70      0.82      0.76        17\n",
            "\n",
            "   micro avg       0.79      0.79      0.79       168\n",
            "   macro avg       0.84      0.78      0.77       168\n",
            "weighted avg       0.82      0.79      0.78       168\n",
            "\n"
          ],
          "name": "stdout"
        }
      ]
    },
    {
      "metadata": {
        "id": "YEwXqoX8_oKQ",
        "colab_type": "text"
      },
      "cell_type": "markdown",
      "source": [
        "The model seems to be overfit, the performance on the train data is near perfect and there is a significant drop in performance on the test data.\n",
        "\n",
        "The feature importance plot below shows that even the top predictors don't capture that much variance."
      ]
    },
    {
      "metadata": {
        "id": "l0WXdZYpQF6t",
        "colab_type": "code",
        "outputId": "171e3066-5059-4c4c-ee76-d1e5fe71db25",
        "colab": {
          "base_uri": "https://localhost:8080/",
          "height": 469
        }
      },
      "cell_type": "code",
      "source": [
        "def get_top_importances(model, predictors, n=5):\n",
        "  importances = model.feature_importances_[:n]\n",
        "  indices = np.argsort(importances)[::-1]\n",
        "\n",
        "  # Print the feature ranking\n",
        "  print(\"Top {} Feature ranking:\".format(n))\n",
        "\n",
        "  for f in range(n):\n",
        "      print(\"{} Predictor {} {}\".format((f + 1), predictors[indices[f]], round(importances[indices[f]], 4)))\n",
        "\n",
        "  # Plot the feature importances of the forest\n",
        "  plt.figure()\n",
        "  plt.title(\"Feature importances\")\n",
        "  plt.bar(range(n), importances[indices[:n]],\n",
        "         color=\"b\", align=\"center\")\n",
        "  plt.xticks(range(10), indices)\n",
        "  plt.xlim([-1, n])\n",
        "  plt.show()\n",
        "  \n",
        "get_top_importances(rnd_clf, predictors, 10)"
      ],
      "execution_count": 7,
      "outputs": [
        {
          "output_type": "stream",
          "text": [
            "Top 10 Feature ranking:\n",
            "1 Predictor Mean_G 0.0445\n",
            "2 Predictor Round 0.0255\n",
            "3 Predictor Mean_R 0.0201\n",
            "4 Predictor ShpIndx 0.0121\n",
            "5 Predictor Bright 0.0014\n",
            "6 Predictor BrdIndx 0.0011\n",
            "7 Predictor Area 0.0009\n",
            "8 Predictor Compact 0.0006\n",
            "9 Predictor class 0.0006\n",
            "10 Predictor Mean_NIR 0.0002\n"
          ],
          "name": "stdout"
        },
        {
          "output_type": "display_data",
          "data": {
            "image/png": "[encoded data removed]",
            "text/plain": [
              "<matplotlib.figure.Figure at 0x7f973cf5b7f0>"
            ]
          },
          "metadata": {
            "tags": []
          }
        }
      ]
    },
    {
      "metadata": {
        "id": "tk9XR9kfPzOF",
        "colab_type": "code",
        "outputId": "9f290e33-f923-4add-e66c-6aeeec2c008f",
        "colab": {
          "base_uri": "https://localhost:8080/",
          "height": 284
        }
      },
      "cell_type": "code",
      "source": [
        "def make_heat_map(matrix):\n",
        "    sns.heatmap(matrix\n",
        "               , annot=True\n",
        "               , annot_kws={\"Size\" : 10}\n",
        "               , cmap=\"YlGnBu\")\n",
        "    \n",
        "    plt.figure(figsize=(10,10))\n",
        "    \n",
        "    plt.show()\n",
        "    \n",
        "make_heat_map(rnd_clf_conf_mx)"
      ],
      "execution_count": 8,
      "outputs": [
        {
          "output_type": "display_data",
          "data": {
            "image/png": "[encoded data removed]",
            "text/plain": [
              "<matplotlib.figure.Figure at 0x7f9716557208>"
            ]
          },
          "metadata": {
            "tags": []
          }
        },
        {
          "output_type": "display_data",
          "data": {
            "text/plain": [
              "<matplotlib.figure.Figure at 0x7f9716518f28>"
            ]
          },
          "metadata": {
            "tags": []
          }
        }
      ]
    },
    {
      "metadata": {
        "id": "0xofhFhk_4Wa",
        "colab_type": "text"
      },
      "cell_type": "markdown",
      "source": [
        "## Linear SVM\n",
        "\n",
        "Next a support vector classifier is trained using the default sklearn parameters and used to predict the train and test values. The default kernel for the SVC method is 'linear'."
      ]
    },
    {
      "metadata": {
        "id": "9lY9p1JtSl3L",
        "colab_type": "code",
        "colab": {}
      },
      "cell_type": "code",
      "source": [
        "linear_svm = SVC()\n",
        "linear_svm.fit(X_train_scaled, y_train) \n",
        "\n",
        "yhat_linear_svm_train = linear_svm.predict(X_train_scaled)\n",
        "yhat_linear_svm_test = linear_svm.predict(X_test_scaled)"
      ],
      "execution_count": 0,
      "outputs": []
    },
    {
      "metadata": {
        "id": "krLHbvQNAHl5",
        "colab_type": "text"
      },
      "cell_type": "markdown",
      "source": [
        "The model score, confusion matrix, and classification report are shown below."
      ]
    },
    {
      "metadata": {
        "id": "nqZ3hDZwS9gp",
        "colab_type": "code",
        "outputId": "28d3b33f-a904-4f76-9e49-af5706e1db72",
        "colab": {
          "base_uri": "https://localhost:8080/",
          "height": 544
        }
      },
      "cell_type": "code",
      "source": [
        "linear_svm_score_train = linear_svm.score(X_train_scaled, y_train)\n",
        "linear_svm_score = linear_svm.score(X_test_scaled, y_test)\n",
        "linear_svm_conf_mx = (confusion_matrix(y_test, yhat_linear_svm_test))\n",
        "linear_svm_class_report = (classification_report(y_test, yhat_linear_svm_test))\n",
        "\n",
        "print('Model Score (Train): {}'.format(round(linear_svm_score_train,4)))\n",
        "print('Model Score (Test): {}'.format(round(linear_svm_score, 4)))\n",
        "print('\\nConfusion Matrix\\n',linear_svm_conf_mx)\n",
        "print('\\nClassification Report\\n',linear_svm_class_report)"
      ],
      "execution_count": 11,
      "outputs": [
        {
          "output_type": "stream",
          "text": [
            "Model Score (Train): 0.9152\n",
            "Model Score (Test): 0.8214\n",
            "\n",
            "Confusion Matrix\n",
            " [[13  0  0  0  0  0  1  0  0]\n",
            " [ 1 21  0  2  1  0  0  0  0]\n",
            " [ 0  2 13  0  0  0  0  0  0]\n",
            " [ 0  4  0 19  0  0  0  0  0]\n",
            " [ 0  1  0  0 26  0  0  0  2]\n",
            " [ 0  1  0  0  0 13  1  0  0]\n",
            " [ 1  0  0  0  0  0 15  0  0]\n",
            " [ 0  2  0  5  3  0  0  4  0]\n",
            " [ 0  0  0  1  2  0  0  0 14]]\n",
            "\n",
            "Classification Report\n",
            "               precision    recall  f1-score   support\n",
            "\n",
            "    asphalt        0.87      0.93      0.90        14\n",
            "   building        0.68      0.84      0.75        25\n",
            "        car        1.00      0.87      0.93        15\n",
            "   concrete        0.70      0.83      0.76        23\n",
            "      grass        0.81      0.90      0.85        29\n",
            "       pool        1.00      0.87      0.93        15\n",
            "     shadow        0.88      0.94      0.91        16\n",
            "       soil        1.00      0.29      0.44        14\n",
            "       tree        0.88      0.82      0.85        17\n",
            "\n",
            "   micro avg       0.82      0.82      0.82       168\n",
            "   macro avg       0.87      0.81      0.81       168\n",
            "weighted avg       0.84      0.82      0.81       168\n",
            "\n"
          ],
          "name": "stdout"
        }
      ]
    },
    {
      "metadata": {
        "id": "gclg2SGpl5Sa",
        "colab_type": "text"
      },
      "cell_type": "markdown",
      "source": [
        "This model also appears to be overfit, however much less so than the random forest. "
      ]
    },
    {
      "metadata": {
        "id": "3U4LAirQUQzW",
        "colab_type": "code",
        "outputId": "dfe122f4-fc1e-4be6-f4b3-2726502a57b8",
        "colab": {
          "base_uri": "https://localhost:8080/",
          "height": 284
        }
      },
      "cell_type": "code",
      "source": [
        "make_heat_map(linear_svm_conf_mx)"
      ],
      "execution_count": 12,
      "outputs": [
        {
          "output_type": "display_data",
          "data": {
            "image/png": "[encoded data removed]",
            "text/plain": [
              "<matplotlib.figure.Figure at 0x7f9716482b70>"
            ]
          },
          "metadata": {
            "tags": []
          }
        },
        {
          "output_type": "display_data",
          "data": {
            "text/plain": [
              "<matplotlib.figure.Figure at 0x7f97164b4fd0>"
            ]
          },
          "metadata": {
            "tags": []
          }
        }
      ]
    },
    {
      "metadata": {
        "id": "2ceik6VgAOjS",
        "colab_type": "text"
      },
      "cell_type": "markdown",
      "source": [
        "## Linear SVM with GridSearchCV\n",
        "\n",
        "Next the linear svm model hyper-parameters are tuned using the grid search cross validation method, using a 9-fold validation. The parameter *'C'* in sklearn represents the error penalty, where a larger values of C represents a smaller hyper-plane margin. Ideally, there should be a large margin between the support vectors, however if the limit is too strict the model will miss some potential information\n",
        "\n",
        "The best estimator output from the grid search object represents the the model with a *'C'* value which has the best performance on a cross validated set. "
      ]
    },
    {
      "metadata": {
        "id": "k02QRifeUVhQ",
        "colab_type": "code",
        "outputId": "f0355999-e05d-4754-c297-c2e63796e8ab",
        "colab": {
          "base_uri": "https://localhost:8080/",
          "height": 85
        }
      },
      "cell_type": "code",
      "source": [
        "#create a dictionary of parameters \n",
        "c = np.concatenate([np.arange(0.001, .1, .005)\n",
        "                   , np.arange(.01, 1, .05)\n",
        "                   , np.arange(1, 10, .5)])\n",
        "\n",
        "param_grid_1 = {'C':c\n",
        "                ,'random_state':[235]}\n",
        "\n",
        "# create support vector classifier using linear kernal\n",
        "linear_svm_obj=SVC(kernel = 'linear')\n",
        "\n",
        "# Create gridsearch object with various combinations of parameters\n",
        "linear_svm_Grid = GridSearchCV(linear_svm_obj\n",
        "                               , param_grid_1\n",
        "                               , cv = 9\n",
        "                               , refit = True\n",
        "                               , n_jobs=-1\n",
        "                               , verbose = 1)\n",
        "\n",
        "linear_svm_Grid.fit(X_train_scaled, y_train);"
      ],
      "execution_count": 21,
      "outputs": [
        {
          "output_type": "stream",
          "text": [
            "Fitting 9 folds for each of 58 candidates, totalling 522 fits\n"
          ],
          "name": "stdout"
        },
        {
          "output_type": "stream",
          "text": [
            "[Parallel(n_jobs=-1)]: Using backend LokyBackend with 2 concurrent workers.\n",
            "[Parallel(n_jobs=-1)]: Done 172 tasks      | elapsed:    6.1s\n",
            "[Parallel(n_jobs=-1)]: Done 522 out of 522 | elapsed:   19.8s finished\n"
          ],
          "name": "stderr"
        }
      ]
    },
    {
      "metadata": {
        "id": "0oiz3lDkAtib",
        "colab_type": "text"
      },
      "cell_type": "markdown",
      "source": [
        "The best estimator from the grid search is saved, which has the hyper-parameters (only *C* for this model) shown below."
      ]
    },
    {
      "metadata": {
        "id": "A0vhoWYjX5_4",
        "colab_type": "code",
        "colab": {
          "base_uri": "https://localhost:8080/",
          "height": 34
        },
        "outputId": "6a1190e8-e07d-4596-ead3-1235d733134a"
      },
      "cell_type": "code",
      "source": [
        "linear_svm_best_estimator = linear_svm_Grid.best_estimator_\n",
        "linear_svm_best_params = linear_svm_Grid.best_params_\n",
        "print(linear_svm_best_params)\n",
        "\n",
        "yhat_linear_svm_grid_train = linear_svm_best_estimator.predict(X_train_scaled)\n",
        "yhat_linear_svm_grid = linear_svm_best_estimator.predict(X_test_scaled)"
      ],
      "execution_count": 22,
      "outputs": [
        {
          "output_type": "stream",
          "text": [
            "{'C': 0.036000000000000004, 'random_state': 235}\n"
          ],
          "name": "stdout"
        }
      ]
    },
    {
      "metadata": {
        "id": "90pZDIK6ZGGu",
        "colab_type": "code",
        "outputId": "2de1c76c-81c3-4574-ab3f-b0334a975e86",
        "colab": {
          "base_uri": "https://localhost:8080/",
          "height": 544
        }
      },
      "cell_type": "code",
      "source": [
        "linear_svm_grid_score_train = linear_svm_best_estimator.score(X_train_scaled, y_train)\n",
        "linear_svm_grid_score = linear_svm_best_estimator.score(X_test_scaled, y_test)\n",
        "linear_svm_grid_conf_mx = confusion_matrix(y_test, yhat_linear_svm_grid)\n",
        "linear_svm_grid_class_report = classification_report(y_test, yhat_linear_svm_grid)\n",
        "\n",
        "print('Model Score (train): {}'.format(round(linear_svm_grid_score_train,4)))\n",
        "print('Model Score (test): {}'.format(round(linear_svm_grid_score, 4)))\n",
        "print('\\nConfusion Matrix\\n',linear_svm_grid_conf_mx)\n",
        "print('\\nClassification Report\\n',linear_svm_grid_class_report)"
      ],
      "execution_count": 23,
      "outputs": [
        {
          "output_type": "stream",
          "text": [
            "Model Score (train): 0.931\n",
            "Model Score (test): 0.8393\n",
            "\n",
            "Confusion Matrix\n",
            " [[12  0  0  0  0  0  2  0  0]\n",
            " [ 0 23  0  2  0  0  0  0  0]\n",
            " [ 0  1 14  0  0  0  0  0  0]\n",
            " [ 0  3  0 19  0  0  0  1  0]\n",
            " [ 0  0  0  0 24  0  0  1  4]\n",
            " [ 1  0  0  0  0 14  0  0  0]\n",
            " [ 1  0  0  0  0  0 15  0  0]\n",
            " [ 0  1  0  6  2  0  0  5  0]\n",
            " [ 0  0  0  1  1  0  0  0 15]]\n",
            "\n",
            "Classification Report\n",
            "               precision    recall  f1-score   support\n",
            "\n",
            "    asphalt        0.86      0.86      0.86        14\n",
            "   building        0.82      0.92      0.87        25\n",
            "        car        1.00      0.93      0.97        15\n",
            "   concrete        0.68      0.83      0.75        23\n",
            "      grass        0.89      0.83      0.86        29\n",
            "       pool        1.00      0.93      0.97        15\n",
            "     shadow        0.88      0.94      0.91        16\n",
            "       soil        0.71      0.36      0.48        14\n",
            "       tree        0.79      0.88      0.83        17\n",
            "\n",
            "   micro avg       0.84      0.84      0.84       168\n",
            "   macro avg       0.85      0.83      0.83       168\n",
            "weighted avg       0.84      0.84      0.83       168\n",
            "\n"
          ],
          "name": "stdout"
        }
      ]
    },
    {
      "metadata": {
        "id": "LPqjsoJkBLtY",
        "colab_type": "text"
      },
      "cell_type": "markdown",
      "source": [
        "The model using the tuned hyper-parameters does indeed perform better than the model using default parameters. It has a higher train score and the test score has also improved. However there is still some overfitting."
      ]
    },
    {
      "metadata": {
        "id": "MeNQ3P7cP56G",
        "colab_type": "code",
        "outputId": "6ba3b475-0809-4980-e7ab-de91b9a82990",
        "colab": {
          "base_uri": "https://localhost:8080/",
          "height": 289
        }
      },
      "cell_type": "code",
      "source": [
        "make_heat_map(linear_svm_grid_conf_mx)"
      ],
      "execution_count": 24,
      "outputs": [
        {
          "output_type": "display_data",
          "data": {
            "image/png": "[encoded data removed]",
            "text/plain": [
              "<matplotlib.figure.Figure at 0x7f9735b74dd8>"
            ]
          },
          "metadata": {
            "tags": []
          }
        },
        {
          "output_type": "display_data",
          "data": {
            "text/plain": [
              "<matplotlib.figure.Figure at 0x7f97164d5630>"
            ]
          },
          "metadata": {
            "tags": []
          }
        }
      ]
    },
    {
      "metadata": {
        "id": "XYhgqnzrBYYm",
        "colab_type": "text"
      },
      "cell_type": "markdown",
      "source": [
        "## Polynomial SVM with GridSearchCV\n",
        "Next the grid search method is applied to an svc using a polynomial kernal, where the degree of the polynomial is iterated over; along with *'C'*."
      ]
    },
    {
      "metadata": {
        "id": "PCQ2VgGKZmbK",
        "colab_type": "code",
        "outputId": "05d0f5e8-acec-4c6b-eb23-b986e8192b77",
        "colab": {
          "base_uri": "https://localhost:8080/",
          "height": 408
        }
      },
      "cell_type": "code",
      "source": [
        "#create a dictionary of parameters \n",
        "param_grid_2 = { 'C':c\n",
        "               , 'degree': [1/2,2,3,4]\n",
        "               , 'random_state':[235]}\n",
        "\n",
        "# create Random Forest model \n",
        "poly_svm_obj=SVC(kernel = 'poly')\n",
        "\n",
        "# Create gridsearch object with various combinations of parameters\n",
        "poly_svm_Grid = GridSearchCV(poly_svm_obj\n",
        "                             , param_grid_2\n",
        "                             , cv = 9\n",
        "                             , refit = True\n",
        "                             , n_jobs=-1\n",
        "                             , verbose = 1)\n",
        "\n",
        "poly_svm_Grid.fit(X_train_scaled, y_train)"
      ],
      "execution_count": 31,
      "outputs": [
        {
          "output_type": "stream",
          "text": [
            "Fitting 9 folds for each of 232 candidates, totalling 2088 fits\n"
          ],
          "name": "stdout"
        },
        {
          "output_type": "stream",
          "text": [
            "[Parallel(n_jobs=-1)]: Using backend LokyBackend with 2 concurrent workers.\n",
            "[Parallel(n_jobs=-1)]: Done  46 tasks      | elapsed:    4.6s\n",
            "[Parallel(n_jobs=-1)]: Done 196 tasks      | elapsed:   16.5s\n",
            "[Parallel(n_jobs=-1)]: Done 446 tasks      | elapsed:   35.9s\n",
            "[Parallel(n_jobs=-1)]: Done 796 tasks      | elapsed:  1.0min\n",
            "[Parallel(n_jobs=-1)]: Done 1246 tasks      | elapsed:  1.6min\n",
            "[Parallel(n_jobs=-1)]: Done 1796 tasks      | elapsed:  2.2min\n",
            "[Parallel(n_jobs=-1)]: Done 2088 out of 2088 | elapsed:  2.5min finished\n"
          ],
          "name": "stderr"
        },
        {
          "output_type": "execute_result",
          "data": {
            "text/plain": [
              "GridSearchCV(cv=9, error_score='raise-deprecating',\n",
              "       estimator=SVC(C=1.0, cache_size=200, class_weight=None, coef0=0.0,\n",
              "  decision_function_shape='ovr', degree=3, gamma='auto_deprecated',\n",
              "  kernel='poly', max_iter=-1, probability=False, random_state=None,\n",
              "  shrinking=True, tol=0.001, verbose=False),\n",
              "       fit_params=None, iid='warn', n_jobs=-1,\n",
              "       param_grid={'C': array([1.0e-03, 6.0e-03, 1.1e-02, 1.6e-02, 2.1e-02, 2.6e-02, 3.1e-02,\n",
              "       3.6e-02, 4.1e-02, 4.6e-02, 5.1e-02, 5.6e-02, 6.1e-02, 6.6e-02,\n",
              "       7.1e-02, 7.6e-02, 8.1e-02, 8.6e-02, 9.1e-02, 9.6e-02, 1.0e-02,\n",
              "       6.0e-02, 1.1e-01, 1.6e-01, 2.1e-01, 2.6e-01, 3.1e-01, 3.6e-01,\n",
              "   ...5e+00, 8.0e+00, 8.5e+00,\n",
              "       9.0e+00, 9.5e+00]), 'degree': [0.5, 2, 3, 4], 'random_state': [235]},\n",
              "       pre_dispatch='2*n_jobs', refit=True, return_train_score='warn',\n",
              "       scoring=None, verbose=1)"
            ]
          },
          "metadata": {
            "tags": []
          },
          "execution_count": 31
        }
      ]
    },
    {
      "metadata": {
        "id": "2Hr9ExxVV5lG",
        "colab_type": "text"
      },
      "cell_type": "markdown",
      "source": [
        "The best estimator is saved and the hyper-parameters for it are shown below. "
      ]
    },
    {
      "metadata": {
        "id": "Vq2Fvsw9QJZ6",
        "colab_type": "code",
        "colab": {
          "base_uri": "https://localhost:8080/",
          "height": 34
        },
        "outputId": "9be8ce80-1be0-43ae-b59f-91bb6009a736"
      },
      "cell_type": "code",
      "source": [
        "poly_svm_best_estimator = poly_svm_Grid.best_estimator_\n",
        "poly_svm_best_params = poly_svm_Grid.best_params_\n",
        "print(poly_svm_best_params)\n",
        "yhat_poly_svm_train = poly_svm_best_estimator.predict(X_train_scaled)\n",
        "yhat_poly_svm = poly_svm_best_estimator.predict(X_test_scaled)"
      ],
      "execution_count": 32,
      "outputs": [
        {
          "output_type": "stream",
          "text": [
            "{'C': 4.5, 'degree': 2, 'random_state': 235}\n"
          ],
          "name": "stdout"
        }
      ]
    },
    {
      "metadata": {
        "id": "PyHGhltPUZfM",
        "colab_type": "text"
      },
      "cell_type": "markdown",
      "source": [
        "The C value this time is much larger and uses a third degree polynomial."
      ]
    },
    {
      "metadata": {
        "id": "X8CsKWv7Zu_l",
        "colab_type": "code",
        "outputId": "7ae3cf4d-361a-476e-fbb5-d812f4ffbd14",
        "colab": {
          "base_uri": "https://localhost:8080/",
          "height": 544
        }
      },
      "cell_type": "code",
      "source": [
        "poly_svm_grid_score_train = poly_svm_best_estimator.score(X_train_scaled, y_train)\n",
        "poly_svm_grid_score = poly_svm_best_estimator.score(X_test_scaled, y_test)\n",
        "poly_svm_conf_mx = confusion_matrix(y_test, yhat_poly_svm)\n",
        "poly_svm_class_report = classification_report(y_test, yhat_poly_svm)\n",
        "\n",
        "print('Model Score (train): {}'.format(round(poly_svm_grid_score_train,4)))\n",
        "print('Model Score (test): {}'.format(round(poly_svm_grid_score, 4)))\n",
        "print('\\nConfusion Matrix\\n',poly_svm_conf_mx)\n",
        "print('\\nClassification Report\\n',poly_svm_class_report)"
      ],
      "execution_count": 33,
      "outputs": [
        {
          "output_type": "stream",
          "text": [
            "Model Score (train): 0.9684\n",
            "Model Score (test): 0.7798\n",
            "\n",
            "Confusion Matrix\n",
            " [[13  0  0  0  0  0  1  0  0]\n",
            " [ 0 20  0  2  2  0  0  0  1]\n",
            " [ 0  2 13  0  0  0  0  0  0]\n",
            " [ 0  5  0 17  1  0  0  0  0]\n",
            " [ 0  0  0  0 24  0  0  2  3]\n",
            " [ 0  0  0  1  0 14  0  0  0]\n",
            " [ 2  0  0  0  0  0 14  0  0]\n",
            " [ 0  1  0  6  4  0  0  3  0]\n",
            " [ 0  0  0  1  3  0  0  0 13]]\n",
            "\n",
            "Classification Report\n",
            "               precision    recall  f1-score   support\n",
            "\n",
            "    asphalt        0.87      0.93      0.90        14\n",
            "   building        0.71      0.80      0.75        25\n",
            "        car        1.00      0.87      0.93        15\n",
            "   concrete        0.63      0.74      0.68        23\n",
            "      grass        0.71      0.83      0.76        29\n",
            "       pool        1.00      0.93      0.97        15\n",
            "     shadow        0.93      0.88      0.90        16\n",
            "       soil        0.60      0.21      0.32        14\n",
            "       tree        0.76      0.76      0.76        17\n",
            "\n",
            "   micro avg       0.78      0.78      0.78       168\n",
            "   macro avg       0.80      0.77      0.77       168\n",
            "weighted avg       0.78      0.78      0.77       168\n",
            "\n"
          ],
          "name": "stdout"
        }
      ]
    },
    {
      "metadata": {
        "id": "7Op_CRiZUwfJ",
        "colab_type": "text"
      },
      "cell_type": "markdown",
      "source": [
        "This model actually performs much worse than the linear kernal on both the train and test set. The f1-score, which represents a weighted average of the precision and recall. So overall much worse performance"
      ]
    },
    {
      "metadata": {
        "id": "-oMstyOPP9VZ",
        "colab_type": "code",
        "colab": {
          "base_uri": "https://localhost:8080/",
          "height": 289
        },
        "outputId": "b1039fd1-dcee-4fe5-f13d-fef3fda6fd54"
      },
      "cell_type": "code",
      "source": [
        "make_heat_map(poly_svm_conf_mx)"
      ],
      "execution_count": 34,
      "outputs": [
        {
          "output_type": "display_data",
          "data": {
            "image/png": "[encoded data removed]",
            "text/plain": [
              "<matplotlib.figure.Figure at 0x7f97127d2b38>"
            ]
          },
          "metadata": {
            "tags": []
          }
        },
        {
          "output_type": "display_data",
          "data": {
            "text/plain": [
              "<matplotlib.figure.Figure at 0x7f971278e358>"
            ]
          },
          "metadata": {
            "tags": []
          }
        }
      ]
    },
    {
      "metadata": {
        "id": "e5wL5IMxBwcj",
        "colab_type": "text"
      },
      "cell_type": "markdown",
      "source": [
        "## RBF SVM with GridSearch\n",
        "Finally an svm model using a radial basis kernal, which represents the squared euclidean distance between the two feature vectors, is tuned on the gamma parameter."
      ]
    },
    {
      "metadata": {
        "id": "bjgWMYTEa5ay",
        "colab_type": "code",
        "colab": {
          "base_uri": "https://localhost:8080/",
          "height": 425
        },
        "outputId": "1e991679-2cff-416a-de49-42a95e6da465"
      },
      "cell_type": "code",
      "source": [
        "# create a dictionary of parameters \n",
        "param_grid_3 = { 'C':c\n",
        "               , 'gamma': [0.001, 0.01, 0.1, 1, 10, 100]\n",
        "               , 'random_state':[0]}\n",
        "\n",
        "# create Random Forest model \n",
        "svm_rbf_obj=SVC(kernel = 'rbf')\n",
        "\n",
        "# Create gridsearch object with various combinations of parameters\n",
        "rbf_svm_Grid = GridSearchCV(svm_rbf_obj\n",
        "                            , param_grid_3\n",
        "                            , cv = 9\n",
        "                            , refit = True\n",
        "                            , n_jobs=-1\n",
        "                            , verbose = 1)\n",
        "\n",
        "rbf_svm_Grid.fit(X_train_scaled, y_train)"
      ],
      "execution_count": 36,
      "outputs": [
        {
          "output_type": "stream",
          "text": [
            "Fitting 9 folds for each of 348 candidates, totalling 3132 fits\n"
          ],
          "name": "stdout"
        },
        {
          "output_type": "stream",
          "text": [
            "[Parallel(n_jobs=-1)]: Using backend LokyBackend with 2 concurrent workers.\n",
            "[Parallel(n_jobs=-1)]: Done  46 tasks      | elapsed:    5.0s\n",
            "[Parallel(n_jobs=-1)]: Done 196 tasks      | elapsed:   19.3s\n",
            "[Parallel(n_jobs=-1)]: Done 446 tasks      | elapsed:   43.4s\n",
            "[Parallel(n_jobs=-1)]: Done 796 tasks      | elapsed:  1.3min\n",
            "[Parallel(n_jobs=-1)]: Done 1246 tasks      | elapsed:  2.0min\n",
            "[Parallel(n_jobs=-1)]: Done 1796 tasks      | elapsed:  2.9min\n",
            "[Parallel(n_jobs=-1)]: Done 2446 tasks      | elapsed:  3.9min\n",
            "[Parallel(n_jobs=-1)]: Done 3132 out of 3132 | elapsed:  4.9min finished\n"
          ],
          "name": "stderr"
        },
        {
          "output_type": "execute_result",
          "data": {
            "text/plain": [
              "GridSearchCV(cv=9, error_score='raise-deprecating',\n",
              "       estimator=SVC(C=1.0, cache_size=200, class_weight=None, coef0=0.0,\n",
              "  decision_function_shape='ovr', degree=3, gamma='auto_deprecated',\n",
              "  kernel='rbf', max_iter=-1, probability=False, random_state=None,\n",
              "  shrinking=True, tol=0.001, verbose=False),\n",
              "       fit_params=None, iid='warn', n_jobs=-1,\n",
              "       param_grid={'C': array([1.0e-03, 6.0e-03, 1.1e-02, 1.6e-02, 2.1e-02, 2.6e-02, 3.1e-02,\n",
              "       3.6e-02, 4.1e-02, 4.6e-02, 5.1e-02, 5.6e-02, 6.1e-02, 6.6e-02,\n",
              "       7.1e-02, 7.6e-02, 8.1e-02, 8.6e-02, 9.1e-02, 9.6e-02, 1.0e-02,\n",
              "       6.0e-02, 1.1e-01, 1.6e-01, 2.1e-01, 2.6e-01, 3.1e-01, 3.6e-01,\n",
              "   ...0, 8.5e+00,\n",
              "       9.0e+00, 9.5e+00]), 'gamma': [0.001, 0.01, 0.1, 1, 10, 100], 'random_state': [0]},\n",
              "       pre_dispatch='2*n_jobs', refit=True, return_train_score='warn',\n",
              "       scoring=None, verbose=1)"
            ]
          },
          "metadata": {
            "tags": []
          },
          "execution_count": 36
        }
      ]
    },
    {
      "metadata": {
        "id": "7P4jqtu5SWa6",
        "colab_type": "code",
        "colab": {
          "base_uri": "https://localhost:8080/",
          "height": 34
        },
        "outputId": "5846f4ac-e6c6-4cfd-b49f-cf606484b64a"
      },
      "cell_type": "code",
      "source": [
        "rbf_svm_best_estimator = rbf_svm_Grid.best_estimator_\n",
        "rbf_svm_best_params = rbf_svm_Grid.best_params_\n",
        "print(rbf_svm_best_params)\n",
        "\n",
        "y_pred_poly_rbf_grid_train = rbf_svm_best_estimator.predict(X_train_scaled)\n",
        "y_pred_poly_rbf_grid = rbf_svm_best_estimator.predict(X_test_scaled)"
      ],
      "execution_count": 37,
      "outputs": [
        {
          "output_type": "stream",
          "text": [
            "{'C': 2.0, 'gamma': 0.01, 'random_state': 0}\n"
          ],
          "name": "stdout"
        }
      ]
    },
    {
      "metadata": {
        "id": "kyNK-RR_Sh58",
        "colab_type": "code",
        "colab": {
          "base_uri": "https://localhost:8080/",
          "height": 544
        },
        "outputId": "9ef7b14a-4532-4802-9da6-e86fd89d4951"
      },
      "cell_type": "code",
      "source": [
        "rbf_svm_grid_score_train = poly_svm_best_estimator.score(X_train_scaled, y_train)\n",
        "rbf_svm_grid_score = poly_svm_best_estimator.score(X_test_scaled, y_test)\n",
        "rbf_svm_conf_mx = confusion_matrix(y_test, yhat_poly_svm)\n",
        "rbf_svm_class_report = classification_report(y_test, yhat_poly_svm)\n",
        "\n",
        "print('Model Score (train): {}'.format(round(rbf_svm_grid_score_train,4)))\n",
        "print('Model Score (test): {}'.format(round(rbf_svm_grid_score, 4)))\n",
        "print('\\nConfusion Matrix\\n',rbf_svm_conf_mx)\n",
        "print('\\nClassification Report\\n',rbf_svm_class_report)"
      ],
      "execution_count": 38,
      "outputs": [
        {
          "output_type": "stream",
          "text": [
            "Model Score (train): 0.9684\n",
            "Model Score (test): 0.7798\n",
            "\n",
            "Confusion Matrix\n",
            " [[13  0  0  0  0  0  1  0  0]\n",
            " [ 0 20  0  2  2  0  0  0  1]\n",
            " [ 0  2 13  0  0  0  0  0  0]\n",
            " [ 0  5  0 17  1  0  0  0  0]\n",
            " [ 0  0  0  0 24  0  0  2  3]\n",
            " [ 0  0  0  1  0 14  0  0  0]\n",
            " [ 2  0  0  0  0  0 14  0  0]\n",
            " [ 0  1  0  6  4  0  0  3  0]\n",
            " [ 0  0  0  1  3  0  0  0 13]]\n",
            "\n",
            "Classification Report\n",
            "               precision    recall  f1-score   support\n",
            "\n",
            "    asphalt        0.87      0.93      0.90        14\n",
            "   building        0.71      0.80      0.75        25\n",
            "        car        1.00      0.87      0.93        15\n",
            "   concrete        0.63      0.74      0.68        23\n",
            "      grass        0.71      0.83      0.76        29\n",
            "       pool        1.00      0.93      0.97        15\n",
            "     shadow        0.93      0.88      0.90        16\n",
            "       soil        0.60      0.21      0.32        14\n",
            "       tree        0.76      0.76      0.76        17\n",
            "\n",
            "   micro avg       0.78      0.78      0.78       168\n",
            "   macro avg       0.80      0.77      0.77       168\n",
            "weighted avg       0.78      0.78      0.77       168\n",
            "\n"
          ],
          "name": "stdout"
        }
      ]
    },
    {
      "metadata": {
        "id": "vc3QHTHVTYPR",
        "colab_type": "text"
      },
      "cell_type": "markdown",
      "source": [
        "This method again appears to produce an overfit model. The performance on train is near perfect, however the test predictions are near the upper end of results on test data."
      ]
    },
    {
      "metadata": {
        "id": "qdRiaQOOQAai",
        "colab_type": "code",
        "colab": {
          "base_uri": "https://localhost:8080/",
          "height": 289
        },
        "outputId": "e8a773b5-a949-4432-f8ed-725e8fa82294"
      },
      "cell_type": "code",
      "source": [
        "make_heat_map(rbf_svm_conf_mx)"
      ],
      "execution_count": 39,
      "outputs": [
        {
          "output_type": "display_data",
          "data": {
            "image/png": "[encoded data removed]",
            "text/plain": [
              "<matplotlib.figure.Figure at 0x7f97114a9ba8>"
            ]
          },
          "metadata": {
            "tags": []
          }
        },
        {
          "output_type": "display_data",
          "data": {
            "text/plain": [
              "<matplotlib.figure.Figure at 0x7f97114a9fd0>"
            ]
          },
          "metadata": {
            "tags": []
          }
        }
      ]
    },
    {
      "metadata": {
        "id": "8SCjPtslfptt",
        "colab_type": "text"
      },
      "cell_type": "markdown",
      "source": [
        "## Analysis\n",
        "\n",
        "Based on the classification reports, which give the precision, recall & f1-score for each class, the models using svm gridsearch for the linear & rbf kernal perform best, but only slightly better than the default sklearn svm and random forest models and parameters. I do think using grid search adds value to the models here, however using kernals beyond linear do not seem to add value in this circumstance. You may capture some vecotr in these more complicated feature spaces generted by these kernals, but it does take additional time and there is definitely a real risk of overfitting. In fact all of these models would qualify as overfitting in this case, although there is some differene in the amount. Overall I think think the linear svm using grid search is the best method for this approach, it has the least difference between its train and test performance, compared to the rbf kernal which has a near %100 training performance. That is a definite sign of extreme overfitting"
      ]
    },
    {
      "metadata": {
        "id": "TP9qHzGSaRMG",
        "colab_type": "code",
        "colab": {}
      },
      "cell_type": "code",
      "source": [
        "!jupyter nbconvert --to html '/content/gdrive/My Drive/Code/Machine Learning & Predictive Analytics/Homework 5/Homework 5.ipynb';"
      ],
      "execution_count": 0,
      "outputs": []
    }
  ]
}