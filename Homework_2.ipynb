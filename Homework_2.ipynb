{
  "nbformat": 4,
  "nbformat_minor": 0,
  "metadata": {
    "colab": {
      "name": "Homework 2.ipynb",
      "version": "0.3.2",
      "provenance": [],
      "collapsed_sections": [],
      "toc_visible": true,
      "include_colab_link": true
    },
    "kernelspec": {
      "display_name": "Python 3",
      "language": "python",
      "name": "python3"
    }
  },
  "cells": [
    {
      "cell_type": "markdown",
      "metadata": {
        "id": "view-in-github",
        "colab_type": "text"
      },
      "source": [
        "<a href=\"https://colab.research.google.com/github/kniemi641/UC-MScA/blob/master/Homework_2.ipynb\" target=\"_parent\"><img src=\"https://colab.research.google.com/assets/colab-badge.svg\" alt=\"Open In Colab\"/></a>"
      ]
    },
    {
      "metadata": {
        "id": "f_X4OPFe-Wu-",
        "colab_type": "text"
      },
      "cell_type": "markdown",
      "source": [
        "# Homework 2\n",
        "\n",
        "The purpose of this exercise is to use the gradient descent to solve for the best model parameters for a multivariate linear regression. This is a continuation of the Homework 1, inorder to prove that gradient descent can be used to *fit* for the optimum parameters of any model with a cost function. In this case we are proving it can be used to solve for the analytical solution for a linear regression.\n",
        "\n",
        "Since this a continuation, I will give a brief overview of the explatory analysis which was already performed :\n",
        "\n",
        "* Data is imported, observations containing null values in either the predictor or response variables are excluded.\n",
        "\n",
        "* There are outlier observations with STheta values ~10x larger than the mean. These have been removed. \n",
        "* A ones column is appended to the predictor set to solve for the intercept parameter\n"
      ]
    },
    {
      "metadata": {
        "id": "85p9M8Emk1_A",
        "colab_type": "text"
      },
      "cell_type": "markdown",
      "source": [
        "### Packages & Variables\n",
        "\n"
      ]
    },
    {
      "metadata": {
        "id": "BQemmtCF-Wu1",
        "colab_type": "code",
        "colab": {}
      },
      "cell_type": "code",
      "source": [
        "# Generic packages\n",
        "import pandas as pd\n",
        "import numpy as np\n",
        "import math\n",
        "import os\n",
        "from scipy import stats\n",
        "\n",
        "# sklearn model packages\n",
        "from sklearn.model_selection import train_test_split\n",
        "from sklearn.metrics import mean_squared_error\n",
        "from sklearn.preprocessing import StandardScaler\n",
        "\n",
        "# plotting packages\n",
        "%matplotlib inline\n",
        "import matplotlib\n",
        "import matplotlib.pyplot as plt\n",
        "plt.rcParams['axes.labelsize'] = 14\n",
        "plt.rcParams['xtick.labelsize'] = 12\n",
        "plt.rcParams['ytick.labelsize'] = 12\n",
        "import seaborn as sns\n",
        "%matplotlib inline\n",
        "\n",
        "# utility stuff\n",
        "import warnings\n",
        "warnings.filterwarnings('ignore')\n",
        "from google.colab import drive, files\n",
        "drive.mount('/content/gdrive')\n",
        "\n",
        "np.random.seed(235)"
      ],
      "execution_count": 0,
      "outputs": []
    },
    {
      "metadata": {
        "id": "-qS6imjDFSJ1",
        "colab_type": "code",
        "colab": {}
      },
      "cell_type": "code",
      "source": [
        "#GLOBAL & CONSTANTS\n",
        "\n",
        "# dynamic\n",
        "NUM = 2\n",
        "INPUT_DATA_FILE = 'bottle.csv'\n",
        "\n",
        "# static\n",
        "GD_CODE_DIR = '/content/gdrive/My Drive/Code/uchicago/'\n",
        "SUBJECT_DIR = 'Machine Learning & Predictive Analytics/'\n",
        "DATA_DIR = 'data/'\n",
        "MODEL_DIR = 'models/'\n",
        "LOGS_DIR = 'logs/'\n",
        "HOMEWORK_DIR = 'Homework {}/'.format(NUM)\n",
        "NOTEBOOK_NAME = 'Homework {}.ipynb'.format(NUM)\n",
        "\n",
        "\n",
        "MAIN_PATH = os.path.join(GD_CODE_DIR\n",
        "                        ,SUBJECT_DIR\n",
        "                        ,HOMEWORK_DIR)\n",
        "\n",
        "INPUT_FILE = os.path.join(MAIN_PATH\n",
        "                          ,DATA_DIR\n",
        "                          ,INPUT_DATA_FILE)\n",
        "\n",
        "NOTEBOOK_FILE = os.path.join(MAIN_PATH\n",
        "                            ,NOTEBOOK_NAME)\n",
        "\n",
        "MODEL_EXPORT_PATH = os.path.join(MAIN_PATH\n",
        "                                ,MODEL_DIR)\n",
        "\n",
        "LOG_PATH = os.path.join(MAIN_PATH\n",
        "                       ,LOGS_DIR)"
      ],
      "execution_count": 0,
      "outputs": []
    },
    {
      "metadata": {
        "id": "gsOFVgsPadT_",
        "colab_type": "text"
      },
      "cell_type": "markdown",
      "source": [
        "## Exploratory Analysis\n",
        "\n",
        "See Homework 1"
      ]
    },
    {
      "metadata": {
        "colab_type": "code",
        "id": "uk0tqqisJs2Z",
        "outputId": "96e4b832-0e34-45a8-a5ee-ac5dc6ce2d48",
        "colab": {
          "base_uri": "https://localhost:8080/",
          "height": 1122
        }
      },
      "cell_type": "code",
      "source": [
        "#Load data and take a look at it\n",
        "water_data = pd.read_csv(INPUT_FILE)\n",
        "water_df = pd.DataFrame(water_data)\n",
        "\n",
        "water_data.head(5)\n",
        "print(water_df.describe())\n",
        "print('\\n Columns from input file: \\n {}'.format(water_data.columns))"
      ],
      "execution_count": 4,
      "outputs": [
        {
          "output_type": "stream",
          "text": [
            "             Cst_Cnt        Btl_Cnt         Depthm         T_degC  \\\n",
            "count  864863.000000  864863.000000  864863.000000  853900.000000   \n",
            "mean    17138.790958  432432.000000     226.831951      10.799677   \n",
            "std     10240.949817  249664.587269     316.050259       4.243825   \n",
            "min         1.000000       1.000000       0.000000       1.440000   \n",
            "25%      8269.000000  216216.500000      46.000000       7.680000   \n",
            "50%     16848.000000  432432.000000     125.000000      10.060000   \n",
            "75%     26557.000000  648647.500000     300.000000      13.880000   \n",
            "max     34404.000000  864863.000000    5351.000000      31.140000   \n",
            "\n",
            "              Salnty         O2ml_L         STheta          O2Sat  \\\n",
            "count  817509.000000  696201.000000  812174.000000  661274.000000   \n",
            "mean       33.840350       3.392468      25.819394      57.103779   \n",
            "std         0.461843       2.073256       1.167787      37.094137   \n",
            "min        28.431000      -0.010000      20.934000      -0.100000   \n",
            "25%        33.488000       1.360000      24.965000      21.100000   \n",
            "50%        33.863000       3.440000      25.996000      54.400000   \n",
            "75%        34.196900       5.500000      26.646000      97.600000   \n",
            "max        37.034000      11.130000     250.784000     214.100000   \n",
            "\n",
            "         Oxy_µmol/Kg         BtlNum    ...             R_CHLA        R_PHAEO  \\\n",
            "count  661268.000000  118667.000000    ...      225276.000000  225275.000000   \n",
            "mean      148.808694      10.497426    ...           0.450225       0.198599   \n",
            "std        90.187533       6.189688    ...           1.208566       0.376539   \n",
            "min        -0.434900       0.000000    ...          -0.010000      -3.890000   \n",
            "25%        60.915470       5.000000    ...           0.050000       0.050000   \n",
            "50%       151.064150      10.000000    ...           0.160000       0.110000   \n",
            "75%       240.379600      16.000000    ...           0.390000       0.230000   \n",
            "max       485.701800      25.000000    ...          66.110000      65.300000   \n",
            "\n",
            "              R_PRES         R_SAMP         DIC1         DIC2          TA1  \\\n",
            "count  864863.000000  122006.000000  1999.000000   224.000000  2084.000000   \n",
            "mean      228.395694     162.071521  2153.239714  2168.148330  2256.055845   \n",
            "std       319.456731      85.722796   112.995202   154.852332    34.844435   \n",
            "min         0.000000       0.000000  1948.850000  1969.440000  2181.570000   \n",
            "25%        46.000000     200.000000  2028.330000  2008.977500  2230.322500   \n",
            "50%       126.000000     206.000000  2170.640000  2265.885000  2244.325000   \n",
            "75%       302.000000     214.000000  2253.810000  2315.525000  2278.505000   \n",
            "max      5458.000000     424.000000  2367.800000  2364.420000  2434.900000   \n",
            "\n",
            "               TA2        pH2        pH1  \n",
            "count   234.000000  10.000000  84.000000  \n",
            "mean   2278.858803   7.948570   7.910983  \n",
            "std      58.496495   0.021216   0.077666  \n",
            "min    2198.150000   7.923100   7.618300  \n",
            "25%    2229.062500   7.931475   7.898675  \n",
            "50%    2247.505000   7.946650   7.928850  \n",
            "75%    2316.452500   7.963300   7.955100  \n",
            "max    2437.000000   7.988300   8.047700  \n",
            "\n",
            "[8 rows x 70 columns]\n",
            "\n",
            " Columns from input file: \n",
            " Index(['Cst_Cnt', 'Btl_Cnt', 'Sta_ID', 'Depth_ID', 'Depthm', 'T_degC',\n",
            "       'Salnty', 'O2ml_L', 'STheta', 'O2Sat', 'Oxy_µmol/Kg', 'BtlNum',\n",
            "       'RecInd', 'T_prec', 'T_qual', 'S_prec', 'S_qual', 'P_qual', 'O_qual',\n",
            "       'SThtaq', 'O2Satq', 'ChlorA', 'Chlqua', 'Phaeop', 'Phaqua', 'PO4uM',\n",
            "       'PO4q', 'SiO3uM', 'SiO3qu', 'NO2uM', 'NO2q', 'NO3uM', 'NO3q', 'NH3uM',\n",
            "       'NH3q', 'C14As1', 'C14A1p', 'C14A1q', 'C14As2', 'C14A2p', 'C14A2q',\n",
            "       'DarkAs', 'DarkAp', 'DarkAq', 'MeanAs', 'MeanAp', 'MeanAq', 'IncTim',\n",
            "       'LightP', 'R_Depth', 'R_TEMP', 'R_POTEMP', 'R_SALINITY', 'R_SIGMA',\n",
            "       'R_SVA', 'R_DYNHT', 'R_O2', 'R_O2Sat', 'R_SIO3', 'R_PO4', 'R_NO3',\n",
            "       'R_NO2', 'R_NH4', 'R_CHLA', 'R_PHAEO', 'R_PRES', 'R_SAMP', 'DIC1',\n",
            "       'DIC2', 'TA1', 'TA2', 'pH2', 'pH1', 'DIC Quality Comment'],\n",
            "      dtype='object')\n"
          ],
          "name": "stdout"
        }
      ]
    },
    {
      "metadata": {
        "scrolled": false,
        "id": "XnqYMrKo-Wu_",
        "colab_type": "code",
        "outputId": "fa1abf0e-abde-4d2e-952f-c2f876bd7b48",
        "colab": {
          "base_uri": "https://localhost:8080/",
          "height": 884
        }
      },
      "cell_type": "code",
      "source": [
        "# From Homework 1, remove outliers and NAs\n",
        "water_df_clean = water_df[water_df.Salnty.notnull() \n",
        "                          & water_df.STheta.notnull() \n",
        "                          & water_df.T_degC.notnull()]\n",
        "\n",
        "predictors = ['Salnty', 'STheta']\n",
        "response = ['T_degC']\n",
        "\n",
        "print(water_df_clean.describe())"
      ],
      "execution_count": 5,
      "outputs": [
        {
          "output_type": "stream",
          "text": [
            "             Cst_Cnt        Btl_Cnt         Depthm         T_degC  \\\n",
            "count  812174.000000  812174.000000  812174.000000  812174.000000   \n",
            "mean    17730.743314  446791.897298     222.434704      10.847904   \n",
            "std     10079.691018  245798.556428     308.778427       4.221005   \n",
            "min         1.000000       1.000000       0.000000       1.440000   \n",
            "25%      9209.000000  240468.250000      47.000000       7.750000   \n",
            "50%     17873.000000  451139.500000     125.000000      10.100000   \n",
            "75%     26984.000000  659663.750000     300.000000      13.910000   \n",
            "max     34404.000000  864863.000000    5351.000000      31.140000   \n",
            "\n",
            "              Salnty         O2ml_L         STheta          O2Sat  \\\n",
            "count  812174.000000  661268.000000  812174.000000  661270.000000   \n",
            "mean       33.842424       3.416076      25.819394      57.103825   \n",
            "std         0.461567       2.068615       1.167787      37.094054   \n",
            "min        28.431000      -0.010000      20.934000      -0.100000   \n",
            "25%        33.490000       1.400000      24.965000      21.100000   \n",
            "50%        33.869200       3.470000      25.996000      54.400000   \n",
            "75%        34.198000       5.510000      26.646000      97.600000   \n",
            "max        37.034000      11.130000     250.784000     214.100000   \n",
            "\n",
            "         Oxy_µmol/Kg         BtlNum    ...             R_CHLA        R_PHAEO  \\\n",
            "count  661268.000000  116540.000000    ...      221495.000000  221497.000000   \n",
            "mean      148.808694      10.362751    ...           0.432899       0.190401   \n",
            "std        90.187533       6.110834    ...           1.158908       0.344446   \n",
            "min        -0.434900       0.000000    ...          -0.010000      -3.890000   \n",
            "25%        60.915470       5.000000    ...           0.050000       0.050000   \n",
            "50%       151.064150      10.000000    ...           0.160000       0.110000   \n",
            "75%       240.379600      15.000000    ...           0.380000       0.230000   \n",
            "max       485.701800      25.000000    ...          66.110000      65.300000   \n",
            "\n",
            "              R_PRES         R_SAMP         DIC1         DIC2          TA1  \\\n",
            "count  812174.000000  119877.000000  1999.000000   224.000000  2084.000000   \n",
            "mean      223.929593     161.225882  2153.239714  2168.148330  2256.055845   \n",
            "std       312.083237      86.075472   112.995202   154.852332    34.844435   \n",
            "min         0.000000       0.000000  1948.850000  1969.440000  2181.570000   \n",
            "25%        47.000000     200.000000  2028.330000  2008.977500  2230.322500   \n",
            "50%       126.000000     206.000000  2170.640000  2265.885000  2244.325000   \n",
            "75%       302.000000     213.000000  2253.810000  2315.525000  2278.505000   \n",
            "max      5458.000000     424.000000  2367.800000  2364.420000  2434.900000   \n",
            "\n",
            "               TA2        pH2        pH1  \n",
            "count   234.000000  10.000000  84.000000  \n",
            "mean   2278.858803   7.948570   7.910983  \n",
            "std      58.496495   0.021216   0.077666  \n",
            "min    2198.150000   7.923100   7.618300  \n",
            "25%    2229.062500   7.931475   7.898675  \n",
            "50%    2247.505000   7.946650   7.928850  \n",
            "75%    2316.452500   7.963300   7.955100  \n",
            "max    2437.000000   7.988300   8.047700  \n",
            "\n",
            "[8 rows x 70 columns]\n"
          ],
          "name": "stdout"
        }
      ]
    },
    {
      "metadata": {
        "id": "yZm7vy0Xnn-M",
        "colab_type": "code",
        "colab": {
          "base_uri": "https://localhost:8080/",
          "height": 353
        },
        "outputId": "a2d0fb70-9250-4c4a-b323-224b74af1a9d"
      },
      "cell_type": "code",
      "source": [
        "X_df = water_df_clean[predictors]\n",
        "y_df = water_df_clean[response]\n",
        "\n",
        "stheta_cut_off = 100\n",
        "\n",
        "# from HW 1 we know there are some STheta outliers\n",
        "y = y_df[X_df['STheta'].values < stheta_cut_off].values.ravel()\n",
        "X = X_df[X_df['STheta'].values < stheta_cut_off].values\n",
        "\n",
        "plt.scatter(X[:,0],y,label='STheta')  \n",
        "plt.scatter(X[:,1],y,label='Salnty')  \n",
        "plt.grid(True)\n",
        "plt.legend()\n",
        "plt.xlabel('X values')\n",
        "plt.ylabel('y (STheta) values')\n",
        "plt.show()\n",
        "\n",
        "\n",
        "print('\\n Shape of y:   {}'.format(y.shape))\n",
        "print('\\n Shape of X:   {}'.format(X.shape))"
      ],
      "execution_count": 7,
      "outputs": [
        {
          "output_type": "display_data",
          "data": {
            "image/png": "[encoded data removed]",
            "text/plain": [
              "<matplotlib.figure.Figure at 0x7f210987ba58>"
            ]
          },
          "metadata": {
            "tags": []
          }
        },
        {
          "output_type": "stream",
          "text": [
            "\n",
            " Shape of y:   (812168,)\n",
            "\n",
            " Shape of X:   (812168, 2)\n"
          ],
          "name": "stdout"
        }
      ]
    },
    {
      "metadata": {
        "id": "Hn3hYauU-WvP",
        "colab_type": "text"
      },
      "cell_type": "markdown",
      "source": [
        "## Train and Test Data\n",
        "\n",
        "In order to test the performance of the model generated by the gradient descent, the data are split into a train and test set. The sklearn function, `train_test_split` is used, splits an input dataset randomly (with seed functionality) into a provided ratio.\n",
        "\n",
        "The predictors are also scaled using the sklearn Standard Scaler. This will  center the data around 0 and normalize the data to a standard deviation of 1. This is to help during the gradient descent. If the $X$' scales are wildly different, a small adjustment in one to determine the optimum gradient path may drastically overpower a small adjustment in the other. **The test set is scaled using the parameters from the training set, to avoid data leakage** When validating model fit, it is important to keep the validation / test set isolated so the model can not gain any additional information from the test set. \n",
        "\n"
      ]
    },
    {
      "metadata": {
        "id": "wgajyqqJ-WvQ",
        "colab_type": "code",
        "outputId": "d076808c-91a3-477f-8622-ed8fdeed3c51",
        "colab": {
          "base_uri": "https://localhost:8080/",
          "height": 493
        }
      },
      "cell_type": "code",
      "source": [
        "test_size = 0.3\n",
        "X_train, X_test, y_train, y_test = train_test_split(X, y, test_size = test_size , random_state = 239)\n",
        "\n",
        "scaler = StandardScaler()\n",
        "X_train_scale = scaler.fit_transform(X_train)\n",
        "X_test_scale = scaler.transform(X_test)\n",
        "\n",
        "X_train_scale= np.column_stack([X_train_scale, np.ones([X_train_scale.shape[0], 1], dtype=np.int32)])\n",
        "X_test_scale = np.column_stack([X_test_scale, np.ones([X_test_scale.shape[0], 1], dtype=np.int32)])\n",
        "\n",
        "print(\"Training Data: {} of original dataset\".format(1-test_size)) \n",
        "print(\"y Data Shape: {}\".format(y_train.shape)) \n",
        "print(\"X Data Shape: {}\".format(X_train_scale.shape)) \n",
        "print(\"Scaled X Data:\\n {}\".format(pd.DataFrame(X_train_scale).describe())) \n",
        "\n",
        "print(\"\\n\\nTest Data: {} of original dataset\".format(test_size))\n",
        "print(\"y Data Shape: {}\".format(y_test.shape))\n",
        "print(\"X Data Shape: {}\".format(X_test_scale.shape))\n",
        "print(\"Scaled X Data: \\n {}\".format(pd.DataFrame(X_test_scale).describe()))"
      ],
      "execution_count": 13,
      "outputs": [
        {
          "output_type": "stream",
          "text": [
            "Training Data: 0.7 of original dataset\n",
            "y Data Shape: (568517,)\n",
            "X Data Shape: (568517, 3)\n",
            "Scaled X Data:\n",
            "                   0             1         2\n",
            "count  5.685170e+05  5.685170e+05  568517.0\n",
            "mean   2.357253e-12  3.443218e-13       1.0\n",
            "std    1.000001e+00  1.000001e+00       0.0\n",
            "min   -1.171888e+01 -4.849723e+00       1.0\n",
            "25%   -7.638039e-01 -8.466356e-01       1.0\n",
            "50%    5.907173e-02  1.769714e-01       1.0\n",
            "75%    7.715088e-01  8.223104e-01       1.0\n",
            "max    6.910594e+00  2.303612e+00       1.0\n",
            "\n",
            "\n",
            "Test Data: 0.3 of original dataset\n",
            "y Data Shape: (243651,)\n",
            "X Data Shape: (243651, 3)\n",
            "Scaled X Data: \n",
            "                    0              1         2\n",
            "count  243651.000000  243651.000000  243651.0\n",
            "mean       -0.002104      -0.003176       1.0\n",
            "std         0.998328       1.000283       0.0\n",
            "min       -11.718877      -4.849723       1.0\n",
            "25%        -0.763804      -0.848621       1.0\n",
            "50%         0.054741       0.174986       1.0\n",
            "75%         0.765012       0.819332       1.0\n",
            "max         6.037913       2.248013       1.0\n"
          ],
          "name": "stdout"
        }
      ]
    },
    {
      "metadata": {
        "id": "yg3l7Znd-WvX",
        "colab_type": "text"
      },
      "cell_type": "markdown",
      "source": [
        "Now both the predictors in train set are centered around 0 with a standard deviation of 1. The test set is centered around *nearly* one with a standard deviation of *nearly* 1. This is to be expected as the data was **randomly split** into the train and test set."
      ]
    },
    {
      "metadata": {
        "id": "cKUP8r2o-Wvh",
        "colab_type": "text"
      },
      "cell_type": "markdown",
      "source": [
        "## Minibatch Gradient Descent\n",
        "\n",
        "Next gradient descent is performed to find the model parameters, theta, which minimize the cost function. A mini-batch method was chosen to minimize computation time. The function uses a learning rate $eta$, and performs gradient descent over a set of predictors and response variables for a provided $epoch$ count. \n",
        "\n",
        "The parameters, theta, are then used to solve for the model predictions, yhat, which can then yield RMSE, R-squared and variance explained."
      ]
    },
    {
      "metadata": {
        "scrolled": true,
        "id": "vKxuIh62-Wvj",
        "colab_type": "code",
        "colab": {}
      },
      "cell_type": "code",
      "source": [
        "def grad_desc_minibatch_model(predictors, response, minibatch_sizes, eta = 0.1, epochs = 100):  \n",
        "    # minibatch size\n",
        "    # eta - learning rate\n",
        "    # epochs - number of epochs to run\n",
        "    m = len(predictors)\n",
        "        \n",
        "    thetas_final = []\n",
        "    \n",
        "    #for each batchsize in the batchize vector\n",
        "    for i, batch_size in enumerate(minibatch_sizes):\n",
        "      print('\\n Execution gradient descent {} using minibatch size of {} \\n'.format(i+1, minibatch_sizes[i]))\n",
        "      \n",
        "      #initialize random theta\n",
        "      theta = np.random.randn(3,1)\n",
        "      \n",
        "      #iterate over each epoch\n",
        "      for iteration in range(epochs):    \n",
        "          \n",
        "          #get random subsamples of length m\n",
        "          shuffled_indices = np.random.permutation(m)\n",
        "          X_b_shuffled = predictors[shuffled_indices]\n",
        "          y_shuffled = response[shuffled_indices]\n",
        "          \n",
        "          for i in range(0, m, batch_size):\n",
        "              \n",
        "              # set of shuffled Xs,Yx=s\n",
        "              xi = X_b_shuffled[i:i+batch_size]\n",
        "              yi = y_shuffled[i:i+batch_size]\n",
        "              \n",
        "              #determine gradient using blank equation\n",
        "              gradients = 2/batch_size * xi.T.dot(xi.dot(theta) - np.asmatrix(yi).T)\n",
        "              \n",
        "              #update theta by using the gradient vector and scaler learning rate\n",
        "              theta = theta - eta * gradients\n",
        "      \n",
        "      thetas_final.append(theta)\n",
        "\n",
        "    print('Finished!')\n",
        "    return thetas_final\n"
      ],
      "execution_count": 0,
      "outputs": []
    },
    {
      "metadata": {
        "id": "8rJCoq157y-t",
        "colab_type": "code",
        "outputId": "60a91669-a1a2-4199-8e70-cb5ab7e05474",
        "colab": {
          "base_uri": "https://localhost:8080/",
          "height": 187
        }
      },
      "cell_type": "code",
      "source": [
        "minibatchs = [50,2000,10000] \n",
        "model_thetas_list = grad_desc_minibatch_model(X_train_scale, y_train, minibatchs) "
      ],
      "execution_count": 15,
      "outputs": [
        {
          "output_type": "stream",
          "text": [
            "\n",
            " Execution gradient descent 1 using minibatch size of 50 \n",
            "\n",
            "\n",
            " Execution gradient descent 2 using minibatch size of 2000 \n",
            "\n",
            "\n",
            " Execution gradient descent 3 using minibatch size of 10000 \n",
            "\n",
            "Finished!\n"
          ],
          "name": "stdout"
        }
      ]
    },
    {
      "metadata": {
        "id": "a6rZXDz5uVGI",
        "colab_type": "code",
        "outputId": "5d6f6cf5-f452-4e91-c3f3-cb585f4df45c",
        "colab": {
          "base_uri": "https://localhost:8080/",
          "height": 374
        }
      },
      "cell_type": "code",
      "source": [
        "def summarize_coeffs(list, col_names, index_values, header='Values'):  \n",
        "  for i, item in enumerate(list):\n",
        "    print('\\n{} : {}'.format(header, minibatchs[i]))\n",
        "    df = pd.DataFrame(item).round(3)\n",
        "    df.columns = col_names\n",
        "    df.rename(index=index_values, inplace=True)\n",
        "    print(df,'\\n')\n",
        "  return\n",
        " \n",
        "column_names = ['Coefficients']\n",
        "index_values = {0:'Salnty',1:'STheta', 2:'Intercept'}\n",
        "\n",
        "summarize_coeffs(model_thetas_list, column_names, index_values, 'MiniBatch Sizes')"
      ],
      "execution_count": 17,
      "outputs": [
        {
          "output_type": "stream",
          "text": [
            "\n",
            "MiniBatch Sizes : 50\n",
            "           Coefficients\n",
            "Salnty            1.513\n",
            "STheta           -5.114\n",
            "Intercept        10.835 \n",
            "\n",
            "\n",
            "MiniBatch Sizes : 2000\n",
            "           Coefficients\n",
            "Salnty            1.431\n",
            "STheta           -5.060\n",
            "Intercept        10.848 \n",
            "\n",
            "\n",
            "MiniBatch Sizes : 10000\n",
            "           Coefficients\n",
            "Salnty            1.432\n",
            "STheta           -5.074\n",
            "Intercept        10.843 \n",
            "\n"
          ],
          "name": "stdout"
        }
      ]
    },
    {
      "metadata": {
        "id": "xFHQI9ZPAB88",
        "colab_type": "text"
      },
      "cell_type": "markdown",
      "source": [
        "The model parameters from our gradient descent look very different from those found using the standard linear regression model. However, this is due to the fact we have trained our model (found the best fit parameters) using **scaled** data. We can evalue the performance of the model by comparing the scoring metrics from the first model. Below are functions to get the model metrics of interest."
      ]
    },
    {
      "metadata": {
        "id": "dfIFrn4tss8W",
        "colab_type": "text"
      },
      "cell_type": "markdown",
      "source": [
        "## Model Fit"
      ]
    },
    {
      "metadata": {
        "id": "jwviL6gXwH2d",
        "colab_type": "code",
        "colab": {}
      },
      "cell_type": "code",
      "source": [
        "def get_model_stats(model_params, X, y):\n",
        "  \n",
        "  yhat = np.dot(X, model_params).T\n",
        "  residuals = np.square(np.subtract(yhat, y))\n",
        "  SSE = np.sum(residuals)\n",
        "  ybar = np.repeat(np.average(y), len(y))\n",
        "  SST = np.sum(np.square(np.subtract(ybar, y)))   \n",
        "  RMSE = np.sqrt(np.sum(np.square(yhat - y)) / len(y))\n",
        "  RSquared = 1 - (SSE/SST)  \n",
        "  \n",
        "  return RSquared, RMSE, residuals"
      ],
      "execution_count": 0,
      "outputs": []
    },
    {
      "metadata": {
        "id": "qf-tPbLM24Rr",
        "colab_type": "code",
        "colab": {}
      },
      "cell_type": "code",
      "source": [
        "def plot_model_resids(residuals):\n",
        "    sns.set_style('whitegrid')\n",
        "    sns.distplot(residuals\n",
        "                 , hist=False\n",
        "                 , kde=True\n",
        "                 , bins=int(len(residuals/100))\n",
        "                 , color = 'darkblue'\n",
        "                 , hist_kws={'edgecolor':'black'}\n",
        "                 , kde_kws={'linewidth': 3})"
      ],
      "execution_count": 0,
      "outputs": []
    },
    {
      "metadata": {
        "id": "0GaiSJ4KHCMX",
        "colab_type": "code",
        "outputId": "86894203-d6f3-44b6-be06-0c0de9808524",
        "colab": {
          "base_uri": "https://localhost:8080/",
          "height": 272
        }
      },
      "cell_type": "code",
      "source": [
        "def summarize_model(X, y, minibatchs, model_thetas_list):\n",
        "    RSquared = []\n",
        "    RMSE = []\n",
        "    Residuals = []\n",
        "\n",
        "    for i, item in enumerate(model_thetas_list):\n",
        "      rsquared, rmse, residuals = get_model_stats(item, X, y)\n",
        "      RSquared.append(rsquared)\n",
        "      RMSE.append(rmse)\n",
        "      Residuals.append(residuals)\n",
        "\n",
        "      print(\"\\nModel Scores using GD with minibatch size of : {}\".format(minibatchs[i]))\n",
        "      print(\"R-Squared :{}\".format(round(RSquared[i],4)))\n",
        "      print(\"RMSE :{}\".format(round(RMSE[i],4)))\n",
        "      print(\"VAF :{}\".format(round(RSquared[i],4)))\n",
        "    return RSquared, RMSE, Residuals\n",
        "\n",
        "Model_Squared, RMSE, Model_resids = summarize_model(X_train_scale, y_train, minibatchs, model_thetas_list)"
      ],
      "execution_count": 21,
      "outputs": [
        {
          "output_type": "stream",
          "text": [
            "\n",
            "Model Scores using GD with minibatch size of : 50\n",
            "R-Squared :0.9867\n",
            "RMSE :0.4865\n",
            "VAF :0.9867\n",
            "\n",
            "Model Scores using GD with minibatch size of : 2000\n",
            "R-Squared :0.9869\n",
            "RMSE :0.4832\n",
            "VAF :0.9869\n",
            "\n",
            "Model Scores using GD with minibatch size of : 10000\n",
            "R-Squared :0.9869\n",
            "RMSE :0.4831\n",
            "VAF :0.9869\n"
          ],
          "name": "stdout"
        }
      ]
    },
    {
      "metadata": {
        "id": "AvhzmZoCBTzM",
        "colab_type": "text"
      },
      "cell_type": "markdown",
      "source": [
        "These model scores are essentially identical to the Linear Regression models in Homework 1 for all minibatch sizes, more so for 2000, and 10000. This shows that our model using gradient descent has find the global minima of the cost function, which exists as a linear regression can be solved for using the normal equation\n",
        "\n",
        "Plot the residuals "
      ]
    },
    {
      "metadata": {
        "id": "X4FzvWPQ34Ai",
        "colab_type": "text"
      },
      "cell_type": "markdown",
      "source": [
        "## Model Validation\n",
        "\n",
        "In order to confirm the model has not been overfit, the preserved test dataset will be used to get predictions from the models generated using the train data. The model metrics, $R^2$ and $RMSE$ should remain consistent between the train and test data sets."
      ]
    },
    {
      "metadata": {
        "id": "uODhcKXv2jUn",
        "colab_type": "code",
        "colab": {
          "base_uri": "https://localhost:8080/",
          "height": 272
        },
        "outputId": "3f754775-dc6a-45b6-c9dc-10c03abfb6c2"
      },
      "cell_type": "code",
      "source": [
        "Model_R_Squared_test, RMSE_test, model_resids_test = summarize_model(X_test_scale, y_test, minibatchs, model_thetas_list)"
      ],
      "execution_count": 40,
      "outputs": [
        {
          "output_type": "stream",
          "text": [
            "\n",
            "Model Scores using GD with minibatch size of : 50\n",
            "R-Squared:0.9866\n",
            "RMSE:0.488\n",
            "VAF:0.9866\n",
            "\n",
            "Model Scores using GD with minibatch size of : 2000\n",
            "R-Squared:0.9869\n",
            "RMSE:0.4824\n",
            "VAF:0.9869\n",
            "\n",
            "Model Scores using GD with minibatch size of : 10000\n",
            "R-Squared:0.9869\n",
            "RMSE:0.4824\n",
            "VAF:0.9869\n"
          ],
          "name": "stdout"
        }
      ]
    },
    {
      "metadata": {
        "id": "Zp_gyOqpajUs",
        "colab_type": "text"
      },
      "cell_type": "markdown",
      "source": [
        "## Summary"
      ]
    },
    {
      "metadata": {
        "id": "gdnWGn09-WwS",
        "colab_type": "text"
      },
      "cell_type": "markdown",
      "source": [
        "All models have a consistent r squared between as train and test indicating no overfitting. All values are within a .01 of the parameters solved using the normal equation. Overall the gradient descent performs very well on this data set, even when using batch sizes of 50. The performance is on par with the the analytical solution and the epoch size could probably be reduced without losing too much performance, making the computation time even quicker."
      ]
    },
    {
      "metadata": {
        "id": "2KyCWbu-BAVB",
        "colab_type": "code",
        "outputId": "ef72fede-ad15-4565-c85a-de1625bc2f23",
        "colab": {
          "base_uri": "https://localhost:8080/",
          "height": 71
        }
      },
      "cell_type": "code",
      "source": [
        "!jupyter nbconvert --to html '$NOTEBOOK_FILE'"
      ],
      "execution_count": 0,
      "outputs": [
        {
          "output_type": "stream",
          "text": [
            "[NbConvertApp] Converting notebook /content/gdrive/My Drive/Code/Machine Learning & Predictive Analytics/Homework 2/Homework 2.ipynb to html\n",
            "[NbConvertApp] Writing 475156 bytes to /content/gdrive/My Drive/Code/Machine Learning & Predictive Analytics/Homework 2/Homework 2.html\n"
          ],
          "name": "stdout"
        }
      ]
    }
  ]
}