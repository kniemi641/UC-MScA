{
  "nbformat": 4,
  "nbformat_minor": 0,
  "metadata": {
    "colab": {
      "name": "Homework 4.ipynb",
      "version": "0.3.2",
      "provenance": [],
      "collapsed_sections": [],
      "toc_visible": true,
      "include_colab_link": true
    },
    "kernelspec": {
      "name": "python3",
      "display_name": "Python 3"
    }
  },
  "cells": [
    {
      "cell_type": "markdown",
      "metadata": {
        "id": "view-in-github",
        "colab_type": "text"
      },
      "source": [
        "<a href=\"https://colab.research.google.com/github/kniemi641/UC-MScA/blob/master/ML%20Homework%204%20-%20Random%20Forest%20with%20Grid%26Random%20Search%20hypertuning.ipynb\" target=\"_parent\"><img src=\"https://colab.research.google.com/assets/colab-badge.svg\" alt=\"Open In Colab\"/></a>"
      ]
    },
    {
      "metadata": {
        "id": "n-AnsTxUAmu7",
        "colab_type": "text"
      },
      "cell_type": "markdown",
      "source": [
        "#  Homework 4\n",
        "\n",
        "The purpose of this exercise is to create random-forest classifer models using data from the 'default of credit card clients.csv' file provided. One model is prepared using the default parameters from the sklearn library and the other uses the grid search method to iterate over a supplied dictionary of hyper-parameter values. "
      ]
    },
    {
      "metadata": {
        "id": "-7IUJoCBWBLI",
        "colab_type": "text"
      },
      "cell_type": "markdown",
      "source": [
        "## Packages & Variables"
      ]
    },
    {
      "metadata": {
        "id": "gsE_n023Lva_",
        "colab_type": "code",
        "colab": {}
      },
      "cell_type": "code",
      "source": [
        "# Generic Packages\n",
        "import pandas as pd\n",
        "import numpy as np\n",
        "import math\n",
        "import os\n",
        "from scipy import stats\n",
        "\n",
        "# sklearn packages\n",
        "from sklearn.model_selection import train_test_split, GridSearchCV, RandomizedSearchCV\n",
        "from sklearn.metrics import confusion_matrix, classification_report, roc_auc_score, roc_curve, auc\n",
        "from sklearn.ensemble import RandomForestClassifier\n",
        "\n",
        "# Plotting Packages\n",
        "%matplotlib inline\n",
        "import matplotlib\n",
        "import matplotlib.pyplot as plt\n",
        "plt.rcParams['axes.labelsize'] = 14\n",
        "plt.rcParams['xtick.labelsize'] = 12\n",
        "plt.rcParams['ytick.labelsize'] = 12\n",
        "import seaborn as sns\n",
        "\n",
        "# Utility stuff\n",
        "import pickle\n",
        "import warnings\n",
        "warnings.filterwarnings('ignore')\n",
        "from google.colab import drive, files\n",
        "drive.mount('/content/gdrive')\n",
        "\n",
        "np.random.seed(235)"
      ],
      "execution_count": 0,
      "outputs": []
    },
    {
      "metadata": {
        "id": "STGF4IrkEwHz",
        "colab_type": "code",
        "colab": {}
      },
      "cell_type": "code",
      "source": [
        "#GLOBAL & CONSTANTS\n",
        "NUM = 4\n",
        "INPUT_DATA_FILE = 'default of credit card clients.csv'\n",
        "\n",
        "GD_CODE_DIR = '/content/gdrive/My Drive/Code/uchicago/'\n",
        "SUBJECT_DIR = 'Machine Learning & Predictive Analytics/'\n",
        "DATA_DIR = 'data/'\n",
        "MODEL_DIR = 'models/'\n",
        "LOGS_DIR = 'logs/'\n",
        "HOMEWORK_DIR = 'Homework {}/'.format(NUM)\n",
        "NOTEBOOK_NAME = 'Homework {}.ipynb'.format(NUM)\n",
        "\n",
        "MAIN_PATH = os.path.join(GD_CODE_DIR\n",
        "                        ,SUBJECT_DIR\n",
        "                        ,HOMEWORK_DIR)\n",
        "\n",
        "INPUT_FILE = os.path.join(MAIN_PATH\n",
        "                          ,DATA_DIR\n",
        "                          ,INPUT_DATA_FILE)\n",
        "\n",
        "NOTEBOOK_FILE = os.path.join(MAIN_PATH\n",
        "                            ,NOTEBOOK_NAME)\n",
        "\n",
        "MODEL_EXPORT_PATH = os.path.join(MAIN_PATH\n",
        "                                ,MODEL_DIR)\n",
        "\n",
        "LOG_PATH = os.path.join(MAIN_PATH\n",
        "                       ,LOGS_DIR)\n",
        "\n",
        "\n",
        "\n"
      ],
      "execution_count": 0,
      "outputs": []
    },
    {
      "metadata": {
        "id": "tsLMzGnqwEVP",
        "colab_type": "text"
      },
      "cell_type": "markdown",
      "source": [
        "## Exploratory Analysis\n",
        "\n",
        "The data is imported, the Identifier column 'ID' is dropped, along with observations with 'NaN' values"
      ]
    },
    {
      "metadata": {
        "id": "ZXfze9DaMmzJ",
        "colab_type": "code",
        "outputId": "b5a67e0b-e0cb-4252-a3bb-7a6afac60a66",
        "colab": {
          "base_uri": "https://localhost:8080/",
          "height": 1003
        }
      },
      "cell_type": "code",
      "source": [
        "credit_data = pd.read_csv(INPUT_FILE)\n",
        "credit_df = pd.DataFrame(credit_data)\n",
        "\n",
        "columns = credit_df.columns.get_values()\n",
        "credit_df.columns=columns\n",
        "\n",
        "credit_df.drop(columns = ['ID'], inplace=True)\n",
        "credit_df.replace([\"NaN\", 'NaT'], np.nan, inplace =True)\n",
        "credit_df.dropna(how='any', axis = 0, inplace=True)\n",
        "\n",
        "print('Columns: {}'.format(columns))\n",
        "print('\\n Highlevel Stats of data: {}'.format(credit_df.describe()))\n",
        "print('\\n Shape of Data: {}'.format(credit_df.shape))"
      ],
      "execution_count": 3,
      "outputs": [
        {
          "output_type": "stream",
          "text": [
            "Columns: ['ID' 'LIMIT_BAL' 'SEX' 'EDUCATION' 'MARRIAGE' 'AGE' 'PAY_0' 'PAY_2'\n",
            " 'PAY_3' 'PAY_4' 'PAY_5' 'PAY_6' 'BILL_AMT1' 'BILL_AMT2' 'BILL_AMT3'\n",
            " 'BILL_AMT4' 'BILL_AMT5' 'BILL_AMT6' 'PAY_AMT1' 'PAY_AMT2' 'PAY_AMT3'\n",
            " 'PAY_AMT4' 'PAY_AMT5' 'PAY_AMT6' 'default payment next month']\n",
            "\n",
            " Highlevel Stats of data:             LIMIT_BAL           SEX     EDUCATION      MARRIAGE           AGE  \\\n",
            "count    30000.000000  30000.000000  30000.000000  30000.000000  30000.000000   \n",
            "mean    167484.322667      1.603733      1.853133      1.551867     35.485500   \n",
            "std     129747.661567      0.489129      0.790349      0.521970      9.217904   \n",
            "min      10000.000000      1.000000      0.000000      0.000000     21.000000   \n",
            "25%      50000.000000      1.000000      1.000000      1.000000     28.000000   \n",
            "50%     140000.000000      2.000000      2.000000      2.000000     34.000000   \n",
            "75%     240000.000000      2.000000      2.000000      2.000000     41.000000   \n",
            "max    1000000.000000      2.000000      6.000000      3.000000     79.000000   \n",
            "\n",
            "              PAY_0         PAY_2         PAY_3         PAY_4         PAY_5  \\\n",
            "count  30000.000000  30000.000000  30000.000000  30000.000000  30000.000000   \n",
            "mean      -0.016700     -0.133767     -0.166200     -0.220667     -0.266200   \n",
            "std        1.123802      1.197186      1.196868      1.169139      1.133187   \n",
            "min       -2.000000     -2.000000     -2.000000     -2.000000     -2.000000   \n",
            "25%       -1.000000     -1.000000     -1.000000     -1.000000     -1.000000   \n",
            "50%        0.000000      0.000000      0.000000      0.000000      0.000000   \n",
            "75%        0.000000      0.000000      0.000000      0.000000      0.000000   \n",
            "max        8.000000      8.000000      8.000000      8.000000      8.000000   \n",
            "\n",
            "                  ...                  BILL_AMT4      BILL_AMT5  \\\n",
            "count             ...               30000.000000   30000.000000   \n",
            "mean              ...               43262.948967   40311.400967   \n",
            "std               ...               64332.856134   60797.155770   \n",
            "min               ...             -170000.000000  -81334.000000   \n",
            "25%               ...                2326.750000    1763.000000   \n",
            "50%               ...               19052.000000   18104.500000   \n",
            "75%               ...               54506.000000   50190.500000   \n",
            "max               ...              891586.000000  927171.000000   \n",
            "\n",
            "           BILL_AMT6       PAY_AMT1      PAY_AMT2      PAY_AMT3  \\\n",
            "count   30000.000000   30000.000000  3.000000e+04   30000.00000   \n",
            "mean    38871.760400    5663.580500  5.921163e+03    5225.68150   \n",
            "std     59554.107537   16563.280354  2.304087e+04   17606.96147   \n",
            "min   -339603.000000       0.000000  0.000000e+00       0.00000   \n",
            "25%      1256.000000    1000.000000  8.330000e+02     390.00000   \n",
            "50%     17071.000000    2100.000000  2.009000e+03    1800.00000   \n",
            "75%     49198.250000    5006.000000  5.000000e+03    4505.00000   \n",
            "max    961664.000000  873552.000000  1.684259e+06  896040.00000   \n",
            "\n",
            "            PAY_AMT4       PAY_AMT5       PAY_AMT6  default payment next month  \n",
            "count   30000.000000   30000.000000   30000.000000                30000.000000  \n",
            "mean     4826.076867    4799.387633    5215.502567                    0.221200  \n",
            "std     15666.159744   15278.305679   17777.465775                    0.415062  \n",
            "min         0.000000       0.000000       0.000000                    0.000000  \n",
            "25%       296.000000     252.500000     117.750000                    0.000000  \n",
            "50%      1500.000000    1500.000000    1500.000000                    0.000000  \n",
            "75%      4013.250000    4031.500000    4000.000000                    0.000000  \n",
            "max    621000.000000  426529.000000  528666.000000                    1.000000  \n",
            "\n",
            "[8 rows x 24 columns]\n",
            "\n",
            " Shape of Data: (30000, 24)\n"
          ],
          "name": "stdout"
        }
      ]
    },
    {
      "metadata": {
        "id": "EhMX3Es03dRF",
        "colab_type": "text"
      },
      "cell_type": "markdown",
      "source": [
        "The response will be the categorical variable 'default payment next month' and the remaining columns will be used as predictors."
      ]
    },
    {
      "metadata": {
        "id": "gWu8UE8BlzZ-",
        "colab_type": "code",
        "colab": {
          "base_uri": "https://localhost:8080/",
          "height": 880
        },
        "outputId": "8252d36f-6495-4470-db9a-9087d822b871"
      },
      "cell_type": "code",
      "source": [
        "predictors = credit_df.columns[credit_df.columns != 'default payment next month']\n",
        "response = credit_df.columns[(credit_df.columns == 'default payment next month')]\n",
        "\n",
        "def plot_df_hists(df, X_names, y_names, b = 50):  \n",
        "  df.hist(bins=b, figsize=(15,15))\n",
        "  plt.show()\n",
        "  \n",
        "plot_df_hists(credit_df, predictors.ravel(), response, 20)"
      ],
      "execution_count": 4,
      "outputs": [
        {
          "output_type": "display_data",
          "data": {
            "image/png": "[encoded data removed]",
            "text/plain": [
              "<matplotlib.figure.Figure at 0x7f37e1e6f320>"
            ]
          },
          "metadata": {
            "tags": []
          }
        }
      ]
    },
    {
      "metadata": {
        "id": "nw1VSLyexpJJ",
        "colab_type": "text"
      },
      "cell_type": "markdown",
      "source": [
        "The data is split into train and test with a ratio of 0.3. "
      ]
    },
    {
      "metadata": {
        "id": "0yuPmtxZO07b",
        "colab_type": "code",
        "colab": {
          "base_uri": "https://localhost:8080/",
          "height": 153
        },
        "outputId": "e864ae80-0596-4f5a-c2fa-1e360fcf3c96"
      },
      "cell_type": "code",
      "source": [
        "X_train, X_test, y_train, y_test = train_test_split(credit_df[predictors]\n",
        "                                                    , credit_df[response]\n",
        "                                                    , test_size = .3\n",
        "                                                    , random_state = 235)\n",
        "y_train = y_train.values.ravel()\n",
        "y_test = y_test.values.ravel()\n",
        "\n",
        "print('\\nShape of X Train: {}'.format(X_train.shape))\n",
        "print('\\nShape of X Test: {}'.format(X_test.shape))\n",
        "print('\\nShape of y Train: {}'.format(y_train.shape))\n",
        "print('\\nShape of y Train: {}'.format(y_test.shape))"
      ],
      "execution_count": 5,
      "outputs": [
        {
          "output_type": "stream",
          "text": [
            "\n",
            "Shape of X Train: (21000, 23)\n",
            "\n",
            "Shape of X Test: (9000, 23)\n",
            "\n",
            "Shape of y Train: (21000,)\n",
            "\n",
            "Shape of y Train: (9000,)\n"
          ],
          "name": "stdout"
        }
      ]
    },
    {
      "metadata": {
        "id": "vsjt6yLM9G1V",
        "colab_type": "text"
      },
      "cell_type": "markdown",
      "source": [
        "## Random Forest with sklearn defaults\n",
        "\n",
        "The RandomForestClassifier model, with the default hyper-parameters values, is used to fit the model to the training data. The default sklearn hyper-parameters (not all, just the ones of interest for the assignement) are max_features = n_features, max_depth = None, and n_estimators=100.\n",
        "\n",
        "The model is scored using the mean accuracy for each class, the classification report and confusion matrix are shown below. "
      ]
    },
    {
      "metadata": {
        "colab_type": "code",
        "id": "PR5hVXxyC2R2",
        "outputId": "f73c005b-ab06-4b54-a88e-091e6f269bd3",
        "colab": {
          "base_uri": "https://localhost:8080/",
          "height": 306
        }
      },
      "cell_type": "code",
      "source": [
        "rnd_clf = RandomForestClassifier()\n",
        "rnd_clf.fit(X_train, y_train)\n",
        "\n",
        "yhat_rf_train = rnd_clf.predict(X_train)\n",
        "yhat_rf_test = rnd_clf.predict(X_test)\n",
        "\n",
        "yhat_rf_train_prob = rnd_clf.predict_proba(X_train)\n",
        "yhat_rf_test_prob = rnd_clf.predict_proba(X_test)\n",
        "\n",
        "rnd_clf_score_train = rnd_clf.score(X_train, y_train)\n",
        "rnd_clf_score_test = rnd_clf.score(X_test, y_test)\n",
        "\n",
        "rnd_clf_conf_mx = confusion_matrix(y_test, yhat_rf_test)\n",
        "rnd_clf_class_report = (classification_report(y_test, yhat_rf_test))\n",
        "\n",
        "print('Model Score Train: {}'.format(round(rnd_clf_score_train, 4)))\n",
        "print('Model Score Test: {}'.format(round(rnd_clf_score_test, 4)))\n",
        "print('\\nConfusion Matrix:\\n{}'.format(rnd_clf_conf_mx))\n",
        "print('\\nClassification Report\\n{}'.format(rnd_clf_class_report))"
      ],
      "execution_count": 6,
      "outputs": [
        {
          "output_type": "stream",
          "text": [
            "Model Score Train: 0.9808\n",
            "Model Score Test: 0.8037\n",
            "\n",
            "Confusion Matrix:\n",
            "[[6606  378]\n",
            " [1389  627]]\n",
            "\n",
            "Classification Report\n",
            "              precision    recall  f1-score   support\n",
            "\n",
            "           0       0.83      0.95      0.88      6984\n",
            "           1       0.62      0.31      0.42      2016\n",
            "\n",
            "   micro avg       0.80      0.80      0.80      9000\n",
            "   macro avg       0.73      0.63      0.65      9000\n",
            "weighted avg       0.78      0.80      0.78      9000\n",
            "\n"
          ],
          "name": "stdout"
        }
      ]
    },
    {
      "metadata": {
        "id": "b9A1ZQCL_M2m",
        "colab_type": "text"
      },
      "cell_type": "markdown",
      "source": [
        "The model is very overfit, as there is a large difference between the mean accuracy scores of the train and test data. The difference between the recall scores between the two classes is quite large as well. This indicates the model is predicting actual positives for the '0' class very well, and very poor for class '1'. This makes intuitive sense as the dataset is unbalanced, with much more '0' observations (no defaults). "
      ]
    },
    {
      "metadata": {
        "id": "ceGUbaDTrWFJ",
        "colab_type": "code",
        "outputId": "2534a9f6-0285-4737-f35a-65a6dee93446",
        "colab": {
          "base_uri": "https://localhost:8080/",
          "height": 284
        }
      },
      "cell_type": "code",
      "source": [
        "def make_heat_map(matrix):\n",
        "    sns.heatmap(  matrix\n",
        "                , annot=True\n",
        "                , annot_kws={\"Size\" : 10}\n",
        "                , cmap=\"YlGnBu\")\n",
        "    plt.figure(figsize=(10,10))\n",
        "    plt.show()\n",
        "    \n",
        "make_heat_map(rnd_clf_conf_mx)"
      ],
      "execution_count": 7,
      "outputs": [
        {
          "output_type": "display_data",
          "data": {
            "image/png": "[encoded data removed]",
            "text/plain": [
              "<matplotlib.figure.Figure at 0x7f37db11add8>"
            ]
          },
          "metadata": {
            "tags": []
          }
        },
        {
          "output_type": "display_data",
          "data": {
            "text/plain": [
              "<matplotlib.figure.Figure at 0x7f37de4dadd8>"
            ]
          },
          "metadata": {
            "tags": []
          }
        }
      ]
    },
    {
      "metadata": {
        "id": "qA_f3Qn9A2B0",
        "colab_type": "text"
      },
      "cell_type": "markdown",
      "source": [
        "Next the ROC curve is constructed which is the true positive rate versus the false positive rate. The area under the curve, 'auroc', is calculated, which represents how well the model performs over all cut-off probability values. For reference, a model using a perfectly random coin would have an auroc 0.5 ."
      ]
    },
    {
      "metadata": {
        "id": "yUmmiR86D3kL",
        "colab_type": "code",
        "outputId": "3c8b14bd-4992-4428-f227-660ede6ad409",
        "colab": {
          "base_uri": "https://localhost:8080/",
          "height": 317
        }
      },
      "cell_type": "code",
      "source": [
        "rnd_clf_aucroc = roc_auc_score(y_test, yhat_rf_test_prob[:,1])\n",
        "print('Area Under the ROC: {}'.format(round(rnd_clf_aucroc, 4)))\n",
        "\n",
        "def create_roc_plot(y_test, y_hat_test_prob):\n",
        "  # limit to probability for class = 1 \n",
        "  fpr = dict()\n",
        "  tpr = dict()\n",
        "  roc_auc = dict()\n",
        "  for i in range(20):\n",
        "      fpr[i], tpr[i], _ = roc_curve(y_test, y_hat_test_prob)\n",
        "      roc_auc[i] = auc(fpr[i], tpr[i])\n",
        "\n",
        "  plt.figure()\n",
        "  plt.plot(fpr[1], tpr[1])\n",
        "  plt.xlim([0.0, 1.0])\n",
        "  plt.ylim([0.0, 1.05])\n",
        "  plt.xlabel('False Positive Rate')\n",
        "  plt.ylabel('True Positive Rate')\n",
        "  plt.title('Receiver operating characteristic curve')\n",
        "  plt.show()\n",
        "  \n",
        "create_roc_plot(y_test ,yhat_rf_test_prob[:,1])"
      ],
      "execution_count": 8,
      "outputs": [
        {
          "output_type": "stream",
          "text": [
            "Area Under the ROC: 0.7307\n"
          ],
          "name": "stdout"
        },
        {
          "output_type": "display_data",
          "data": {
            "image/png": "[encoded data removed]",
            "text/plain": [
              "<matplotlib.figure.Figure at 0x7f37dae4b320>"
            ]
          },
          "metadata": {
            "tags": []
          }
        }
      ]
    },
    {
      "metadata": {
        "id": "QPmIpP9UiZ3R",
        "colab_type": "text"
      },
      "cell_type": "markdown",
      "source": [
        "The 'auroc' shows the model has much room for improvement. A better performing model would have a curve which skews heavily to the top left of the 1x1 box (resulting in more area)."
      ]
    },
    {
      "metadata": {
        "id": "hXY8iUefNRgV",
        "colab_type": "code",
        "outputId": "6d7a3f2d-a596-4731-cf91-f8509ebbc3c1",
        "colab": {
          "base_uri": "https://localhost:8080/",
          "height": 469
        }
      },
      "cell_type": "code",
      "source": [
        "def get_top_importances(model, predictors, n=5):\n",
        "  importances = model.feature_importances_[:n]\n",
        "  indices = np.argsort(importances)[::-1]\n",
        "\n",
        "  # Print the feature ranking\n",
        "  print(\"Top {} Feature ranking:\".format(n))\n",
        "\n",
        "  for f in range(n):\n",
        "      print(\"Predictor: {} ({})\".format(predictors[indices[f]], round(importances[indices[f]], 4)))\n",
        "\n",
        "  # Plot the feature importances of the forest\n",
        "  plt.figure()\n",
        "  plt.title(\"Feature importances\")\n",
        "  plt.bar(range(n), importances[indices[:n]], color=\"b\", align=\"center\")\n",
        "  plt.xticks(range(10), indices)\n",
        "  plt.xlim([-1, n])\n",
        "  plt.show()\n",
        "  \n",
        "get_top_importances(rnd_clf, predictors, 10)"
      ],
      "execution_count": 9,
      "outputs": [
        {
          "output_type": "stream",
          "text": [
            "Top 10 Feature ranking:\n",
            "Predictor: PAY_0 (0.1073)\n",
            "Predictor: AGE (0.0664)\n",
            "Predictor: LIMIT_BAL (0.0581)\n",
            "Predictor: PAY_5 (0.0319)\n",
            "Predictor: PAY_2 (0.0262)\n",
            "Predictor: PAY_3 (0.0248)\n",
            "Predictor: PAY_4 (0.0211)\n",
            "Predictor: EDUCATION (0.0207)\n",
            "Predictor: MARRIAGE (0.0143)\n",
            "Predictor: SEX (0.0124)\n"
          ],
          "name": "stdout"
        },
        {
          "output_type": "display_data",
          "data": {
            "image/png": "[encoded data removed]",
            "text/plain": [
              "<matplotlib.figure.Figure at 0x7f37dae4b2b0>"
            ]
          },
          "metadata": {
            "tags": []
          }
        }
      ]
    },
    {
      "metadata": {
        "id": "xYBstvsbjhQA",
        "colab_type": "text"
      },
      "cell_type": "markdown",
      "source": [
        "The fifth feature is the most important, which is age in this case. This shows the model is constructing rules that are consistent with our business interpretation of the problem, age is the best predictor (for this model) at determining whether a user will default."
      ]
    },
    {
      "metadata": {
        "id": "h5x_czvDfpG2",
        "colab_type": "text"
      },
      "cell_type": "markdown",
      "source": [
        "## GridSearchCV Random Forest"
      ]
    },
    {
      "metadata": {
        "id": "VcARr5f2-zoM",
        "colab_type": "text"
      },
      "cell_type": "markdown",
      "source": [
        "Next a model is generated using the GridSearchCV method, which uses k-fold cross validation to compare models created using a dictionary of hyper parameters, and chooses the best parameters. The n_estimators, max_features, max_depth and bootstrap indicator are chosen as hyper parameters to iterate over. A k value of 5 is used for the cross-fold validation, and the area under the reciever operating curve (roc_auc) is used as the accuracy metric."
      ]
    },
    {
      "metadata": {
        "id": "58faqCXdFPzM",
        "colab_type": "code",
        "outputId": "174a1b6f-e612-4de1-89ba-e3a256702e72",
        "colab": {
          "base_uri": "https://localhost:8080/",
          "height": 326
        }
      },
      "cell_type": "code",
      "source": [
        "#create a dictionary of parameters \n",
        "n_estimators = np.arange(500,1500,100)\n",
        "max_feats = np.arange(2,8,2)\n",
        "max_depth = np.arange(1,3,1)\n",
        "\n",
        "param_grid = {\n",
        "              'n_estimators':n_estimators\n",
        "              ,'max_features':max_feats\n",
        "              ,'max_depth':max_depth\n",
        "              ,'random_state':[235]}\n",
        "\n",
        "# create Random Forest model \n",
        "rf_obj=RandomForestClassifier()\n",
        "\n",
        "# Create gridsearch object with various combinations of parameters\n",
        "rf_Grid = GridSearchCV(rf_obj\n",
        "                       ,param_grid\n",
        "                       ,cv = 5\n",
        "                       ,scoring = 'roc_auc'\n",
        "                       ,refit = True\n",
        "                       ,n_jobs=-1\n",
        "                       ,verbose = 1)\n",
        "\n",
        "\n",
        "rf_Grid.fit(X_train, y_train)"
      ],
      "execution_count": 10,
      "outputs": [
        {
          "output_type": "stream",
          "text": [
            "Fitting 5 folds for each of 60 candidates, totalling 300 fits\n"
          ],
          "name": "stdout"
        },
        {
          "output_type": "stream",
          "text": [
            "[Parallel(n_jobs=-1)]: Using backend LokyBackend with 2 concurrent workers.\n",
            "[Parallel(n_jobs=-1)]: Done  46 tasks      | elapsed:  2.5min\n",
            "[Parallel(n_jobs=-1)]: Done 196 tasks      | elapsed: 14.1min\n",
            "[Parallel(n_jobs=-1)]: Done 300 out of 300 | elapsed: 26.5min finished\n"
          ],
          "name": "stderr"
        },
        {
          "output_type": "execute_result",
          "data": {
            "text/plain": [
              "GridSearchCV(cv=5, error_score='raise-deprecating',\n",
              "       estimator=RandomForestClassifier(bootstrap=True, class_weight=None, criterion='gini',\n",
              "            max_depth=None, max_features='auto', max_leaf_nodes=None,\n",
              "            min_impurity_decrease=0.0, min_impurity_split=None,\n",
              "            min_samples_leaf=1, min_samples_split=2,\n",
              "            min_weight_fraction_leaf=0.0, n_estimators='warn', n_jobs=None,\n",
              "            oob_score=False, random_state=None, verbose=0,\n",
              "            warm_start=False),\n",
              "       fit_params=None, iid='warn', n_jobs=-1,\n",
              "       param_grid={'n_estimators': array([ 500,  600,  700,  800,  900, 1000, 1100, 1200, 1300, 1400]), 'max_features': array([2, 4, 6]), 'max_depth': array([1, 2]), 'random_state': [235]},\n",
              "       pre_dispatch='2*n_jobs', refit=True, return_train_score='warn',\n",
              "       scoring='roc_auc', verbose=1)"
            ]
          },
          "metadata": {
            "tags": []
          },
          "execution_count": 10
        }
      ]
    },
    {
      "metadata": {
        "id": "lmh7thDbI6NQ",
        "colab_type": "code",
        "outputId": "abd102d5-1ce6-4a59-e9c5-cc329ce492e2",
        "colab": {
          "base_uri": "https://localhost:8080/",
          "height": 34
        }
      },
      "cell_type": "code",
      "source": [
        "rnd_clf_grid = rf_Grid.best_estimator_\n",
        "rnd_clf_grid_params = rf_Grid.best_params_\n",
        "print('Best parameters from Grid Search {}'.format(rnd_clf_grid_params))"
      ],
      "execution_count": 11,
      "outputs": [
        {
          "output_type": "stream",
          "text": [
            "Best parameters from Grid Search {'max_depth': 2, 'max_features': 6, 'n_estimators': 800, 'random_state': 235}\n"
          ],
          "name": "stdout"
        }
      ]
    },
    {
      "metadata": {
        "id": "G3jjuOcnkY4E",
        "colab_type": "text"
      },
      "cell_type": "markdown",
      "source": [
        "The optimised random forest is created using from best estimator object, which is the model which uses the optimum  hyper-parameter values, shown above."
      ]
    },
    {
      "metadata": {
        "id": "ExqhUwGXBz6g",
        "colab_type": "code",
        "outputId": "07ca96f1-ff20-40c0-c01b-dd19fc43bbdf",
        "colab": {
          "base_uri": "https://localhost:8080/",
          "height": 306
        }
      },
      "cell_type": "code",
      "source": [
        "yhat_rf_grid_train = rnd_clf_grid.predict(X_train.values)\n",
        "yhat_rf_grid_test = rnd_clf_grid.predict(X_test.values)\n",
        "\n",
        "yhat_rf_grid_train_prob = rnd_clf_grid.predict_proba(X_train.values)\n",
        "yhat_rf_grid_test_prob = rnd_clf_grid.predict_proba(X_test.values)\n",
        "\n",
        "rf_grid_score_train = rnd_clf_grid.score(X_train, y_train)\n",
        "rf_clf_grid_score = rnd_clf_grid.score(X_test, y_test)\n",
        "\n",
        "class_report_grid = (classification_report(y_test, yhat_rf_grid_test))\n",
        "conf_mx_grid = (confusion_matrix(y_test, yhat_rf_grid_test))\n",
        "\n",
        "print('Model Score Train: {}'.format(round(rf_grid_score_train, 4)))\n",
        "print('Model Score Test: {}'.format(round(rf_clf_grid_score, 4)))\n",
        "print('\\nConfusion Matrix\\n{}'.format(conf_mx_grid))\n",
        "print('\\nClassification Report\\n{}'.format(class_report_grid))"
      ],
      "execution_count": 12,
      "outputs": [
        {
          "output_type": "stream",
          "text": [
            "Model Score Train: 0.8089\n",
            "Model Score Test: 0.8078\n",
            "\n",
            "Confusion Matrix\n",
            "[[6845  139]\n",
            " [1591  425]]\n",
            "\n",
            "Classification Report\n",
            "              precision    recall  f1-score   support\n",
            "\n",
            "           0       0.81      0.98      0.89      6984\n",
            "           1       0.75      0.21      0.33      2016\n",
            "\n",
            "   micro avg       0.81      0.81      0.81      9000\n",
            "   macro avg       0.78      0.60      0.61      9000\n",
            "weighted avg       0.80      0.81      0.76      9000\n",
            "\n"
          ],
          "name": "stdout"
        }
      ]
    },
    {
      "metadata": {
        "id": "mZwMxCtur7S4",
        "colab_type": "code",
        "outputId": "2ac1860e-d8e2-4c4e-dce5-fa8195e5e7fa",
        "colab": {
          "base_uri": "https://localhost:8080/",
          "height": 284
        }
      },
      "cell_type": "code",
      "source": [
        "make_heat_map(conf_mx_grid)"
      ],
      "execution_count": 13,
      "outputs": [
        {
          "output_type": "display_data",
          "data": {
            "image/png": "[encoded data removed]",
            "text/plain": [
              "<matplotlib.figure.Figure at 0x7f37e1ed1f28>"
            ]
          },
          "metadata": {
            "tags": []
          }
        },
        {
          "output_type": "display_data",
          "data": {
            "text/plain": [
              "<matplotlib.figure.Figure at 0x7f37e1ed1cf8>"
            ]
          },
          "metadata": {
            "tags": []
          }
        }
      ]
    },
    {
      "metadata": {
        "id": "hlxIi6bM47jJ",
        "colab_type": "text"
      },
      "cell_type": "markdown",
      "source": [
        "The model score a small increase in performance all around."
      ]
    },
    {
      "metadata": {
        "id": "VPe2vUUYJq5K",
        "colab_type": "code",
        "outputId": "01b4f3c6-e56e-48e6-9e03-33cd6edab1da",
        "colab": {
          "base_uri": "https://localhost:8080/",
          "height": 317
        }
      },
      "cell_type": "code",
      "source": [
        "rf_grid_aucroc = roc_auc_score(y_test, yhat_rf_grid_test_prob[:,1])\n",
        "print('Area Under the ROC: {}'.format(round(rf_grid_aucroc, 4)))\n",
        "\n",
        "create_roc_plot(y_test, yhat_rf_grid_test_prob[:,1])"
      ],
      "execution_count": 14,
      "outputs": [
        {
          "output_type": "stream",
          "text": [
            "Area Under the ROC: 0.7744\n"
          ],
          "name": "stdout"
        },
        {
          "output_type": "display_data",
          "data": {
            "image/png": "[encoded data removed]",
            "text/plain": [
              "<matplotlib.figure.Figure at 0x7f37ddda3390>"
            ]
          },
          "metadata": {
            "tags": []
          }
        }
      ]
    },
    {
      "metadata": {
        "id": "8BkTgTLs5JvL",
        "colab_type": "text"
      },
      "cell_type": "markdown",
      "source": [
        "Again the increase in performance measured by the auc roc is minor but definitely an improvement."
      ]
    },
    {
      "metadata": {
        "id": "DuUNbqU7Eu_v",
        "colab_type": "code",
        "outputId": "cc496907-e575-4a4e-e927-78d40e60e239",
        "colab": {
          "base_uri": "https://localhost:8080/",
          "height": 469
        }
      },
      "cell_type": "code",
      "source": [
        "get_top_importances(rnd_clf_grid, predictors, n=10)"
      ],
      "execution_count": 15,
      "outputs": [
        {
          "output_type": "stream",
          "text": [
            "Top 10 Feature ranking:\n",
            "Predictor: PAY_0 (0.3626)\n",
            "Predictor: PAY_2 (0.2311)\n",
            "Predictor: PAY_3 (0.1259)\n",
            "Predictor: PAY_4 (0.097)\n",
            "Predictor: PAY_5 (0.0732)\n",
            "Predictor: LIMIT_BAL (0.0137)\n",
            "Predictor: EDUCATION (0.0001)\n",
            "Predictor: AGE (0.0001)\n",
            "Predictor: MARRIAGE (0.0)\n",
            "Predictor: SEX (0.0)\n"
          ],
          "name": "stdout"
        },
        {
          "output_type": "display_data",
          "data": {
            "image/png": "[encoded data removed]",
            "text/plain": [
              "<matplotlib.figure.Figure at 0x7f37ddec1f60>"
            ]
          },
          "metadata": {
            "tags": []
          }
        }
      ]
    },
    {
      "metadata": {
        "id": "Il-ChxUE5joP",
        "colab_type": "text"
      },
      "cell_type": "markdown",
      "source": [
        "The feature ranking of the optimised model definitely has definitely improvement. The first 5 features are now heavily weighted in importance. An interesting conclusion is that it is really important to get the age and all of the payment variables for accurate predictions. In the model using the default parameters the importance is spread across the predictions.\n",
        "\n",
        "Overall the model built using the gridsearch hyper-parameter does perform better, but not by much. Some of the optimal values are default parameters, not surprisingly, such as bootstrap. The max features is limited in the grid search but the n_estimators is much greater than the default. This \n",
        "\n",
        "{'max_features': 6, 'n_estimators': 500, 'bootstrap': True, 'max_depth': 6, 'random_state': 0}"
      ]
    },
    {
      "metadata": {
        "id": "sjjxAOnpDRBO",
        "colab_type": "text"
      },
      "cell_type": "markdown",
      "source": [
        "## RandomSearchCV\n",
        "\n",
        "Next the RandomSearchCV method is used to tune the Random Forest Model. The ranges and "
      ]
    },
    {
      "metadata": {
        "id": "7aPhbWlmDQX3",
        "colab_type": "code",
        "colab": {
          "base_uri": "https://localhost:8080/",
          "height": 343
        },
        "outputId": "6c7d5647-b1b0-4fc3-af50-55d420f4459d"
      },
      "cell_type": "code",
      "source": [
        "#create a dictionary of parameters \n",
        "n_estimators = np.arange(500,1500,10)\n",
        "max_feats = np.arange(2,8,1)\n",
        "max_depth = np.arange(1,3,1)\n",
        "n_iter = 200\n",
        "\n",
        "param_rand = {\n",
        "              'n_estimators':n_estimators\n",
        "              ,'max_features':max_feats\n",
        "              ,'max_depth':max_depth\n",
        "              ,'random_state':[235]\n",
        "            }\n",
        "\n",
        "\n",
        "\n",
        "\n",
        "# create Random Forest model \n",
        "rf_obj=RandomForestClassifier()\n",
        "\n",
        "# Create gridsearch object with various combinations of parameters\n",
        "rf_Rand = RandomizedSearchCV(rf_obj\n",
        "                            , param_rand\n",
        "                            , n_iter = n_iter\n",
        "                            , cv = 3\n",
        "                            , scoring = 'roc_auc'\n",
        "                            , refit = True\n",
        "                            , n_jobs=-1\n",
        "                            , verbose = 1)\n",
        "\n",
        "rf_Rand.fit(X_train, y_train)"
      ],
      "execution_count": 17,
      "outputs": [
        {
          "output_type": "stream",
          "text": [
            "Fitting 3 folds for each of 200 candidates, totalling 600 fits\n"
          ],
          "name": "stdout"
        },
        {
          "output_type": "stream",
          "text": [
            "[Parallel(n_jobs=-1)]: Using backend LokyBackend with 2 concurrent workers.\n",
            "[Parallel(n_jobs=-1)]: Done  46 tasks      | elapsed:  3.6min\n",
            "[Parallel(n_jobs=-1)]: Done 196 tasks      | elapsed: 15.8min\n",
            "[Parallel(n_jobs=-1)]: Done 446 tasks      | elapsed: 37.0min\n",
            "[Parallel(n_jobs=-1)]: Done 600 out of 600 | elapsed: 49.9min finished\n"
          ],
          "name": "stderr"
        },
        {
          "output_type": "execute_result",
          "data": {
            "text/plain": [
              "RandomizedSearchCV(cv=3, error_score='raise-deprecating',\n",
              "          estimator=RandomForestClassifier(bootstrap=True, class_weight=None, criterion='gini',\n",
              "            max_depth=None, max_features='auto', max_leaf_nodes=None,\n",
              "            min_impurity_decrease=0.0, min_impurity_split=None,\n",
              "            min_samples_leaf=1, min_samples_split=2,\n",
              "            min_weight_fraction_leaf=0.0, n_estimators='warn', n_jobs=None,\n",
              "            oob_score=False, random_state=None, verbose=0,\n",
              "            warm_start=False),\n",
              "          fit_params=None, iid='warn', n_iter=200, n_jobs=-1,\n",
              "          param_distributions={'n_estimators': array([ 500,  510, ..., 1480, 1490]), 'max_features': array([2, 3, 4, 5, 6, 7]), 'max_depth': array([1, 2]), 'random_state': [235]},\n",
              "          pre_dispatch='2*n_jobs', random_state=None, refit=True,\n",
              "          return_train_score='warn', scoring='roc_auc', verbose=1)"
            ]
          },
          "metadata": {
            "tags": []
          },
          "execution_count": 17
        }
      ]
    },
    {
      "metadata": {
        "id": "cQo6REZ8KFpa",
        "colab_type": "code",
        "colab": {
          "base_uri": "https://localhost:8080/",
          "height": 34
        },
        "outputId": "a1163e2a-35fb-4fdf-8ca5-704a164c1d4a"
      },
      "cell_type": "code",
      "source": [
        "rnd_clf_rand = rf_Rand.best_estimator_\n",
        "rnd_clf_rand_params = rf_Rand.best_params_\n",
        "print('Best parameters from Grid Search {}'.format(rnd_clf_rand_params))"
      ],
      "execution_count": 18,
      "outputs": [
        {
          "output_type": "stream",
          "text": [
            "Best parameters from Grid Search {'random_state': 235, 'n_estimators': 1100, 'max_features': 5, 'max_depth': 2}\n"
          ],
          "name": "stdout"
        }
      ]
    },
    {
      "metadata": {
        "id": "ngJKzzhCKNBj",
        "colab_type": "code",
        "colab": {
          "base_uri": "https://localhost:8080/",
          "height": 306
        },
        "outputId": "6451e96b-515b-4df6-ccc3-4f710e2e7e4c"
      },
      "cell_type": "code",
      "source": [
        "yhat_rf_rand_train = rnd_clf_rand.predict(X_train.values)\n",
        "yhat_rf_rand_test = rnd_clf_rand.predict(X_test.values)\n",
        "\n",
        "yhat_rf_rand_train_prob = rnd_clf_rand.predict_proba(X_train.values)\n",
        "yhat_rf_rand_test_prob = rnd_clf_rand.predict_proba(X_test.values)\n",
        "\n",
        "rf_rand_score_train = rnd_clf_rand.score(X_train, y_train)\n",
        "rf_clf_rad_score = rnd_clf_rand.score(X_test, y_test)\n",
        "\n",
        "class_report_rand = (classification_report(y_test, yhat_rf_rand_test))\n",
        "conf_mx_rand = (confusion_matrix(y_test, yhat_rf_rand_test))\n",
        "\n",
        "print('Model Score Train: {}'.format(round(rf_rand_score_train, 4)))\n",
        "print('Model Score Test: {}'.format(round(rf_clf_rad_score, 4)))\n",
        "print('\\nConfusion Matrix\\n{}'.format(conf_mx_rand))\n",
        "print('\\nClassification Report\\n{}'.format(class_report_rand))"
      ],
      "execution_count": 21,
      "outputs": [
        {
          "output_type": "stream",
          "text": [
            "Model Score Train: 0.8068\n",
            "Model Score Test: 0.8047\n",
            "\n",
            "Confusion Matrix\n",
            "[[6855  129]\n",
            " [1629  387]]\n",
            "\n",
            "Classification Report\n",
            "              precision    recall  f1-score   support\n",
            "\n",
            "           0       0.81      0.98      0.89      6984\n",
            "           1       0.75      0.19      0.31      2016\n",
            "\n",
            "   micro avg       0.80      0.80      0.80      9000\n",
            "   macro avg       0.78      0.59      0.60      9000\n",
            "weighted avg       0.80      0.80      0.76      9000\n",
            "\n"
          ],
          "name": "stdout"
        }
      ]
    },
    {
      "metadata": {
        "id": "lIQ-3aPXEAns",
        "colab_type": "code",
        "colab": {}
      },
      "cell_type": "code",
      "source": [
        "!jupyter nbconvert --to html '$NOTEBOOK_FILE';"
      ],
      "execution_count": 0,
      "outputs": []
    }
  ]
}